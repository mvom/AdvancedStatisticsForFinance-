{
 "cells": [
  {
   "cell_type": "markdown",
   "metadata": {
    "id": "MRflG5kTQU07"
   },
   "source": [
    "---\n",
    "# Classification of Biomedical Texts with Deep Learning: LSTM, GRU, and Self-Attention\n",
    "\n",
    "---"
   ]
  },
  {
   "cell_type": "markdown",
   "metadata": {
    "id": "ahp61AK4QVvg"
   },
   "source": [
    "In this section, we leverage PubMedBERT to generate contextualized embeddings and GloVe (300-dimensional) for static word representations. We further integrate a Bahdanau attention mechanism within a bidirectional GRU-based architecture to enhance the model’s ability to focus on relevant textual features."
   ]
  },
  {
   "cell_type": "code",
   "execution_count": null,
   "metadata": {
    "id": "LkvBUd6GQRqV"
   },
   "outputs": [],
   "source": [
    "import pandas as pd\n",
    "import nltk\n",
    "import pickle\n",
    "import random\n",
    "from collections import defaultdict\n",
    "from collections import Counter\n",
    "import os\n",
    "import time\n",
    "import re\n",
    "\n",
    "from tqdm import tqdm\n",
    "import numpy as np\n",
    "import torch\n",
    "import wandb\n",
    "\n",
    "import matplotlib.pyplot as plt\n",
    "from sklearn.metrics import precision_score\n",
    "import seaborn as sns\n",
    "\n",
    "import torch\n",
    "import torch.nn as nn\n",
    "from collections import Counter\n",
    "import torch.optim as optim\n",
    "from google.colab import files\n",
    "from google.colab import drive\n",
    "from torch.optim.lr_scheduler import ReduceLROnPlateau\n",
    "from torch.utils.data import Dataset, DataLoader\n",
    "from torch.optim.lr_scheduler import ReduceLROnPlateau\n",
    "from torch.utils.data.dataset import ConcatDataset\n",
    "from sklearn.metrics import accuracy_score, f1_score\n",
    "from sklearn.model_selection import train_test_split\n",
    "from torch.utils.data import DataLoader, TensorDataset\n",
    "from sklearn.preprocessing import LabelEncoder\n",
    "from torch.nn.utils.rnn import pad_sequence\n",
    "\n",
    "from transformers import AutoTokenizer, AutoModel\n",
    "from sklearn.metrics import accuracy_score, f1_score\n",
    "from torch.optim.lr_scheduler import StepLR\n",
    "\n",
    "from sklearn.preprocessing import label_binarize\n",
    "from nltk.corpus import stopwords\n",
    "from sklearn.metrics import f1_score, confusion_matrix, balanced_accuracy_score, precision_score, recall_score\n",
    "from sklearn.metrics import classification_report, confusion_matrix, ConfusionMatrixDisplay"
   ]
  },
  {
   "cell_type": "code",
   "execution_count": null,
   "metadata": {
    "id": "kO9NQpj1QbQ8"
   },
   "outputs": [],
   "source": [
    "# To ensure reproducibility of the results\n",
    "SEED = 200\n",
    "random.seed(SEED)\n",
    "np.random.seed(SEED)\n",
    "torch.manual_seed(SEED)\n",
    "torch.cuda.manual_seed(SEED)\n",
    "torch.backends.cudnn.deterministic = True\n",
    "device = torch.device(\"cuda\" if torch.cuda.is_available() else \"cpu\")"
   ]
  },
  {
   "cell_type": "code",
   "execution_count": null,
   "metadata": {
    "colab": {
     "base_uri": "https://localhost:8080/"
    },
    "id": "04G-BkPNQbNi",
    "outputId": "9296bcd1-7a4d-4f61-94f7-3bbba3dc6534"
   },
   "outputs": [
    {
     "name": "stdout",
     "output_type": "stream",
     "text": [
      "Mounted at /content/drive\n"
     ]
    }
   ],
   "source": [
    "drive.mount('/content/drive')"
   ]
  },
  {
   "cell_type": "code",
   "execution_count": null,
   "metadata": {
    "colab": {
     "base_uri": "https://localhost:8080/",
     "height": 728
    },
    "id": "K5ABlrsdQbF-",
    "outputId": "637140f2-4824-4e11-f20e-fe4a6e6def68"
   },
   "outputs": [
    {
     "name": "stdout",
     "output_type": "stream",
     "text": [
      "<class 'pandas.core.frame.DataFrame'>\n",
      "RangeIndex: 38652 entries, 0 to 38651\n",
      "Data columns (total 10 columns):\n",
      " #   Column              Non-Null Count  Dtype \n",
      "---  ------              --------------  ----- \n",
      " 0   PMID                38652 non-null  int64 \n",
      " 1   Title               38652 non-null  object\n",
      " 2   Abstract            38652 non-null  object\n",
      " 3   Keywords            38652 non-null  object\n",
      " 4   PublicationYear     38652 non-null  int64 \n",
      " 5   MeSH_Terms          38652 non-null  object\n",
      " 6   Cleaned_Abstract    38652 non-null  object\n",
      " 7   Disease             38652 non-null  object\n",
      " 8   Top_Relevant_Words  38652 non-null  object\n",
      " 9   Label               38652 non-null  int64 \n",
      "dtypes: int64(3), object(7)\n",
      "memory usage: 2.9+ MB\n",
      "None\n",
      "\n"
     ]
    },
    {
     "data": {
      "text/html": [
       "<div>\n",
       "<style scoped>\n",
       "    .dataframe tbody tr th:only-of-type {\n",
       "        vertical-align: middle;\n",
       "    }\n",
       "\n",
       "    .dataframe tbody tr th {\n",
       "        vertical-align: top;\n",
       "    }\n",
       "\n",
       "    .dataframe thead th {\n",
       "        text-align: right;\n",
       "    }\n",
       "</style>\n",
       "<table border=\"1\" class=\"dataframe\">\n",
       "  <thead>\n",
       "    <tr style=\"text-align: right;\">\n",
       "      <th></th>\n",
       "      <th>count</th>\n",
       "    </tr>\n",
       "    <tr>\n",
       "      <th>Label</th>\n",
       "      <th></th>\n",
       "    </tr>\n",
       "  </thead>\n",
       "  <tbody>\n",
       "    <tr>\n",
       "      <th>6</th>\n",
       "      <td>4730</td>\n",
       "    </tr>\n",
       "    <tr>\n",
       "      <th>7</th>\n",
       "      <td>4658</td>\n",
       "    </tr>\n",
       "    <tr>\n",
       "      <th>1</th>\n",
       "      <td>4639</td>\n",
       "    </tr>\n",
       "    <tr>\n",
       "      <th>0</th>\n",
       "      <td>4636</td>\n",
       "    </tr>\n",
       "    <tr>\n",
       "      <th>4</th>\n",
       "      <td>4550</td>\n",
       "    </tr>\n",
       "    <tr>\n",
       "      <th>8</th>\n",
       "      <td>4503</td>\n",
       "    </tr>\n",
       "    <tr>\n",
       "      <th>5</th>\n",
       "      <td>4452</td>\n",
       "    </tr>\n",
       "    <tr>\n",
       "      <th>2</th>\n",
       "      <td>3883</td>\n",
       "    </tr>\n",
       "    <tr>\n",
       "      <th>3</th>\n",
       "      <td>2601</td>\n",
       "    </tr>\n",
       "  </tbody>\n",
       "</table>\n",
       "</div><br><label><b>dtype:</b> int64</label>"
      ],
      "text/plain": [
       "Label\n",
       "6    4730\n",
       "7    4658\n",
       "1    4639\n",
       "0    4636\n",
       "4    4550\n",
       "8    4503\n",
       "5    4452\n",
       "2    3883\n",
       "3    2601\n",
       "Name: count, dtype: int64"
      ]
     },
     "execution_count": 4,
     "metadata": {},
     "output_type": "execute_result"
    }
   ],
   "source": [
    "data = pd.read_csv('/content/drive/MyDrive/diseases_dataset.csv')\n",
    "\n",
    "print(data.info())\n",
    "print()\n",
    "\n",
    "data[\"Label\"].value_counts()"
   ]
  },
  {
   "cell_type": "code",
   "execution_count": null,
   "metadata": {
    "colab": {
     "base_uri": "https://localhost:8080/"
    },
    "id": "xaIfPUpnQbCn",
    "outputId": "7fff4f46-7e8c-45b0-a981-833377a20eb3"
   },
   "outputs": [
    {
     "name": "stdout",
     "output_type": "stream",
     "text": [
      "PMID                  0\n",
      "Title                 0\n",
      "Abstract              0\n",
      "Keywords              0\n",
      "PublicationYear       0\n",
      "MeSH_Terms            0\n",
      "Cleaned_Abstract      0\n",
      "Disease               0\n",
      "Top_Relevant_Words    0\n",
      "Label                 0\n",
      "dtype: int64\n"
     ]
    }
   ],
   "source": [
    "print(data.isna().sum())"
   ]
  },
  {
   "cell_type": "code",
   "execution_count": null,
   "metadata": {
    "colab": {
     "base_uri": "https://localhost:8080/",
     "height": 310
    },
    "id": "KJI1YBkdQh5a",
    "outputId": "00be7ccc-fe0c-4fb7-faf4-07db6eb7f38e"
   },
   "outputs": [
    {
     "data": {
      "application/vnd.google.colaboratory.intrinsic+json": {
       "summary": "{\n  \"name\": \"data\",\n  \"rows\": 5,\n  \"fields\": [\n    {\n      \"column\": \"PMID\",\n      \"properties\": {\n        \"dtype\": \"number\",\n        \"std\": 3012159,\n        \"min\": 32325950,\n        \"max\": 39664903,\n        \"num_unique_values\": 5,\n        \"samples\": [\n          37547521,\n          32325950,\n          39584999\n        ],\n        \"semantic_type\": \"\",\n        \"description\": \"\"\n      }\n    },\n    {\n      \"column\": \"Title\",\n      \"properties\": {\n        \"dtype\": \"string\",\n        \"num_unique_values\": 5,\n        \"samples\": [\n          \"Clinicopathologic Spectrum of Lysozyme-Associated Nephropathy.\",\n          \"Pathogenesis of Uveitis in Ebola Virus Disease Survivors: Evolving Understanding from Outbreaks to Animal Models.\",\n          \"Cystic Fibrosis Screening Efficacy and Seasonal Variation in California: 15-Year Comparison of IRT Cutoffs Versus Daily Percentile for First-Tier Testing.\"\n        ],\n        \"semantic_type\": \"\",\n        \"description\": \"\"\n      }\n    },\n    {\n      \"column\": \"Abstract\",\n      \"properties\": {\n        \"dtype\": \"string\",\n        \"num_unique_values\": 5,\n        \"samples\": [\n          \"INTRODUCTION: Lysozyme-associated nephropathy (LyN), a rare cause of kidney injury in patients with chronic myelomonocytic leukemia (CMML), has not been well described to date. We report the clinicopathologic spectrum of LyN from a multi-institutional series. METHOD: We identified 37 native kidney biopsies with LyN and retrospectively obtained clinicopathologic data. RESULTS: Thirty-seven patients had a median age of 74 years and included 78% males. Their most common presentation was acute kidney injury (AKI) or AKI on chronic kidney disease (CKD) (66%) with median estimated glomerular filtration rate (eGFR) of 21.7 ml/min per 1.73 m(2), and proteinuria of 1.7 g. A minority (15%) had partial Fanconi syndrome. Serum lysozyme levels were elevated in all tested. Hematologic disorder (n = 28, 76%) was the most common etiology, including CMML (n = 15), acute myeloid leukemia (n = 5), and myelodysplastic syndrome (MDS) (n = 5). Nonhematologic causes (n = 5, 14%), included metastatic neuroendocrine carcinoma (n = 3), sarcoidosis, and leprosy. Etiology was unknown in 4 (11%). Pathology showed proximal tubulopathy with abundant hypereosinophilic intracytoplasmic inclusions, with characteristic staining pattern by lysozyme immunostain. Mortality was high (8/30). However, among the 22 alive, including 85% treated, 7 had improved kidney function, including 1 who discontinued dialysis and 6 with increase in eGFR >15 ml/min per 1.73 m(2) compared with eGFR at the time of biopsy. CONCLUSION: Increased awareness of the full clinicopathologic spectrum of LyN may lead to prompt diagnosis, earlier treatment, and potentially improved outcome of this rare entity.\",\n          \"Ebola virus disease (EVD) and emerging infectious disease threats continue to threaten life, prosperity and global health security. To properly counteract EVD, an improved understanding of the long-term impact of recent EVD outbreaks in West Africa and the Democratic Republic of Congo are needed. In the wake of recent outbreaks, numerous health sequelae were identified in EVD survivors. These findings include joint pains, headaches, myalgias, and uveitis, a vision-threatening inflammatory condition of the eye. Retrospective and more recent prospective studies of EVD survivors from West Africa have demonstrated that uveitis may occur in 13-34% of patients with an increase in prevalence from baseline to 12-month follow-up. The clinical spectrum of disease ranges from mild, anterior uveitis to severe, sight-threatening panuveitis. Untreated inflammation may ultimately lead to secondary complications of cataract and posterior synechiae, with resultant vision impairment. The identification of Ebola virus persistence in immune privileged organs, such as the eye, with subsequent tissue inflammation and edema may lead to vision loss. Non-human primate models of EVD have demonstrated tissue localization to the eye including macrophage reservoirs within the vitreous matter. Moreover, in vitro models of Ebola virus have shown permissiveness in retinal pigment epithelial cells, potentially contributing to viral persistence. Broad perspectives from epidemiologic studies of the outbreak, animal modeling, and immunologic studies of EVD survivors have demonstrated the spectrum of the eye disease, tissue specificity of Ebola virus infection, and antigen-specific immunologic response. Further studies in these areas will elucidate the mechanisms of this highly prevalent disease with the potential for improved therapeutics for Ebola virus in immune-privileged sites.\",\n          \"The California Genetic Disease Screening Program (GDSP) employs a fixed immunoreactive trypsinogen (IRT) cutoff followed by molecular testing to screen newborns for cystic fibrosis (CF). The cutoffs approximate a 1.6% yearly IRT screen-positive rate; however, seasonal variation in IRT population means has led us to develop a model to establish fixed IRT cutoffs that anticipate seasonal variation and minimize missed cases below cutoff. We utilized an ARIMA model to fit monthly IRT screen-positive percentiles and estimated regular seasonal expectations. We established a retrospective cohort followed for at least 1.5 years to capture missed false-negative CF cases. We compared missed CF cases identified by seasonal cutoffs vs. floating cutoffs. GDSP screened 7,410,003 newborns, from July 2007 to December 2022, and missed 36 CF cases below the fixed cutoff; five of the 36 were within 3 ng/mL below the cutoff. There was a regular, seasonal cycle that varied from 1.4% in summer to 1.8% in winter. We would have missed 59 CF cases using a 1.6% daily floating cutoff. California would need to use a 4% daily floating cutoff to improve our current detection rate, which would double the number of specimens sent for costly molecular analysis.\"\n        ],\n        \"semantic_type\": \"\",\n        \"description\": \"\"\n      }\n    },\n    {\n      \"column\": \"Keywords\",\n      \"properties\": {\n        \"dtype\": \"string\",\n        \"num_unique_values\": 5,\n        \"samples\": [\n          \"['chronic myelomonocytic leukemia', 'granulomas', 'kidney biopsy', 'lysozyme', 'lysozyme induced nephropathy', 'proximal tubulopathy']\",\n          \"['Ebola virus disease', 'animal models', 'emerging infectious diseases', 'outbreaks', 'uveitis']\",\n          \"['CF', 'DNA', 'IRT', 'cystic fibrosis', 'false negative', 'fixed cutoff', 'floating cutoff', 'newborn screening']\"\n        ],\n        \"semantic_type\": \"\",\n        \"description\": \"\"\n      }\n    },\n    {\n      \"column\": \"PublicationYear\",\n      \"properties\": {\n        \"dtype\": \"number\",\n        \"std\": 1,\n        \"min\": 2020,\n        \"max\": 2024,\n        \"num_unique_values\": 4,\n        \"samples\": [\n          2023,\n          2020,\n          2022\n        ],\n        \"semantic_type\": \"\",\n        \"description\": \"\"\n      }\n    },\n    {\n      \"column\": \"MeSH_Terms\",\n      \"properties\": {\n        \"dtype\": \"category\",\n        \"num_unique_values\": 2,\n        \"samples\": [\n          \"[]\",\n          \"['Humans', '*Military Personnel', 'Poland', 'Travel', 'Vaccination', '*Vaccines']\"\n        ],\n        \"semantic_type\": \"\",\n        \"description\": \"\"\n      }\n    },\n    {\n      \"column\": \"Cleaned_Abstract\",\n      \"properties\": {\n        \"dtype\": \"string\",\n        \"num_unique_values\": 5,\n        \"samples\": [\n          \"introduction lysozyme associated nephropathy lyn , rare cause kidney injury patient chronic myelomonocytic leukemia cmml , well described date report clinicopathologic spectrum lyn multi institutional series method identified 37 native kidney biopsy lyn retrospectively obtained clinicopathologic data result thirty seven patient median age 74 year included 78% male common presentation acute kidney injury aki aki chronic kidney disease ckd 66% median estimated glomerular filtration rate egfr 21 7 ml min per 1 73 2 , proteinuria 1 7 g minority 15% partial fanconi syndrome serum lysozyme level elevated tested hematologic disorder n = 28, 76% common etiology, including cmml n = 15 , acute myeloid leukemia n = 5 , myelodysplastic syndrome md n = 5 nonhematologic cause n = 5, 14% , included metastatic neuroendocrine carcinoma n = 3 , sarcoidosis, leprosy etiology unknown 4 11% pathology showed proximal tubulopathy abundant hypereosinophilic intracytoplasmic inclusions, characteristic staining pattern lysozyme immunostain mortality high 8 30 however, among 22 alive, including 85% treated, 7 improved kidney function, including 1 discontinued dialysis 6 increase egfr >15 ml min per 1 73 2 compared egfr time biopsy conclusion increased awareness full clinicopathologic spectrum lyn may lead prompt diagnosis, earlier treatment, potentially improved outcome rare entity\",\n          \"ebola virus disease evd emerging infectious disease threat continue threaten life, prosperity global health security properly counteract evd, improved understanding long term impact recent evd outbreak west africa democratic republic congo needed wake recent outbreaks, numerous health sequela identified evd survivor finding include joint pains, headaches, myalgias, uveitis, vision threatening inflammatory condition eye retrospective recent prospective study evd survivor west africa demonstrated uveitis may occur 13 34% patient increase prevalence baseline 12 month follow clinical spectrum disease range mild, anterior uveitis severe, sight threatening panuveitis untreated inflammation may ultimately lead secondary complication cataract posterior synechiae, resultant vision impairment identification ebola virus persistence immune privileged organs, eye, subsequent tissue inflammation edema may lead vision loss non human primate model evd demonstrated tissue localization eye including macrophage reservoir within vitreous matter moreover, vitro model ebola virus shown permissiveness retinal pigment epithelial cells, potentially contributing viral persistence broad perspective epidemiologic study outbreak, animal modeling, immunologic study evd survivor demonstrated spectrum eye disease, tissue specificity ebola virus infection, antigen specific immunologic response study area elucidate mechanism highly prevalent disease potential improved therapeutic ebola virus immune privileged site\"\n        ],\n        \"semantic_type\": \"\",\n        \"description\": \"\"\n      }\n    },\n    {\n      \"column\": \"Disease\",\n      \"properties\": {\n        \"dtype\": \"string\",\n        \"num_unique_values\": 5,\n        \"samples\": [\n          \"Leprosy\",\n          \"Ebola\"\n        ],\n        \"semantic_type\": \"\",\n        \"description\": \"\"\n      }\n    },\n    {\n      \"column\": \"Top_Relevant_Words\",\n      \"properties\": {\n        \"dtype\": \"string\",\n        \"num_unique_values\": 5,\n        \"samples\": [\n          \"['kidney', 'egfr', 'aki', 'min', '15', 'etiology', 'injury', 'spectrum', '73', 'biopsy', 'ml', 'per', 'rare', 'median', 'syndrome', 'including', 'ckd', 'improved', 'nephropathy', 'sarcoidosis', 'minority', 'leukemia', 'glomerular', 'proximal', 'institutional', 'cause', 'acute', 'discontinued', 'common', 'native', 'proteinuria', 'abundant', 'chronic', 'myelodysplastic', 'carcinoma', 'entity', 'included', 'hematologic', 'partial', 'prompt', 'thirty', 'earlier', 'staining', 'md', 'retrospectively', 'awareness', 'full', 'series', 'date', '74']\",\n          \"['evd', 'eye', 'uveitis', 'ebola', 'vision', 'virus', 'survivor', 'tissue', 'persistence', 'threatening', 'recent', 'demonstrated', 'spectrum', 'west', 'africa', 'disease', 'lead', 'inflammation', 'outbreak', 'may', 'improved', 'epidemiologic', 'security', 'immune', 'primate', 'sequela', 'edema', 'outbreaks', 'study', 'retinal', 'anterior', 'localization', 'posterior', 'reservoir', 'matter', 'democratic', 'untreated', 'congo', 'continue', 'republic', 'joint', 'modeling', 'model', 'ultimately', 'health', 'elucidate', 'broad', 'threat', 'contributing', 'numerous']\"\n        ],\n        \"semantic_type\": \"\",\n        \"description\": \"\"\n      }\n    },\n    {\n      \"column\": \"Label\",\n      \"properties\": {\n        \"dtype\": \"number\",\n        \"std\": 3,\n        \"min\": 0,\n        \"max\": 8,\n        \"num_unique_values\": 5,\n        \"samples\": [\n          2,\n          3\n        ],\n        \"semantic_type\": \"\",\n        \"description\": \"\"\n      }\n    }\n  ]\n}",
       "type": "dataframe"
      },
      "text/html": [
       "\n",
       "  <div id=\"df-72a6fd03-10b4-4a0f-9eb7-a402f6d7b9a8\" class=\"colab-df-container\">\n",
       "    <div>\n",
       "<style scoped>\n",
       "    .dataframe tbody tr th:only-of-type {\n",
       "        vertical-align: middle;\n",
       "    }\n",
       "\n",
       "    .dataframe tbody tr th {\n",
       "        vertical-align: top;\n",
       "    }\n",
       "\n",
       "    .dataframe thead th {\n",
       "        text-align: right;\n",
       "    }\n",
       "</style>\n",
       "<table border=\"1\" class=\"dataframe\">\n",
       "  <thead>\n",
       "    <tr style=\"text-align: right;\">\n",
       "      <th></th>\n",
       "      <th>PMID</th>\n",
       "      <th>Title</th>\n",
       "      <th>Abstract</th>\n",
       "      <th>Keywords</th>\n",
       "      <th>PublicationYear</th>\n",
       "      <th>MeSH_Terms</th>\n",
       "      <th>Cleaned_Abstract</th>\n",
       "      <th>Disease</th>\n",
       "      <th>Top_Relevant_Words</th>\n",
       "      <th>Label</th>\n",
       "    </tr>\n",
       "  </thead>\n",
       "  <tbody>\n",
       "    <tr>\n",
       "      <th>38647</th>\n",
       "      <td>36360604</td>\n",
       "      <td>Analysis of the Number and Type of Vaccination...</td>\n",
       "      <td>Vaccination is a very common topic, but it is ...</td>\n",
       "      <td>['infectious diseases', 'military (soldiers)',...</td>\n",
       "      <td>2022</td>\n",
       "      <td>['Humans', '*Military Personnel', 'Poland', 'T...</td>\n",
       "      <td>vaccination common topic, rarely raised discus...</td>\n",
       "      <td>Cholera</td>\n",
       "      <td>['vaccination', 'military', 'immunized', 'hepa...</td>\n",
       "      <td>1</td>\n",
       "    </tr>\n",
       "    <tr>\n",
       "      <th>38648</th>\n",
       "      <td>37547521</td>\n",
       "      <td>Clinicopathologic Spectrum of Lysozyme-Associa...</td>\n",
       "      <td>INTRODUCTION: Lysozyme-associated nephropathy ...</td>\n",
       "      <td>['chronic myelomonocytic leukemia', 'granuloma...</td>\n",
       "      <td>2023</td>\n",
       "      <td>[]</td>\n",
       "      <td>introduction lysozyme associated nephropathy l...</td>\n",
       "      <td>Leprosy</td>\n",
       "      <td>['kidney', 'egfr', 'aki', 'min', '15', 'etiolo...</td>\n",
       "      <td>2</td>\n",
       "    </tr>\n",
       "    <tr>\n",
       "      <th>38649</th>\n",
       "      <td>39584999</td>\n",
       "      <td>Cystic Fibrosis Screening Efficacy and Seasona...</td>\n",
       "      <td>The California Genetic Disease Screening Progr...</td>\n",
       "      <td>['CF', 'DNA', 'IRT', 'cystic fibrosis', 'false...</td>\n",
       "      <td>2024</td>\n",
       "      <td>[]</td>\n",
       "      <td>california genetic disease screening program g...</td>\n",
       "      <td>Cystic Fibrosis</td>\n",
       "      <td>['cutoff', 'irt', 'seasonal', 'missed', 'cf', ...</td>\n",
       "      <td>8</td>\n",
       "    </tr>\n",
       "    <tr>\n",
       "      <th>38650</th>\n",
       "      <td>39664903</td>\n",
       "      <td>Induction of CD4 T cell memory responses follo...</td>\n",
       "      <td>Mycobacterium bovis, the causative agent of bo...</td>\n",
       "      <td>['BCG', 'CD4', 'T helper 1', 'cattle', 'immuno...</td>\n",
       "      <td>2024</td>\n",
       "      <td>[]</td>\n",
       "      <td>mycobacterium bovis, causative agent bovine tu...</td>\n",
       "      <td>Tuberculosis</td>\n",
       "      <td>['btb', 'bcg', 'bovis', 'vaccine', 'cattle', '...</td>\n",
       "      <td>0</td>\n",
       "    </tr>\n",
       "    <tr>\n",
       "      <th>38651</th>\n",
       "      <td>32325950</td>\n",
       "      <td>Pathogenesis of Uveitis in Ebola Virus Disease...</td>\n",
       "      <td>Ebola virus disease (EVD) and emerging infecti...</td>\n",
       "      <td>['Ebola virus disease', 'animal models', 'emer...</td>\n",
       "      <td>2020</td>\n",
       "      <td>[]</td>\n",
       "      <td>ebola virus disease evd emerging infectious di...</td>\n",
       "      <td>Ebola</td>\n",
       "      <td>['evd', 'eye', 'uveitis', 'ebola', 'vision', '...</td>\n",
       "      <td>3</td>\n",
       "    </tr>\n",
       "  </tbody>\n",
       "</table>\n",
       "</div>\n",
       "    <div class=\"colab-df-buttons\">\n",
       "\n",
       "  <div class=\"colab-df-container\">\n",
       "    <button class=\"colab-df-convert\" onclick=\"convertToInteractive('df-72a6fd03-10b4-4a0f-9eb7-a402f6d7b9a8')\"\n",
       "            title=\"Convert this dataframe to an interactive table.\"\n",
       "            style=\"display:none;\">\n",
       "\n",
       "  <svg xmlns=\"http://www.w3.org/2000/svg\" height=\"24px\" viewBox=\"0 -960 960 960\">\n",
       "    <path d=\"M120-120v-720h720v720H120Zm60-500h600v-160H180v160Zm220 220h160v-160H400v160Zm0 220h160v-160H400v160ZM180-400h160v-160H180v160Zm440 0h160v-160H620v160ZM180-180h160v-160H180v160Zm440 0h160v-160H620v160Z\"/>\n",
       "  </svg>\n",
       "    </button>\n",
       "\n",
       "  <style>\n",
       "    .colab-df-container {\n",
       "      display:flex;\n",
       "      gap: 12px;\n",
       "    }\n",
       "\n",
       "    .colab-df-convert {\n",
       "      background-color: #E8F0FE;\n",
       "      border: none;\n",
       "      border-radius: 50%;\n",
       "      cursor: pointer;\n",
       "      display: none;\n",
       "      fill: #1967D2;\n",
       "      height: 32px;\n",
       "      padding: 0 0 0 0;\n",
       "      width: 32px;\n",
       "    }\n",
       "\n",
       "    .colab-df-convert:hover {\n",
       "      background-color: #E2EBFA;\n",
       "      box-shadow: 0px 1px 2px rgba(60, 64, 67, 0.3), 0px 1px 3px 1px rgba(60, 64, 67, 0.15);\n",
       "      fill: #174EA6;\n",
       "    }\n",
       "\n",
       "    .colab-df-buttons div {\n",
       "      margin-bottom: 4px;\n",
       "    }\n",
       "\n",
       "    [theme=dark] .colab-df-convert {\n",
       "      background-color: #3B4455;\n",
       "      fill: #D2E3FC;\n",
       "    }\n",
       "\n",
       "    [theme=dark] .colab-df-convert:hover {\n",
       "      background-color: #434B5C;\n",
       "      box-shadow: 0px 1px 3px 1px rgba(0, 0, 0, 0.15);\n",
       "      filter: drop-shadow(0px 1px 2px rgba(0, 0, 0, 0.3));\n",
       "      fill: #FFFFFF;\n",
       "    }\n",
       "  </style>\n",
       "\n",
       "    <script>\n",
       "      const buttonEl =\n",
       "        document.querySelector('#df-72a6fd03-10b4-4a0f-9eb7-a402f6d7b9a8 button.colab-df-convert');\n",
       "      buttonEl.style.display =\n",
       "        google.colab.kernel.accessAllowed ? 'block' : 'none';\n",
       "\n",
       "      async function convertToInteractive(key) {\n",
       "        const element = document.querySelector('#df-72a6fd03-10b4-4a0f-9eb7-a402f6d7b9a8');\n",
       "        const dataTable =\n",
       "          await google.colab.kernel.invokeFunction('convertToInteractive',\n",
       "                                                    [key], {});\n",
       "        if (!dataTable) return;\n",
       "\n",
       "        const docLinkHtml = 'Like what you see? Visit the ' +\n",
       "          '<a target=\"_blank\" href=https://colab.research.google.com/notebooks/data_table.ipynb>data table notebook</a>'\n",
       "          + ' to learn more about interactive tables.';\n",
       "        element.innerHTML = '';\n",
       "        dataTable['output_type'] = 'display_data';\n",
       "        await google.colab.output.renderOutput(dataTable, element);\n",
       "        const docLink = document.createElement('div');\n",
       "        docLink.innerHTML = docLinkHtml;\n",
       "        element.appendChild(docLink);\n",
       "      }\n",
       "    </script>\n",
       "  </div>\n",
       "\n",
       "\n",
       "<div id=\"df-d04b0ffd-9e59-495d-8537-93f896ba4958\">\n",
       "  <button class=\"colab-df-quickchart\" onclick=\"quickchart('df-d04b0ffd-9e59-495d-8537-93f896ba4958')\"\n",
       "            title=\"Suggest charts\"\n",
       "            style=\"display:none;\">\n",
       "\n",
       "<svg xmlns=\"http://www.w3.org/2000/svg\" height=\"24px\"viewBox=\"0 0 24 24\"\n",
       "     width=\"24px\">\n",
       "    <g>\n",
       "        <path d=\"M19 3H5c-1.1 0-2 .9-2 2v14c0 1.1.9 2 2 2h14c1.1 0 2-.9 2-2V5c0-1.1-.9-2-2-2zM9 17H7v-7h2v7zm4 0h-2V7h2v10zm4 0h-2v-4h2v4z\"/>\n",
       "    </g>\n",
       "</svg>\n",
       "  </button>\n",
       "\n",
       "<style>\n",
       "  .colab-df-quickchart {\n",
       "      --bg-color: #E8F0FE;\n",
       "      --fill-color: #1967D2;\n",
       "      --hover-bg-color: #E2EBFA;\n",
       "      --hover-fill-color: #174EA6;\n",
       "      --disabled-fill-color: #AAA;\n",
       "      --disabled-bg-color: #DDD;\n",
       "  }\n",
       "\n",
       "  [theme=dark] .colab-df-quickchart {\n",
       "      --bg-color: #3B4455;\n",
       "      --fill-color: #D2E3FC;\n",
       "      --hover-bg-color: #434B5C;\n",
       "      --hover-fill-color: #FFFFFF;\n",
       "      --disabled-bg-color: #3B4455;\n",
       "      --disabled-fill-color: #666;\n",
       "  }\n",
       "\n",
       "  .colab-df-quickchart {\n",
       "    background-color: var(--bg-color);\n",
       "    border: none;\n",
       "    border-radius: 50%;\n",
       "    cursor: pointer;\n",
       "    display: none;\n",
       "    fill: var(--fill-color);\n",
       "    height: 32px;\n",
       "    padding: 0;\n",
       "    width: 32px;\n",
       "  }\n",
       "\n",
       "  .colab-df-quickchart:hover {\n",
       "    background-color: var(--hover-bg-color);\n",
       "    box-shadow: 0 1px 2px rgba(60, 64, 67, 0.3), 0 1px 3px 1px rgba(60, 64, 67, 0.15);\n",
       "    fill: var(--button-hover-fill-color);\n",
       "  }\n",
       "\n",
       "  .colab-df-quickchart-complete:disabled,\n",
       "  .colab-df-quickchart-complete:disabled:hover {\n",
       "    background-color: var(--disabled-bg-color);\n",
       "    fill: var(--disabled-fill-color);\n",
       "    box-shadow: none;\n",
       "  }\n",
       "\n",
       "  .colab-df-spinner {\n",
       "    border: 2px solid var(--fill-color);\n",
       "    border-color: transparent;\n",
       "    border-bottom-color: var(--fill-color);\n",
       "    animation:\n",
       "      spin 1s steps(1) infinite;\n",
       "  }\n",
       "\n",
       "  @keyframes spin {\n",
       "    0% {\n",
       "      border-color: transparent;\n",
       "      border-bottom-color: var(--fill-color);\n",
       "      border-left-color: var(--fill-color);\n",
       "    }\n",
       "    20% {\n",
       "      border-color: transparent;\n",
       "      border-left-color: var(--fill-color);\n",
       "      border-top-color: var(--fill-color);\n",
       "    }\n",
       "    30% {\n",
       "      border-color: transparent;\n",
       "      border-left-color: var(--fill-color);\n",
       "      border-top-color: var(--fill-color);\n",
       "      border-right-color: var(--fill-color);\n",
       "    }\n",
       "    40% {\n",
       "      border-color: transparent;\n",
       "      border-right-color: var(--fill-color);\n",
       "      border-top-color: var(--fill-color);\n",
       "    }\n",
       "    60% {\n",
       "      border-color: transparent;\n",
       "      border-right-color: var(--fill-color);\n",
       "    }\n",
       "    80% {\n",
       "      border-color: transparent;\n",
       "      border-right-color: var(--fill-color);\n",
       "      border-bottom-color: var(--fill-color);\n",
       "    }\n",
       "    90% {\n",
       "      border-color: transparent;\n",
       "      border-bottom-color: var(--fill-color);\n",
       "    }\n",
       "  }\n",
       "</style>\n",
       "\n",
       "  <script>\n",
       "    async function quickchart(key) {\n",
       "      const quickchartButtonEl =\n",
       "        document.querySelector('#' + key + ' button');\n",
       "      quickchartButtonEl.disabled = true;  // To prevent multiple clicks.\n",
       "      quickchartButtonEl.classList.add('colab-df-spinner');\n",
       "      try {\n",
       "        const charts = await google.colab.kernel.invokeFunction(\n",
       "            'suggestCharts', [key], {});\n",
       "      } catch (error) {\n",
       "        console.error('Error during call to suggestCharts:', error);\n",
       "      }\n",
       "      quickchartButtonEl.classList.remove('colab-df-spinner');\n",
       "      quickchartButtonEl.classList.add('colab-df-quickchart-complete');\n",
       "    }\n",
       "    (() => {\n",
       "      let quickchartButtonEl =\n",
       "        document.querySelector('#df-d04b0ffd-9e59-495d-8537-93f896ba4958 button');\n",
       "      quickchartButtonEl.style.display =\n",
       "        google.colab.kernel.accessAllowed ? 'block' : 'none';\n",
       "    })();\n",
       "  </script>\n",
       "</div>\n",
       "\n",
       "    </div>\n",
       "  </div>\n"
      ],
      "text/plain": [
       "           PMID                                              Title  \\\n",
       "38647  36360604  Analysis of the Number and Type of Vaccination...   \n",
       "38648  37547521  Clinicopathologic Spectrum of Lysozyme-Associa...   \n",
       "38649  39584999  Cystic Fibrosis Screening Efficacy and Seasona...   \n",
       "38650  39664903  Induction of CD4 T cell memory responses follo...   \n",
       "38651  32325950  Pathogenesis of Uveitis in Ebola Virus Disease...   \n",
       "\n",
       "                                                Abstract  \\\n",
       "38647  Vaccination is a very common topic, but it is ...   \n",
       "38648  INTRODUCTION: Lysozyme-associated nephropathy ...   \n",
       "38649  The California Genetic Disease Screening Progr...   \n",
       "38650  Mycobacterium bovis, the causative agent of bo...   \n",
       "38651  Ebola virus disease (EVD) and emerging infecti...   \n",
       "\n",
       "                                                Keywords  PublicationYear  \\\n",
       "38647  ['infectious diseases', 'military (soldiers)',...             2022   \n",
       "38648  ['chronic myelomonocytic leukemia', 'granuloma...             2023   \n",
       "38649  ['CF', 'DNA', 'IRT', 'cystic fibrosis', 'false...             2024   \n",
       "38650  ['BCG', 'CD4', 'T helper 1', 'cattle', 'immuno...             2024   \n",
       "38651  ['Ebola virus disease', 'animal models', 'emer...             2020   \n",
       "\n",
       "                                              MeSH_Terms  \\\n",
       "38647  ['Humans', '*Military Personnel', 'Poland', 'T...   \n",
       "38648                                                 []   \n",
       "38649                                                 []   \n",
       "38650                                                 []   \n",
       "38651                                                 []   \n",
       "\n",
       "                                        Cleaned_Abstract          Disease  \\\n",
       "38647  vaccination common topic, rarely raised discus...          Cholera   \n",
       "38648  introduction lysozyme associated nephropathy l...          Leprosy   \n",
       "38649  california genetic disease screening program g...  Cystic Fibrosis   \n",
       "38650  mycobacterium bovis, causative agent bovine tu...     Tuberculosis   \n",
       "38651  ebola virus disease evd emerging infectious di...            Ebola   \n",
       "\n",
       "                                      Top_Relevant_Words  Label  \n",
       "38647  ['vaccination', 'military', 'immunized', 'hepa...      1  \n",
       "38648  ['kidney', 'egfr', 'aki', 'min', '15', 'etiolo...      2  \n",
       "38649  ['cutoff', 'irt', 'seasonal', 'missed', 'cf', ...      8  \n",
       "38650  ['btb', 'bcg', 'bovis', 'vaccine', 'cattle', '...      0  \n",
       "38651  ['evd', 'eye', 'uveitis', 'ebola', 'vision', '...      3  "
      ]
     },
     "execution_count": 6,
     "metadata": {},
     "output_type": "execute_result"
    }
   ],
   "source": [
    "data.tail()"
   ]
  },
  {
   "cell_type": "code",
   "execution_count": null,
   "metadata": {
    "colab": {
     "base_uri": "https://localhost:8080/"
    },
    "id": "4t2VJjHfQh11",
    "outputId": "2e791594-c789-4b5c-bb92-a276e830a6ab"
   },
   "outputs": [
    {
     "name": "stdout",
     "output_type": "stream",
     "text": [
      "Training set: 27056 samples\n",
      "Validation set: 5798 samples\n",
      "Test set: 5798 samples\n",
      "9\n"
     ]
    }
   ],
   "source": [
    "X = data[\"Cleaned_Abstract\"].values\n",
    "y = data[\"Label\"].values\n",
    "\n",
    "# Split into training (70%), validation (15%), and test (15%) sets\n",
    "X_train, X_temp, y_train, y_temp = train_test_split(X, y, test_size=0.3, random_state=42)\n",
    "X_val, X_test, y_val, y_test = train_test_split(X_temp, y_temp, test_size=0.5, random_state=42)\n",
    "\n",
    "print(f\"Training set: {len(X_train)} samples\")\n",
    "print(f\"Validation set: {len(X_val)} samples\")\n",
    "print(f\"Test set: {len(X_test)} samples\")\n",
    "\n",
    "NUM_CLASSES = len(set(y))\n",
    "print(NUM_CLASSES)"
   ]
  },
  {
   "cell_type": "code",
   "execution_count": null,
   "metadata": {
    "colab": {
     "base_uri": "https://localhost:8080/"
    },
    "id": "JrbKpS-QQhzC",
    "outputId": "5ad78ec4-6490-4d4a-a34f-e6be0ac085ba"
   },
   "outputs": [
    {
     "name": "stdout",
     "output_type": "stream",
     "text": [
      "Training set class distribution: Counter({np.int64(6): 3352, np.int64(7): 3285, np.int64(1): 3249, np.int64(0): 3215, np.int64(4): 3213, np.int64(8): 3177, np.int64(5): 3064, np.int64(2): 2705, np.int64(3): 1796})\n",
      "Validation set class distribution: Counter({np.int64(7): 711, np.int64(0): 708, np.int64(1): 706, np.int64(5): 680, np.int64(6): 672, np.int64(8): 672, np.int64(4): 666, np.int64(2): 571, np.int64(3): 412})\n",
      "Test set class distribution: Counter({np.int64(0): 713, np.int64(5): 708, np.int64(6): 706, np.int64(1): 684, np.int64(4): 671, np.int64(7): 662, np.int64(8): 654, np.int64(2): 607, np.int64(3): 393})\n"
     ]
    }
   ],
   "source": [
    "print(\"Training set class distribution:\", Counter(y_train))\n",
    "print(\"Validation set class distribution:\", Counter(y_val))\n",
    "print(\"Test set class distribution:\", Counter(y_test))"
   ]
  },
  {
   "cell_type": "markdown",
   "metadata": {
    "id": "RXQLbPNFUMOi"
   },
   "source": [
    "---\n",
    "Bahdanau attention mechanism within a bidirectional GRU-based architecture"
   ]
  },
  {
   "cell_type": "code",
   "execution_count": null,
   "metadata": {
    "colab": {
     "base_uri": "https://localhost:8080/",
     "height": 249,
     "referenced_widgets": [
      "76b787b4ec4046799707c1225c402d40",
      "6120d1c0e1bd429889616cc113fdc5cc",
      "8fc4e96aae6e4c32a70c71acabb41ba0",
      "84cfef658962492c99a48d74e5e9084e",
      "4148bd12068f402e8d231ba1da942169",
      "e4cbabf2db1b401bb13e17dacd1e5aa3",
      "d2140345be0b4d09b1ba9ed0eb841780",
      "ff2456873bf24cea954949d5386e4a13",
      "6363a40792f645fda5cdec805adebd31",
      "6821fecc489949ce825a5bdd09260cad",
      "3d07a825fb4848f5abb0011f396b5d9a",
      "a04b74500a2c4b01b0638ef68188a321",
      "1eb515226260423dad0c9113373e5c5b",
      "d293e866c5824c568bbd0034d58a8a1b",
      "fa619b77cbbf48cc84f01183236caec2",
      "2a27933058434a04a0c0b591af2faa56",
      "3b3d29f84dfc463dab68e6aa67d00cf5",
      "ab83152fe480402eb50f7998e666f9bf",
      "8644756723f14f9a8be5ca6ec48f4c12",
      "6b4bac2e1b5f441da01c8282e0c511ab",
      "1bb4c6840a4c4b1d964c1d6a22d168c1",
      "9acb446498fa4e39a234ed0ea86642a7",
      "a1b273c79b3a4cb4bcf6adb0d0c702e0",
      "bf1e2ca0787143dd9efcdee9ac00d166",
      "4cd2551739004a2e905cde62bf0c74de",
      "98b04cfdbfef41279ffbc7bd591651b2",
      "e6bfd81a9c0849b2982f6c2e67ee3d1e",
      "29cdbf2babea426b9e3c37e1244787b2",
      "4664635d8cdf4fea8b03b4bff1eb2f59",
      "64894b04220341d7a75598b40bb84fde",
      "26d155f9818745628470f9d1888ef312",
      "5245067a00b140dda10fa36ef6a6b1d6",
      "54e23b80050f4ac5ba02ff8bb2b21ee6",
      "7f4734982f154a2caa16114f17730da6",
      "3451793cf64c4cb48368cb7d8d612c5a",
      "db5b75b937f541f9b71ac524d7348a30",
      "ea61163d8f79483fb4530a5e6c3fc2e1",
      "73150f40b83146c296dfe7b1c4747785",
      "5f8928dbffa541a7a0374d79157e0437",
      "7583044c86ba475e8602ffe64821ddd7",
      "8002e1f509b546478a6caae8f2765e90",
      "079fbcda32ea49719b73552ca285beda",
      "e9402346e3a2470b8d17ee954de98ab2",
      "cf801a9104a34d26a167c833d0351b49"
     ]
    },
    "id": "Zt7PKEzdW_RF",
    "outputId": "14d38b07-f4bd-4c25-afe2-5fa2e0ca3455"
   },
   "outputs": [
    {
     "name": "stderr",
     "output_type": "stream",
     "text": [
      "/usr/local/lib/python3.11/dist-packages/huggingface_hub/utils/_auth.py:94: UserWarning: \n",
      "The secret `HF_TOKEN` does not exist in your Colab secrets.\n",
      "To authenticate with the Hugging Face Hub, create a token in your settings tab (https://huggingface.co/settings/tokens), set it as secret in your Google Colab and restart your session.\n",
      "You will be able to reuse this secret in all of your notebooks.\n",
      "Please note that authentication is recommended but still optional to access public models or datasets.\n",
      "  warnings.warn(\n"
     ]
    },
    {
     "data": {
      "application/vnd.jupyter.widget-view+json": {
       "model_id": "76b787b4ec4046799707c1225c402d40",
       "version_major": 2,
       "version_minor": 0
      },
      "text/plain": [
       "tokenizer_config.json:   0%|          | 0.00/28.0 [00:00<?, ?B/s]"
      ]
     },
     "metadata": {},
     "output_type": "display_data"
    },
    {
     "data": {
      "application/vnd.jupyter.widget-view+json": {
       "model_id": "a04b74500a2c4b01b0638ef68188a321",
       "version_major": 2,
       "version_minor": 0
      },
      "text/plain": [
       "config.json:   0%|          | 0.00/385 [00:00<?, ?B/s]"
      ]
     },
     "metadata": {},
     "output_type": "display_data"
    },
    {
     "data": {
      "application/vnd.jupyter.widget-view+json": {
       "model_id": "a1b273c79b3a4cb4bcf6adb0d0c702e0",
       "version_major": 2,
       "version_minor": 0
      },
      "text/plain": [
       "vocab.txt:   0%|          | 0.00/226k [00:00<?, ?B/s]"
      ]
     },
     "metadata": {},
     "output_type": "display_data"
    },
    {
     "data": {
      "application/vnd.jupyter.widget-view+json": {
       "model_id": "7f4734982f154a2caa16114f17730da6",
       "version_major": 2,
       "version_minor": 0
      },
      "text/plain": [
       "pytorch_model.bin:   0%|          | 0.00/440M [00:00<?, ?B/s]"
      ]
     },
     "metadata": {},
     "output_type": "display_data"
    }
   ],
   "source": [
    "# --- PubMedBERT Setup ---\n",
    "pubmedbert_model_name = \"microsoft/BiomedNLP-PubMedBERT-base-uncased-abstract-fulltext\"\n",
    "tokenizer = AutoTokenizer.from_pretrained(pubmedbert_model_name)\n",
    "pubmedbert = AutoModel.from_pretrained(pubmedbert_model_name).to(device)\n",
    "\n",
    "for param in pubmedbert.parameters():\n",
    "    param.requires_grad = True\n",
    "\n",
    "BATCH_SIZE = 32"
   ]
  },
  {
   "cell_type": "code",
   "execution_count": null,
   "metadata": {
    "id": "hAicfT5eQ37Y"
   },
   "outputs": [],
   "source": [
    "class BahdanauAttention(nn.Module):\n",
    "    \"\"\"\n",
    "    Bahdanau Attention Mechanism.\n",
    "\n",
    "    This class implements the Bahdanau attention mechanism as described in the paper:\n",
    "    \"Neural Machine Translation by Jointly Learning to Align and Translate\" by Bahdanau et al.\n",
    "\n",
    "    Args:\n",
    "        hidden_dim (int): The hidden dimension of the GRU or LSTM output.\n",
    "\n",
    "    Attributes:\n",
    "        W (nn.Linear): A linear layer for the transformation of the RNN outputs.\n",
    "        v (nn.Linear): A linear layer for computing attention scores.\n",
    "    \"\"\"\n",
    "    def __init__(self, hidden_dim):\n",
    "        super(BahdanauAttention, self).__init__()\n",
    "        self.W = nn.Linear(hidden_dim * 2, hidden_dim)\n",
    "        self.v = nn.Linear(hidden_dim, 1, bias=False)\n",
    "\n",
    "    def forward(self, rnn_outputs):\n",
    "        \"\"\"\n",
    "        Apply the attention mechanism on the RNN outputs.\n",
    "\n",
    "        Args:\n",
    "            rnn_outputs (Tensor): The outputs of the RNN (GRU or LSTM).\n",
    "\n",
    "        Returns:\n",
    "            Tensor: The context vector computed by the attention mechanism.\n",
    "        \"\"\"\n",
    "        score = torch.tanh(self.W(rnn_outputs))\n",
    "        attn_weights = torch.softmax(self.v(score), dim=1)\n",
    "        context = torch.sum(attn_weights * rnn_outputs, dim=1)\n",
    "        return context\n",
    "\n",
    "class PubMedBERT_GRU_Attention(nn.Module):\n",
    "    \"\"\"\n",
    "    Model combining PubMedBERT embeddings, GRU layers, and Bahdanau Attention mechanism for multi-class classification.\n",
    "\n",
    "    Args:\n",
    "        bert_dim (int): The dimension of the PubMedBERT embeddings (usually 768).\n",
    "        hidden_dim (int): The hidden dimension of the GRU layer.\n",
    "        num_classes (int): The number of output classes for classification (default is 9 for multi-class classification).\n",
    "        num_layers (int): The number of layers in the GRU (default is 1).\n",
    "        dropout_prob (float): Dropout probability for regularization.\n",
    "\n",
    "    Attributes:\n",
    "        gru (nn.GRU): A bidirectional GRU layer.\n",
    "        attention (BahdanauAttention): The Bahdanau attention mechanism.\n",
    "        fc (nn.Linear): The fully connected layer to produce the output predictions.\n",
    "        dropout (nn.Dropout): Dropout layer for regularization.\n",
    "    \"\"\"\n",
    "    def __init__(self, bert_dim, hidden_dim, num_classes=9, num_layers=1, dropout_prob=0.6):\n",
    "        super(PubMedBERT_GRU_Attention, self).__init__()\n",
    "\n",
    "        self.gru = nn.GRU(\n",
    "            input_size=bert_dim,\n",
    "            hidden_size=hidden_dim,\n",
    "            num_layers=num_layers,\n",
    "            batch_first=True,\n",
    "            bidirectional=True\n",
    "        )\n",
    "\n",
    "        self.attention = BahdanauAttention(hidden_dim)\n",
    "        self.fc = nn.Linear(hidden_dim * 2, num_classes)\n",
    "        self.dropout = nn.Dropout(dropout_prob)\n",
    "\n",
    "    def forward(self, input_ids, attention_mask):\n",
    "        \"\"\"\n",
    "        Forward pass of the model.\n",
    "\n",
    "        Args:\n",
    "            input_ids (Tensor): The tokenized input sequence IDs.\n",
    "            attention_mask (Tensor): The attention mask to differentiate padding from real tokens.\n",
    "\n",
    "        Returns:\n",
    "            Tensor: The output logits for classification.\n",
    "        \"\"\"\n",
    "        with torch.no_grad():\n",
    "            bert_outputs = pubmedbert(input_ids=input_ids, attention_mask=attention_mask)\n",
    "        bert_embeds = bert_outputs.last_hidden_state\n",
    "        gru_out, _ = self.gru(bert_embeds)\n",
    "        context = self.attention(gru_out)\n",
    "        x = self.dropout(context)\n",
    "        output = self.fc(x)  # Logits for multi-class classification\n",
    "        return output"
   ]
  },
  {
   "cell_type": "code",
   "execution_count": null,
   "metadata": {
    "id": "W7GKB2__RCKh"
   },
   "outputs": [],
   "source": [
    "def count_parameters(model):\n",
    "    \"\"\"\n",
    "    Count the number of trainable parameters in the model.\n",
    "    Args:\n",
    "        model: The model whose parameters are to be counted.\n",
    "    Returns:\n",
    "        Total number of trainable parameters.\n",
    "    \"\"\"\n",
    "    return sum(p.numel() for p in model.parameters() if p.requires_grad)\n",
    "\n",
    "def train_model(model, dataloader, optimizer, criterion, device):\n",
    "    \"\"\"\n",
    "    Train the model for one epoch, calculating loss and accuracy.\n",
    "    Args:\n",
    "        model: The model to train.\n",
    "        dataloader: DataLoader for the training dataset.\n",
    "        optimizer: Optimizer for model parameters.\n",
    "        criterion: Loss function.\n",
    "        device: CPU/GPU device.\n",
    "    Returns:\n",
    "        Average loss and accuracy for the epoch.\n",
    "    \"\"\"\n",
    "    model.train()\n",
    "    total_loss = 0\n",
    "    total_correct = 0\n",
    "    total_samples = 0\n",
    "\n",
    "    for batch in dataloader:\n",
    "        input_ids = batch['input_ids'].to(device)\n",
    "        attention_mask = batch['attention_mask'].to(device)\n",
    "        labels = batch['labels'].to(device)\n",
    "\n",
    "        optimizer.zero_grad()\n",
    "        logits = model(input_ids, attention_mask)\n",
    "\n",
    "        loss = criterion(logits, labels)\n",
    "        loss.backward()\n",
    "        optimizer.step()\n",
    "\n",
    "        total_loss += loss.item()\n",
    "\n",
    "        preds = torch.argmax(logits, dim=1).cpu().detach().numpy()\n",
    "        total_correct += np.sum(preds == labels.cpu().numpy())\n",
    "        total_samples += labels.size(0)\n",
    "\n",
    "    avg_loss = total_loss / len(dataloader)\n",
    "    avg_accuracy = total_correct / total_samples\n",
    "    return avg_loss, avg_accuracy\n",
    "\n",
    "def evaluate_model(model, dataloader, criterion, device):\n",
    "    \"\"\"\n",
    "    Validate the model for one epoch, including precision, F1, balanced accuracy, and recall.\n",
    "    Args:\n",
    "        model: Model instance.\n",
    "        dataloader: DataLoader for validation data.\n",
    "        criterion: Loss function (CrossEntropyLoss).\n",
    "        device: CPU/GPU.\n",
    "    Returns:\n",
    "        Average validation loss, accuracy, F1-score.\n",
    "    \"\"\"\n",
    "    model.eval()\n",
    "    all_preds = []\n",
    "    all_labels = []\n",
    "    val_loss = 0.0\n",
    "\n",
    "    with torch.no_grad():\n",
    "        for batch in tqdm(dataloader, desc=\"Evaluating\"):\n",
    "            input_ids = batch['input_ids'].to(device)\n",
    "            attention_mask = batch['attention_mask'].to(device)\n",
    "            labels = batch['labels'].to(device)\n",
    "\n",
    "            logits = model(input_ids, attention_mask)\n",
    "            loss = criterion(logits, labels)\n",
    "            val_loss += loss.item()\n",
    "\n",
    "            preds = torch.argmax(logits, dim=1).cpu().numpy()\n",
    "            labels_cpu = labels.cpu().numpy()\n",
    "\n",
    "            all_preds.extend(preds)\n",
    "            all_labels.extend(labels_cpu)\n",
    "\n",
    "    val_loss /= len(dataloader)\n",
    "    all_preds = np.array(all_preds)\n",
    "    all_labels = np.array(all_labels)\n",
    "\n",
    "    acc = accuracy_score(all_labels, all_preds)\n",
    "    f1 = f1_score(all_labels, all_preds, average=\"weighted\")\n",
    "\n",
    "    return acc, f1, val_loss\n",
    "\n",
    "def test_model(model, test_loader, criterion, device):\n",
    "    \"\"\"\n",
    "    Evaluate the model on the test dataset, calculating loss, accuracy, F1-score, precision, recall, and balanced accuracy.\n",
    "    Args:\n",
    "        model: The model to evaluate.\n",
    "        test_loader: DataLoader for the test dataset.\n",
    "        criterion: Loss function (CrossEntropyLoss).\n",
    "        device: CPU/GPU device.\n",
    "    Returns:\n",
    "        Average test loss, accuracy, F1-score, balanced accuracy, recall, and precision.\n",
    "    \"\"\"\n",
    "    model.eval()\n",
    "    total_loss = 0\n",
    "    total_accuracy = 0\n",
    "    all_labels = []\n",
    "    all_preds = []\n",
    "\n",
    "    with torch.no_grad():\n",
    "        for batch in test_loader:\n",
    "            input_ids = batch['input_ids'].to(device)\n",
    "            attention_mask = batch['attention_mask'].to(device)\n",
    "            target_tensor = batch['labels'].to(device)\n",
    "\n",
    "            output = model(input_ids, attention_mask)\n",
    "            loss = criterion(output, target_tensor)\n",
    "            total_loss += loss.item()\n",
    "\n",
    "            batch_accuracy = accuracy_score(target_tensor.cpu(), torch.argmax(output, dim=1).cpu())\n",
    "            total_accuracy += batch_accuracy * len(target_tensor)\n",
    "\n",
    "            preds = torch.argmax(output, dim=1).cpu().numpy()\n",
    "            labels = target_tensor.cpu().numpy()\n",
    "\n",
    "            all_preds.extend(preds)\n",
    "            all_labels.extend(labels)\n",
    "\n",
    "    avg_loss = total_loss / len(test_loader)\n",
    "    avg_accuracy = total_accuracy / len(test_loader.dataset)\n",
    "    all_preds = np.array(all_preds)\n",
    "    all_labels = np.array(all_labels)\n",
    "\n",
    "    f1 = f1_score(all_labels, all_preds, average=\"weighted\", zero_division=0)\n",
    "    balanced_acc = balanced_accuracy_score(all_labels, all_preds)\n",
    "    precision = precision_score(all_labels, all_preds, average=\"weighted\", zero_division=0)\n",
    "    recall = recall_score(all_labels, all_preds, average=\"weighted\", zero_division=0)\n",
    "\n",
    "    return avg_loss, avg_accuracy, f1, balanced_acc, recall, precision"
   ]
  },
  {
   "cell_type": "code",
   "execution_count": null,
   "metadata": {
    "colab": {
     "base_uri": "https://localhost:8080/"
    },
    "id": "_e3I8RcjRCHH",
    "outputId": "b7962372-952b-4e9f-eeb2-22260b6f78d0"
   },
   "outputs": [
    {
     "name": "stdout",
     "output_type": "stream",
     "text": [
      "\n",
      "1712137 model parameters\n",
      "\n",
      "PubMedBERT_GRU_Attention(\n",
      "  (gru): GRU(768, 256, batch_first=True, bidirectional=True)\n",
      "  (attention): BahdanauAttention(\n",
      "    (W): Linear(in_features=512, out_features=256, bias=True)\n",
      "    (v): Linear(in_features=256, out_features=1, bias=False)\n",
      "  )\n",
      "  (fc): Linear(in_features=512, out_features=9, bias=True)\n",
      "  (dropout): Dropout(p=0.6, inplace=False)\n",
      ")\n"
     ]
    }
   ],
   "source": [
    "BERT_DIM = 768\n",
    "HIDDEN_DIM = 256\n",
    "DROPOUT = 0.6\n",
    "\n",
    "model = PubMedBERT_GRU_Attention(BERT_DIM, HIDDEN_DIM, dropout_prob=DROPOUT).to(device)\n",
    "print()\n",
    "print(f\"{count_parameters(model)} model parameters\")\n",
    "print()\n",
    "print(model)"
   ]
  },
  {
   "cell_type": "markdown",
   "metadata": {
    "id": "68TA-KMERPVd"
   },
   "source": [
    "---\n",
    "\n",
    "#1. Use of PubMedBERT as contextual embeddings\n",
    "\n",
    "---"
   ]
  },
  {
   "cell_type": "markdown",
   "metadata": {
    "id": "p3nD7JK8aGs9"
   },
   "source": [
    "PubMedBERT is a model pre-trained on a corpus of biomedical texts, and generates contextual embeddings."
   ]
  },
  {
   "cell_type": "code",
   "execution_count": null,
   "metadata": {
    "id": "Y-2CLpfATdXF"
   },
   "outputs": [],
   "source": [
    "class PubMedBERTBinaryDataset(Dataset):\n",
    "    \"\"\"\n",
    "    Dataset class for multi-class classification using PubMedBERT embeddings.\n",
    "\n",
    "    Args:\n",
    "        texts (list of str): A list of raw text sequences.\n",
    "        labels (list of int): A list of integer labels (0-8) corresponding to each text.\n",
    "        tokenizer (transformers tokenizer): A tokenizer to preprocess the text data.\n",
    "        max_length (int): Maximum length for padding/truncation. Default is 400.\n",
    "\n",
    "    Attributes:\n",
    "        texts (list of str): The raw text data.\n",
    "        encodings (dict): Tokenized text data with input IDs and attention masks.\n",
    "        labels (Tensor): Tensor of integer labels for the classification task.\n",
    "    \"\"\"\n",
    "\n",
    "    def __init__(self, texts, labels, tokenizer, max_length=400):\n",
    "        self.texts = texts\n",
    "        self.encodings = tokenizer(texts, padding='max_length', truncation=True, max_length=max_length, return_tensors='pt')\n",
    "        self.labels = torch.tensor(labels, dtype=torch.long)\n",
    "\n",
    "    def __getitem__(self, idx):\n",
    "        \"\"\"\n",
    "        Retrieve a single sample from the dataset.\n",
    "\n",
    "        Args:\n",
    "            idx (int): Index of the sample to retrieve.\n",
    "\n",
    "        Returns:\n",
    "            dict: Contains input IDs, attention masks, and the corresponding label and raw text.\n",
    "        \"\"\"\n",
    "        item = {key: val[idx] for key, val in self.encodings.items()}\n",
    "        item['labels'] = self.labels[idx]\n",
    "        item['text'] = self.texts[idx]\n",
    "        return item\n",
    "\n",
    "    def __len__(self):\n",
    "        \"\"\"\n",
    "        Returns the total number of samples in the dataset.\n",
    "\n",
    "        Returns:\n",
    "            int: Number of samples in the dataset.\n",
    "        \"\"\"\n",
    "        return len(self.labels)"
   ]
  },
  {
   "cell_type": "code",
   "execution_count": null,
   "metadata": {
    "id": "Wr_RKK5NTcY0"
   },
   "outputs": [],
   "source": [
    "# --- Load Data ---\n",
    "train_dataset = PubMedBERTBinaryDataset(X_train.tolist(), y_train, tokenizer)\n",
    "val_dataset = PubMedBERTBinaryDataset(X_val.tolist(), y_val, tokenizer)\n",
    "test_dataset = PubMedBERTBinaryDataset(X_test.tolist(), y_test, tokenizer)\n",
    "\n",
    "train_loader = DataLoader(train_dataset, batch_size=BATCH_SIZE, shuffle=True)\n",
    "val_loader = DataLoader(val_dataset, batch_size=BATCH_SIZE, shuffle=False)\n",
    "test_loader = DataLoader(test_dataset, batch_size=BATCH_SIZE, shuffle=False)\n",
    "\n",
    "# Combine the training and validation datasets (for test)\n",
    "combined_dataset = ConcatDataset([train_dataset, val_dataset])\n",
    "combined_loader = DataLoader(combined_dataset, batch_size=BATCH_SIZE, shuffle=True)"
   ]
  },
  {
   "cell_type": "markdown",
   "metadata": {
    "id": "jl5kcmIQwPMK"
   },
   "source": [
    "---\n",
    "## 1.1 Optimisation phase"
   ]
  },
  {
   "cell_type": "markdown",
   "metadata": {
    "id": "GFWELZvRScpr"
   },
   "source": [
    "1.1.1 Optimizer selection"
   ]
  },
  {
   "cell_type": "code",
   "execution_count": null,
   "metadata": {
    "colab": {
     "base_uri": "https://localhost:8080/",
     "height": 3546
    },
    "id": "wVK27JIiRCEb",
    "outputId": "be848b52-52d1-4042-a8fc-072b8d92b3ee"
   },
   "outputs": [
    {
     "name": "stdout",
     "output_type": "stream",
     "text": [
      "\n",
      "🔹 Training with optimizer: Adam\n",
      "PubMedBERT_GRU_Attention(\n",
      "  (gru): GRU(768, 256, batch_first=True, bidirectional=True)\n",
      "  (attention): BahdanauAttention(\n",
      "    (W): Linear(in_features=512, out_features=256, bias=True)\n",
      "    (v): Linear(in_features=256, out_features=1, bias=False)\n",
      "  )\n",
      "  (fc): Linear(in_features=512, out_features=9, bias=True)\n",
      "  (dropout): Dropout(p=0.6, inplace=False)\n",
      ")\n"
     ]
    },
    {
     "name": "stderr",
     "output_type": "stream",
     "text": [
      "\u001b[34m\u001b[1mwandb\u001b[0m: Using wandb-core as the SDK backend.  Please refer to https://wandb.me/wandb-core for more information.\n"
     ]
    },
    {
     "data": {
      "application/javascript": [
       "\n",
       "        window._wandbApiKey = new Promise((resolve, reject) => {\n",
       "            function loadScript(url) {\n",
       "            return new Promise(function(resolve, reject) {\n",
       "                let newScript = document.createElement(\"script\");\n",
       "                newScript.onerror = reject;\n",
       "                newScript.onload = resolve;\n",
       "                document.body.appendChild(newScript);\n",
       "                newScript.src = url;\n",
       "            });\n",
       "            }\n",
       "            loadScript(\"https://cdn.jsdelivr.net/npm/postmate/build/postmate.min.js\").then(() => {\n",
       "            const iframe = document.createElement('iframe')\n",
       "            iframe.style.cssText = \"width:0;height:0;border:none\"\n",
       "            document.body.appendChild(iframe)\n",
       "            const handshake = new Postmate({\n",
       "                container: iframe,\n",
       "                url: 'https://wandb.ai/authorize'\n",
       "            });\n",
       "            const timeout = setTimeout(() => reject(\"Couldn't auto authenticate\"), 5000)\n",
       "            handshake.then(function(child) {\n",
       "                child.on('authorize', data => {\n",
       "                    clearTimeout(timeout)\n",
       "                    resolve(data)\n",
       "                });\n",
       "            });\n",
       "            })\n",
       "        });\n",
       "    "
      ],
      "text/plain": [
       "<IPython.core.display.Javascript object>"
      ]
     },
     "metadata": {},
     "output_type": "display_data"
    },
    {
     "name": "stderr",
     "output_type": "stream",
     "text": [
      "\u001b[34m\u001b[1mwandb\u001b[0m: Logging into wandb.ai. (Learn how to deploy a W&B server locally: https://wandb.me/wandb-server)\n",
      "\u001b[34m\u001b[1mwandb\u001b[0m: You can find your API key in your browser here: https://wandb.ai/authorize\n",
      "wandb: Paste an API key from your profile and hit enter:"
     ]
    },
    {
     "name": "stdout",
     "output_type": "stream",
     "text": [
      " ··········\n"
     ]
    },
    {
     "name": "stderr",
     "output_type": "stream",
     "text": [
      "\u001b[34m\u001b[1mwandb\u001b[0m: \u001b[33mWARNING\u001b[0m If you're specifying your api key in code, ensure this code is not shared publicly.\n",
      "\u001b[34m\u001b[1mwandb\u001b[0m: \u001b[33mWARNING\u001b[0m Consider setting the WANDB_API_KEY environment variable, or running `wandb login` from the command line.\n",
      "\u001b[34m\u001b[1mwandb\u001b[0m: No netrc file found, creating one.\n",
      "\u001b[34m\u001b[1mwandb\u001b[0m: Appending key for api.wandb.ai to your netrc file: /root/.netrc\n",
      "\u001b[34m\u001b[1mwandb\u001b[0m: Currently logged in as: \u001b[33mwilfried-mvomoeto\u001b[0m (\u001b[33mwilfried-mvomoeto-university-of-li-ge\u001b[0m) to \u001b[32mhttps://api.wandb.ai\u001b[0m. Use \u001b[1m`wandb login --relogin`\u001b[0m to force relogin\n"
     ]
    },
    {
     "data": {
      "text/html": [
       "Tracking run with wandb version 0.19.9"
      ],
      "text/plain": [
       "<IPython.core.display.HTML object>"
      ]
     },
     "metadata": {},
     "output_type": "display_data"
    },
    {
     "data": {
      "text/html": [
       "Run data is saved locally in <code>/content/wandb/run-20250407_081728-lndrq5i7</code>"
      ],
      "text/plain": [
       "<IPython.core.display.HTML object>"
      ]
     },
     "metadata": {},
     "output_type": "display_data"
    },
    {
     "data": {
      "text/html": [
       "Syncing run <strong><a href='https://wandb.ai/wilfried-mvomoeto-university-of-li-ge/Multi_Class_Pubmedbert_Attention_OptimizerSearch/runs/lndrq5i7' target=\"_blank\">Adam_run</a></strong> to <a href='https://wandb.ai/wilfried-mvomoeto-university-of-li-ge/Multi_Class_Pubmedbert_Attention_OptimizerSearch' target=\"_blank\">Weights & Biases</a> (<a href='https://wandb.me/developer-guide' target=\"_blank\">docs</a>)<br>"
      ],
      "text/plain": [
       "<IPython.core.display.HTML object>"
      ]
     },
     "metadata": {},
     "output_type": "display_data"
    },
    {
     "data": {
      "text/html": [
       " View project at <a href='https://wandb.ai/wilfried-mvomoeto-university-of-li-ge/Multi_Class_Pubmedbert_Attention_OptimizerSearch' target=\"_blank\">https://wandb.ai/wilfried-mvomoeto-university-of-li-ge/Multi_Class_Pubmedbert_Attention_OptimizerSearch</a>"
      ],
      "text/plain": [
       "<IPython.core.display.HTML object>"
      ]
     },
     "metadata": {},
     "output_type": "display_data"
    },
    {
     "data": {
      "text/html": [
       " View run at <a href='https://wandb.ai/wilfried-mvomoeto-university-of-li-ge/Multi_Class_Pubmedbert_Attention_OptimizerSearch/runs/lndrq5i7' target=\"_blank\">https://wandb.ai/wilfried-mvomoeto-university-of-li-ge/Multi_Class_Pubmedbert_Attention_OptimizerSearch/runs/lndrq5i7</a>"
      ],
      "text/plain": [
       "<IPython.core.display.HTML object>"
      ]
     },
     "metadata": {},
     "output_type": "display_data"
    },
    {
     "name": "stdout",
     "output_type": "stream",
     "text": [
      "Total trainable parameters: 1712137\n"
     ]
    },
    {
     "name": "stderr",
     "output_type": "stream",
     "text": [
      "Training: 100%|██████████| 846/846 [10:40<00:00,  1.32it/s]\n",
      "Evaluating: 100%|██████████| 182/182 [02:11<00:00,  1.39it/s]\n"
     ]
    },
    {
     "name": "stdout",
     "output_type": "stream",
     "text": [
      "Opt: Adam | Epoch 1/5 - TL: 0.7334, VL: 0.2954, TA: 77.97%, VA: 91.26%, F1: 91.14%, Time: 12.87 min\n"
     ]
    },
    {
     "name": "stderr",
     "output_type": "stream",
     "text": [
      "Training: 100%|██████████| 846/846 [10:40<00:00,  1.32it/s]\n",
      "Evaluating: 100%|██████████| 182/182 [02:10<00:00,  1.39it/s]\n"
     ]
    },
    {
     "name": "stdout",
     "output_type": "stream",
     "text": [
      "Opt: Adam | Epoch 2/5 - TL: 0.2679, VL: 0.2730, TA: 91.96%, VA: 91.31%, F1: 91.30%, Time: 12.85 min\n"
     ]
    },
    {
     "name": "stderr",
     "output_type": "stream",
     "text": [
      "Training: 100%|██████████| 846/846 [10:39<00:00,  1.32it/s]\n",
      "Evaluating: 100%|██████████| 182/182 [02:10<00:00,  1.39it/s]\n"
     ]
    },
    {
     "name": "stdout",
     "output_type": "stream",
     "text": [
      "Opt: Adam | Epoch 3/5 - TL: 0.2448, VL: 0.2652, TA: 92.36%, VA: 91.43%, F1: 91.37%, Time: 12.83 min\n"
     ]
    },
    {
     "name": "stderr",
     "output_type": "stream",
     "text": [
      "Training: 100%|██████████| 846/846 [10:40<00:00,  1.32it/s]\n",
      "Evaluating: 100%|██████████| 182/182 [02:10<00:00,  1.39it/s]\n"
     ]
    },
    {
     "name": "stdout",
     "output_type": "stream",
     "text": [
      "Opt: Adam | Epoch 4/5 - TL: 0.2336, VL: 0.2640, TA: 92.73%, VA: 91.79%, F1: 91.75%, Time: 12.85 min\n"
     ]
    },
    {
     "name": "stderr",
     "output_type": "stream",
     "text": [
      "Training: 100%|██████████| 846/846 [10:39<00:00,  1.32it/s]\n",
      "Evaluating: 100%|██████████| 182/182 [02:10<00:00,  1.39it/s]"
     ]
    },
    {
     "name": "stdout",
     "output_type": "stream",
     "text": [
      "Opt: Adam | Epoch 5/5 - TL: 0.2249, VL: 0.2615, TA: 93.00%, VA: 91.86%, F1: 91.81%, Time: 12.84 min\n"
     ]
    },
    {
     "name": "stderr",
     "output_type": "stream",
     "text": [
      "\n"
     ]
    },
    {
     "data": {
      "text/html": [],
      "text/plain": [
       "<IPython.core.display.HTML object>"
      ]
     },
     "metadata": {},
     "output_type": "display_data"
    },
    {
     "data": {
      "text/html": [
       "<br>    <style><br>        .wandb-row {<br>            display: flex;<br>            flex-direction: row;<br>            flex-wrap: wrap;<br>            justify-content: flex-start;<br>            width: 100%;<br>        }<br>        .wandb-col {<br>            display: flex;<br>            flex-direction: column;<br>            flex-basis: 100%;<br>            flex: 1;<br>            padding: 10px;<br>        }<br>    </style><br><div class=\"wandb-row\"><div class=\"wandb-col\"><h3>Run history:</h3><br/><table class=\"wandb\"><tr><td>epoch</td><td>▁▃▅▆█</td></tr><tr><td>lr</td><td>▁▁▁▁▁</td></tr><tr><td>train_acc</td><td>▁████</td></tr><tr><td>train_loss</td><td>█▂▁▁▁</td></tr><tr><td>val_acc</td><td>▁▂▃▇█</td></tr><tr><td>val_f1</td><td>▁▃▃▇█</td></tr><tr><td>val_loss</td><td>█▃▂▂▁</td></tr></table><br/></div><div class=\"wandb-col\"><h3>Run summary:</h3><br/><table class=\"wandb\"><tr><td>epoch</td><td>5</td></tr><tr><td>lr</td><td>0.0001</td></tr><tr><td>optimizer</td><td>Adam</td></tr><tr><td>train_acc</td><td>0.93</td></tr><tr><td>train_loss</td><td>0.22491</td></tr><tr><td>val_acc</td><td>0.91859</td></tr><tr><td>val_f1</td><td>0.91815</td></tr><tr><td>val_loss</td><td>0.26149</td></tr></table><br/></div></div>"
      ],
      "text/plain": [
       "<IPython.core.display.HTML object>"
      ]
     },
     "metadata": {},
     "output_type": "display_data"
    },
    {
     "data": {
      "text/html": [
       " View run <strong style=\"color:#cdcd00\">Adam_run</strong> at: <a href='https://wandb.ai/wilfried-mvomoeto-university-of-li-ge/Multi_Class_Pubmedbert_Attention_OptimizerSearch/runs/lndrq5i7' target=\"_blank\">https://wandb.ai/wilfried-mvomoeto-university-of-li-ge/Multi_Class_Pubmedbert_Attention_OptimizerSearch/runs/lndrq5i7</a><br> View project at: <a href='https://wandb.ai/wilfried-mvomoeto-university-of-li-ge/Multi_Class_Pubmedbert_Attention_OptimizerSearch' target=\"_blank\">https://wandb.ai/wilfried-mvomoeto-university-of-li-ge/Multi_Class_Pubmedbert_Attention_OptimizerSearch</a><br>Synced 5 W&B file(s), 0 media file(s), 0 artifact file(s) and 0 other file(s)"
      ],
      "text/plain": [
       "<IPython.core.display.HTML object>"
      ]
     },
     "metadata": {},
     "output_type": "display_data"
    },
    {
     "data": {
      "text/html": [
       "Find logs at: <code>./wandb/run-20250407_081728-lndrq5i7/logs</code>"
      ],
      "text/plain": [
       "<IPython.core.display.HTML object>"
      ]
     },
     "metadata": {},
     "output_type": "display_data"
    },
    {
     "name": "stdout",
     "output_type": "stream",
     "text": [
      "\n",
      "🔹 Training with optimizer: AdamW\n",
      "PubMedBERT_GRU_Attention(\n",
      "  (gru): GRU(768, 256, batch_first=True, bidirectional=True)\n",
      "  (attention): BahdanauAttention(\n",
      "    (W): Linear(in_features=512, out_features=256, bias=True)\n",
      "    (v): Linear(in_features=256, out_features=1, bias=False)\n",
      "  )\n",
      "  (fc): Linear(in_features=512, out_features=9, bias=True)\n",
      "  (dropout): Dropout(p=0.6, inplace=False)\n",
      ")\n"
     ]
    },
    {
     "data": {
      "text/html": [
       "Tracking run with wandb version 0.19.9"
      ],
      "text/plain": [
       "<IPython.core.display.HTML object>"
      ]
     },
     "metadata": {},
     "output_type": "display_data"
    },
    {
     "data": {
      "text/html": [
       "Run data is saved locally in <code>/content/wandb/run-20250407_092144-dbofinm9</code>"
      ],
      "text/plain": [
       "<IPython.core.display.HTML object>"
      ]
     },
     "metadata": {},
     "output_type": "display_data"
    },
    {
     "data": {
      "text/html": [
       "Syncing run <strong><a href='https://wandb.ai/wilfried-mvomoeto-university-of-li-ge/Multi_Class_Pubmedbert_Attention_OptimizerSearch/runs/dbofinm9' target=\"_blank\">AdamW_run</a></strong> to <a href='https://wandb.ai/wilfried-mvomoeto-university-of-li-ge/Multi_Class_Pubmedbert_Attention_OptimizerSearch' target=\"_blank\">Weights & Biases</a> (<a href='https://wandb.me/developer-guide' target=\"_blank\">docs</a>)<br>"
      ],
      "text/plain": [
       "<IPython.core.display.HTML object>"
      ]
     },
     "metadata": {},
     "output_type": "display_data"
    },
    {
     "data": {
      "text/html": [
       " View project at <a href='https://wandb.ai/wilfried-mvomoeto-university-of-li-ge/Multi_Class_Pubmedbert_Attention_OptimizerSearch' target=\"_blank\">https://wandb.ai/wilfried-mvomoeto-university-of-li-ge/Multi_Class_Pubmedbert_Attention_OptimizerSearch</a>"
      ],
      "text/plain": [
       "<IPython.core.display.HTML object>"
      ]
     },
     "metadata": {},
     "output_type": "display_data"
    },
    {
     "data": {
      "text/html": [
       " View run at <a href='https://wandb.ai/wilfried-mvomoeto-university-of-li-ge/Multi_Class_Pubmedbert_Attention_OptimizerSearch/runs/dbofinm9' target=\"_blank\">https://wandb.ai/wilfried-mvomoeto-university-of-li-ge/Multi_Class_Pubmedbert_Attention_OptimizerSearch/runs/dbofinm9</a>"
      ],
      "text/plain": [
       "<IPython.core.display.HTML object>"
      ]
     },
     "metadata": {},
     "output_type": "display_data"
    },
    {
     "name": "stdout",
     "output_type": "stream",
     "text": [
      "Total trainable parameters: 1712137\n"
     ]
    },
    {
     "name": "stderr",
     "output_type": "stream",
     "text": [
      "Training: 100%|██████████| 846/846 [10:40<00:00,  1.32it/s]\n",
      "Evaluating: 100%|██████████| 182/182 [02:11<00:00,  1.39it/s]\n"
     ]
    },
    {
     "name": "stdout",
     "output_type": "stream",
     "text": [
      "Opt: AdamW | Epoch 1/5 - TL: 0.6916, VL: 0.2884, TA: 79.81%, VA: 91.17%, F1: 91.12%, Time: 12.86 min\n"
     ]
    },
    {
     "name": "stderr",
     "output_type": "stream",
     "text": [
      "Training: 100%|██████████| 846/846 [10:39<00:00,  1.32it/s]\n",
      "Evaluating: 100%|██████████| 182/182 [02:11<00:00,  1.39it/s]\n"
     ]
    },
    {
     "name": "stdout",
     "output_type": "stream",
     "text": [
      "Opt: AdamW | Epoch 2/5 - TL: 0.2618, VL: 0.2722, TA: 92.14%, VA: 91.53%, F1: 91.52%, Time: 12.85 min\n"
     ]
    },
    {
     "name": "stderr",
     "output_type": "stream",
     "text": [
      "Training: 100%|██████████| 846/846 [10:39<00:00,  1.32it/s]\n",
      "Evaluating: 100%|██████████| 182/182 [02:10<00:00,  1.39it/s]\n"
     ]
    },
    {
     "name": "stdout",
     "output_type": "stream",
     "text": [
      "Opt: AdamW | Epoch 3/5 - TL: 0.2345, VL: 0.2584, TA: 92.77%, VA: 92.00%, F1: 91.96%, Time: 12.84 min\n"
     ]
    },
    {
     "name": "stderr",
     "output_type": "stream",
     "text": [
      "Training: 100%|██████████| 846/846 [10:39<00:00,  1.32it/s]\n",
      "Evaluating: 100%|██████████| 182/182 [02:10<00:00,  1.39it/s]\n"
     ]
    },
    {
     "name": "stdout",
     "output_type": "stream",
     "text": [
      "Opt: AdamW | Epoch 4/5 - TL: 0.2184, VL: 0.2665, TA: 93.24%, VA: 91.32%, F1: 91.30%, Time: 12.84 min\n"
     ]
    },
    {
     "name": "stderr",
     "output_type": "stream",
     "text": [
      "Training: 100%|██████████| 846/846 [10:40<00:00,  1.32it/s]\n",
      "Evaluating: 100%|██████████| 182/182 [02:11<00:00,  1.39it/s]"
     ]
    },
    {
     "name": "stdout",
     "output_type": "stream",
     "text": [
      "Opt: AdamW | Epoch 5/5 - TL: 0.2062, VL: 0.2579, TA: 93.51%, VA: 91.96%, F1: 91.99%, Time: 12.86 min\n"
     ]
    },
    {
     "name": "stderr",
     "output_type": "stream",
     "text": [
      "\n"
     ]
    },
    {
     "data": {
      "text/html": [],
      "text/plain": [
       "<IPython.core.display.HTML object>"
      ]
     },
     "metadata": {},
     "output_type": "display_data"
    },
    {
     "data": {
      "text/html": [
       "<br>    <style><br>        .wandb-row {<br>            display: flex;<br>            flex-direction: row;<br>            flex-wrap: wrap;<br>            justify-content: flex-start;<br>            width: 100%;<br>        }<br>        .wandb-col {<br>            display: flex;<br>            flex-direction: column;<br>            flex-basis: 100%;<br>            flex: 1;<br>            padding: 10px;<br>        }<br>    </style><br><div class=\"wandb-row\"><div class=\"wandb-col\"><h3>Run history:</h3><br/><table class=\"wandb\"><tr><td>epoch</td><td>▁▃▅▆█</td></tr><tr><td>lr</td><td>▁▁▁▁▁</td></tr><tr><td>train_acc</td><td>▁▇███</td></tr><tr><td>train_loss</td><td>█▂▁▁▁</td></tr><tr><td>val_acc</td><td>▁▄█▂█</td></tr><tr><td>val_f1</td><td>▁▄█▂█</td></tr><tr><td>val_loss</td><td>█▄▁▃▁</td></tr></table><br/></div><div class=\"wandb-col\"><h3>Run summary:</h3><br/><table class=\"wandb\"><tr><td>epoch</td><td>5</td></tr><tr><td>lr</td><td>0.0001</td></tr><tr><td>optimizer</td><td>AdamW</td></tr><tr><td>train_acc</td><td>0.9351</td></tr><tr><td>train_loss</td><td>0.20621</td></tr><tr><td>val_acc</td><td>0.91963</td></tr><tr><td>val_f1</td><td>0.91991</td></tr><tr><td>val_loss</td><td>0.25791</td></tr></table><br/></div></div>"
      ],
      "text/plain": [
       "<IPython.core.display.HTML object>"
      ]
     },
     "metadata": {},
     "output_type": "display_data"
    },
    {
     "data": {
      "text/html": [
       " View run <strong style=\"color:#cdcd00\">AdamW_run</strong> at: <a href='https://wandb.ai/wilfried-mvomoeto-university-of-li-ge/Multi_Class_Pubmedbert_Attention_OptimizerSearch/runs/dbofinm9' target=\"_blank\">https://wandb.ai/wilfried-mvomoeto-university-of-li-ge/Multi_Class_Pubmedbert_Attention_OptimizerSearch/runs/dbofinm9</a><br> View project at: <a href='https://wandb.ai/wilfried-mvomoeto-university-of-li-ge/Multi_Class_Pubmedbert_Attention_OptimizerSearch' target=\"_blank\">https://wandb.ai/wilfried-mvomoeto-university-of-li-ge/Multi_Class_Pubmedbert_Attention_OptimizerSearch</a><br>Synced 5 W&B file(s), 0 media file(s), 0 artifact file(s) and 0 other file(s)"
      ],
      "text/plain": [
       "<IPython.core.display.HTML object>"
      ]
     },
     "metadata": {},
     "output_type": "display_data"
    },
    {
     "data": {
      "text/html": [
       "Find logs at: <code>./wandb/run-20250407_092144-dbofinm9/logs</code>"
      ],
      "text/plain": [
       "<IPython.core.display.HTML object>"
      ]
     },
     "metadata": {},
     "output_type": "display_data"
    },
    {
     "name": "stdout",
     "output_type": "stream",
     "text": [
      "\n",
      "🔹 Training with optimizer: RMSprop\n",
      "PubMedBERT_GRU_Attention(\n",
      "  (gru): GRU(768, 256, batch_first=True, bidirectional=True)\n",
      "  (attention): BahdanauAttention(\n",
      "    (W): Linear(in_features=512, out_features=256, bias=True)\n",
      "    (v): Linear(in_features=256, out_features=1, bias=False)\n",
      "  )\n",
      "  (fc): Linear(in_features=512, out_features=9, bias=True)\n",
      "  (dropout): Dropout(p=0.6, inplace=False)\n",
      ")\n"
     ]
    },
    {
     "data": {
      "text/html": [
       "Tracking run with wandb version 0.19.9"
      ],
      "text/plain": [
       "<IPython.core.display.HTML object>"
      ]
     },
     "metadata": {},
     "output_type": "display_data"
    },
    {
     "data": {
      "text/html": [
       "Run data is saved locally in <code>/content/wandb/run-20250407_102600-3ucl2bz8</code>"
      ],
      "text/plain": [
       "<IPython.core.display.HTML object>"
      ]
     },
     "metadata": {},
     "output_type": "display_data"
    },
    {
     "data": {
      "text/html": [
       "Syncing run <strong><a href='https://wandb.ai/wilfried-mvomoeto-university-of-li-ge/Multi_Class_Pubmedbert_Attention_OptimizerSearch/runs/3ucl2bz8' target=\"_blank\">RMSprop_run</a></strong> to <a href='https://wandb.ai/wilfried-mvomoeto-university-of-li-ge/Multi_Class_Pubmedbert_Attention_OptimizerSearch' target=\"_blank\">Weights & Biases</a> (<a href='https://wandb.me/developer-guide' target=\"_blank\">docs</a>)<br>"
      ],
      "text/plain": [
       "<IPython.core.display.HTML object>"
      ]
     },
     "metadata": {},
     "output_type": "display_data"
    },
    {
     "data": {
      "text/html": [
       " View project at <a href='https://wandb.ai/wilfried-mvomoeto-university-of-li-ge/Multi_Class_Pubmedbert_Attention_OptimizerSearch' target=\"_blank\">https://wandb.ai/wilfried-mvomoeto-university-of-li-ge/Multi_Class_Pubmedbert_Attention_OptimizerSearch</a>"
      ],
      "text/plain": [
       "<IPython.core.display.HTML object>"
      ]
     },
     "metadata": {},
     "output_type": "display_data"
    },
    {
     "data": {
      "text/html": [
       " View run at <a href='https://wandb.ai/wilfried-mvomoeto-university-of-li-ge/Multi_Class_Pubmedbert_Attention_OptimizerSearch/runs/3ucl2bz8' target=\"_blank\">https://wandb.ai/wilfried-mvomoeto-university-of-li-ge/Multi_Class_Pubmedbert_Attention_OptimizerSearch/runs/3ucl2bz8</a>"
      ],
      "text/plain": [
       "<IPython.core.display.HTML object>"
      ]
     },
     "metadata": {},
     "output_type": "display_data"
    },
    {
     "name": "stdout",
     "output_type": "stream",
     "text": [
      "Total trainable parameters: 1712137\n"
     ]
    },
    {
     "name": "stderr",
     "output_type": "stream",
     "text": [
      "Training: 100%|██████████| 846/846 [10:40<00:00,  1.32it/s]\n",
      "Evaluating: 100%|██████████| 182/182 [02:10<00:00,  1.39it/s]\n"
     ]
    },
    {
     "name": "stdout",
     "output_type": "stream",
     "text": [
      "Opt: RMSprop | Epoch 1/5 - TL: 0.5256, VL: 0.2920, TA: 85.38%, VA: 91.00%, F1: 90.98%, Time: 12.85 min\n"
     ]
    },
    {
     "name": "stderr",
     "output_type": "stream",
     "text": [
      "Training: 100%|██████████| 846/846 [10:40<00:00,  1.32it/s]\n",
      "Evaluating: 100%|██████████| 182/182 [02:11<00:00,  1.39it/s]\n"
     ]
    },
    {
     "name": "stdout",
     "output_type": "stream",
     "text": [
      "Opt: RMSprop | Epoch 2/5 - TL: 0.2622, VL: 0.2758, TA: 91.92%, VA: 91.08%, F1: 91.09%, Time: 12.85 min\n"
     ]
    },
    {
     "name": "stderr",
     "output_type": "stream",
     "text": [
      "Training: 100%|██████████| 846/846 [10:40<00:00,  1.32it/s]\n",
      "Evaluating: 100%|██████████| 182/182 [02:11<00:00,  1.39it/s]\n"
     ]
    },
    {
     "name": "stdout",
     "output_type": "stream",
     "text": [
      "Opt: RMSprop | Epoch 3/5 - TL: 0.2429, VL: 0.2593, TA: 92.47%, VA: 91.72%, F1: 91.64%, Time: 12.86 min\n"
     ]
    },
    {
     "name": "stderr",
     "output_type": "stream",
     "text": [
      "Training: 100%|██████████| 846/846 [10:40<00:00,  1.32it/s]\n",
      "Evaluating: 100%|██████████| 182/182 [02:10<00:00,  1.39it/s]\n"
     ]
    },
    {
     "name": "stdout",
     "output_type": "stream",
     "text": [
      "Opt: RMSprop | Epoch 4/5 - TL: 0.2321, VL: 0.2577, TA: 92.76%, VA: 91.84%, F1: 91.81%, Time: 12.84 min\n"
     ]
    },
    {
     "name": "stderr",
     "output_type": "stream",
     "text": [
      "Training: 100%|██████████| 846/846 [10:38<00:00,  1.32it/s]\n",
      "Evaluating: 100%|██████████| 182/182 [02:11<00:00,  1.39it/s]"
     ]
    },
    {
     "name": "stdout",
     "output_type": "stream",
     "text": [
      "Opt: RMSprop | Epoch 5/5 - TL: 0.2240, VL: 0.2621, TA: 93.08%, VA: 91.74%, F1: 91.77%, Time: 12.83 min\n"
     ]
    },
    {
     "name": "stderr",
     "output_type": "stream",
     "text": [
      "\n"
     ]
    },
    {
     "data": {
      "text/html": [],
      "text/plain": [
       "<IPython.core.display.HTML object>"
      ]
     },
     "metadata": {},
     "output_type": "display_data"
    },
    {
     "data": {
      "text/html": [
       "<br>    <style><br>        .wandb-row {<br>            display: flex;<br>            flex-direction: row;<br>            flex-wrap: wrap;<br>            justify-content: flex-start;<br>            width: 100%;<br>        }<br>        .wandb-col {<br>            display: flex;<br>            flex-direction: column;<br>            flex-basis: 100%;<br>            flex: 1;<br>            padding: 10px;<br>        }<br>    </style><br><div class=\"wandb-row\"><div class=\"wandb-col\"><h3>Run history:</h3><br/><table class=\"wandb\"><tr><td>epoch</td><td>▁▃▅▆█</td></tr><tr><td>lr</td><td>▁▁▁▁▁</td></tr><tr><td>train_acc</td><td>▁▇▇██</td></tr><tr><td>train_loss</td><td>█▂▁▁▁</td></tr><tr><td>val_acc</td><td>▁▂▇█▇</td></tr><tr><td>val_f1</td><td>▁▂▇██</td></tr><tr><td>val_loss</td><td>█▅▁▁▂</td></tr></table><br/></div><div class=\"wandb-col\"><h3>Run summary:</h3><br/><table class=\"wandb\"><tr><td>epoch</td><td>5</td></tr><tr><td>lr</td><td>0.0001</td></tr><tr><td>optimizer</td><td>RMSprop</td></tr><tr><td>train_acc</td><td>0.93081</td></tr><tr><td>train_loss</td><td>0.22395</td></tr><tr><td>val_acc</td><td>0.91739</td></tr><tr><td>val_f1</td><td>0.9177</td></tr><tr><td>val_loss</td><td>0.26213</td></tr></table><br/></div></div>"
      ],
      "text/plain": [
       "<IPython.core.display.HTML object>"
      ]
     },
     "metadata": {},
     "output_type": "display_data"
    },
    {
     "data": {
      "text/html": [
       " View run <strong style=\"color:#cdcd00\">RMSprop_run</strong> at: <a href='https://wandb.ai/wilfried-mvomoeto-university-of-li-ge/Multi_Class_Pubmedbert_Attention_OptimizerSearch/runs/3ucl2bz8' target=\"_blank\">https://wandb.ai/wilfried-mvomoeto-university-of-li-ge/Multi_Class_Pubmedbert_Attention_OptimizerSearch/runs/3ucl2bz8</a><br> View project at: <a href='https://wandb.ai/wilfried-mvomoeto-university-of-li-ge/Multi_Class_Pubmedbert_Attention_OptimizerSearch' target=\"_blank\">https://wandb.ai/wilfried-mvomoeto-university-of-li-ge/Multi_Class_Pubmedbert_Attention_OptimizerSearch</a><br>Synced 5 W&B file(s), 0 media file(s), 0 artifact file(s) and 0 other file(s)"
      ],
      "text/plain": [
       "<IPython.core.display.HTML object>"
      ]
     },
     "metadata": {},
     "output_type": "display_data"
    },
    {
     "data": {
      "text/html": [
       "Find logs at: <code>./wandb/run-20250407_102600-3ucl2bz8/logs</code>"
      ],
      "text/plain": [
       "<IPython.core.display.HTML object>"
      ]
     },
     "metadata": {},
     "output_type": "display_data"
    }
   ],
   "source": [
    "num_epochs = 5\n",
    "learning_rate = 1e-4\n",
    "weight_decay = 1e-3\n",
    "criterion = torch.nn.CrossEntropyLoss()\n",
    "\n",
    "optimizers = {\n",
    "    'Adam': optim.Adam,\n",
    "    'AdamW': optim.AdamW,\n",
    "    'RMSprop': optim.RMSprop,\n",
    "}\n",
    "\n",
    "all_train_losses = {}\n",
    "all_val_losses = {}\n",
    "all_train_accs = {}\n",
    "all_val_accs = {}\n",
    "\n",
    "for optimizer_name, optimizer_class in optimizers.items():\n",
    "    print(f\"\\n🔹 Training with optimizer: {optimizer_name}\")\n",
    "\n",
    "    model = PubMedBERT_GRU_Attention(BERT_DIM, HIDDEN_DIM, dropout_prob=DROPOUT).to(device)\n",
    "    print(model)\n",
    "\n",
    "    optimizer = optimizer_class(model.parameters(), lr=learning_rate, weight_decay=weight_decay)\n",
    "    scheduler = ReduceLROnPlateau(optimizer, mode='min', factor=0.5, patience=2, verbose=True)\n",
    "\n",
    "    wandb.init(project='Multi_Class_Pubmedbert_Attention_OptimizerSearch', name=f\"{optimizer_name}_run\", config={\n",
    "        'learning_rate': learning_rate,\n",
    "        'num_epochs': num_epochs,\n",
    "        'optimizer': optimizer_name,\n",
    "        'model': 'PubMedBERT_Bi_GRU_Bahdanau_Attention',\n",
    "        'hidden_dim': HIDDEN_DIM,\n",
    "        'dropout_prob': DROPOUT\n",
    "    })\n",
    "\n",
    "    num_params = sum(p.numel() for p in model.parameters() if p.requires_grad)\n",
    "    print(f\"Total trainable parameters: {num_params}\")\n",
    "\n",
    "    train_losses, val_losses = [], []\n",
    "    train_accs, val_accs = [], []\n",
    "    best_val_loss = float('inf')\n",
    "\n",
    "    for epoch in range(num_epochs):\n",
    "        start_time = time.time()\n",
    "\n",
    "        train_loss, train_acc = train_model(model, train_loader, optimizer, criterion, device)\n",
    "        train_losses.append(train_loss)\n",
    "        train_accs.append(train_acc)\n",
    "\n",
    "        val_acc, f1, val_loss = evaluate_model(model, val_loader, criterion, device)\n",
    "        val_accs.append(val_acc)\n",
    "        val_losses.append(val_loss)\n",
    "\n",
    "        end_time = time.time()\n",
    "        duration = end_time - start_time\n",
    "\n",
    "        print(\n",
    "            f\"Opt: {optimizer_name} | Epoch {epoch+1}/{num_epochs} - \"\n",
    "            f\"TL: {train_loss:.4f}, VL: {val_loss:.4f}, \"\n",
    "            f\"TA: {train_acc:.2%}, VA: {val_acc:.2%}, F1: {f1:.2%}, \"\n",
    "            f\"Time: {duration/60:.2f} min\"\n",
    "        )\n",
    "\n",
    "        wandb.log({\n",
    "            'train_loss': train_loss,\n",
    "            'val_loss': val_loss,\n",
    "            'train_acc': train_acc,\n",
    "            'val_acc': val_acc,\n",
    "            'val_f1': f1,\n",
    "        })\n",
    "\n",
    "        scheduler.step(val_loss)\n",
    "\n",
    "    all_train_losses[optimizer_name] = train_losses\n",
    "    all_val_losses[optimizer_name] = val_losses\n",
    "    all_train_accs[optimizer_name] = train_accs\n",
    "    all_val_accs[optimizer_name] = val_accs\n",
    "\n",
    "    wandb.finish()"
   ]
  },
  {
   "cell_type": "markdown",
   "metadata": {
    "id": "lpFLedQ5UqQb"
   },
   "source": [
    "---\n",
    "Adam optimizer is selected."
   ]
  },
  {
   "cell_type": "markdown",
   "metadata": {
    "id": "e4XISJ0FSzKy"
   },
   "source": [
    "1.1.2 Depth value selection"
   ]
  },
  {
   "cell_type": "code",
   "execution_count": null,
   "metadata": {
    "colab": {
     "base_uri": "https://localhost:8080/",
     "height": 1000
    },
    "id": "qtOUdGIBSkaj",
    "outputId": "48f5d489-2370-4457-ef04-a9ede558e3a5"
   },
   "outputs": [
    {
     "name": "stdout",
     "output_type": "stream",
     "text": [
      "\n",
      "🔹 Training with GRU depth: 1\n"
     ]
    },
    {
     "name": "stderr",
     "output_type": "stream",
     "text": [
      "\u001b[34m\u001b[1mwandb\u001b[0m: Using wandb-core as the SDK backend.  Please refer to https://wandb.me/wandb-core for more information.\n"
     ]
    },
    {
     "data": {
      "application/javascript": [
       "\n",
       "        window._wandbApiKey = new Promise((resolve, reject) => {\n",
       "            function loadScript(url) {\n",
       "            return new Promise(function(resolve, reject) {\n",
       "                let newScript = document.createElement(\"script\");\n",
       "                newScript.onerror = reject;\n",
       "                newScript.onload = resolve;\n",
       "                document.body.appendChild(newScript);\n",
       "                newScript.src = url;\n",
       "            });\n",
       "            }\n",
       "            loadScript(\"https://cdn.jsdelivr.net/npm/postmate/build/postmate.min.js\").then(() => {\n",
       "            const iframe = document.createElement('iframe')\n",
       "            iframe.style.cssText = \"width:0;height:0;border:none\"\n",
       "            document.body.appendChild(iframe)\n",
       "            const handshake = new Postmate({\n",
       "                container: iframe,\n",
       "                url: 'https://wandb.ai/authorize'\n",
       "            });\n",
       "            const timeout = setTimeout(() => reject(\"Couldn't auto authenticate\"), 5000)\n",
       "            handshake.then(function(child) {\n",
       "                child.on('authorize', data => {\n",
       "                    clearTimeout(timeout)\n",
       "                    resolve(data)\n",
       "                });\n",
       "            });\n",
       "            })\n",
       "        });\n",
       "    "
      ],
      "text/plain": [
       "<IPython.core.display.Javascript object>"
      ]
     },
     "metadata": {},
     "output_type": "display_data"
    },
    {
     "name": "stderr",
     "output_type": "stream",
     "text": [
      "\u001b[34m\u001b[1mwandb\u001b[0m: Logging into wandb.ai. (Learn how to deploy a W&B server locally: https://wandb.me/wandb-server)\n",
      "\u001b[34m\u001b[1mwandb\u001b[0m: You can find your API key in your browser here: https://wandb.ai/authorize\n",
      "wandb: Paste an API key from your profile and hit enter:"
     ]
    },
    {
     "name": "stdout",
     "output_type": "stream",
     "text": [
      " ··········\n"
     ]
    },
    {
     "name": "stderr",
     "output_type": "stream",
     "text": [
      "\u001b[34m\u001b[1mwandb\u001b[0m: \u001b[33mWARNING\u001b[0m If you're specifying your api key in code, ensure this code is not shared publicly.\n",
      "\u001b[34m\u001b[1mwandb\u001b[0m: \u001b[33mWARNING\u001b[0m Consider setting the WANDB_API_KEY environment variable, or running `wandb login` from the command line.\n",
      "\u001b[34m\u001b[1mwandb\u001b[0m: No netrc file found, creating one.\n",
      "\u001b[34m\u001b[1mwandb\u001b[0m: Appending key for api.wandb.ai to your netrc file: /root/.netrc\n",
      "\u001b[34m\u001b[1mwandb\u001b[0m: Currently logged in as: \u001b[33mwilfried-mvomoeto\u001b[0m (\u001b[33mwilfried-mvomoeto-university-of-li-ge\u001b[0m) to \u001b[32mhttps://api.wandb.ai\u001b[0m. Use \u001b[1m`wandb login --relogin`\u001b[0m to force relogin\n"
     ]
    },
    {
     "data": {
      "text/html": [
       "Tracking run with wandb version 0.19.9"
      ],
      "text/plain": [
       "<IPython.core.display.HTML object>"
      ]
     },
     "metadata": {},
     "output_type": "display_data"
    },
    {
     "data": {
      "text/html": [
       "Run data is saved locally in <code>/content/wandb/run-20250407_113405-alig4mhu</code>"
      ],
      "text/plain": [
       "<IPython.core.display.HTML object>"
      ]
     },
     "metadata": {},
     "output_type": "display_data"
    },
    {
     "data": {
      "text/html": [
       "Syncing run <strong><a href='https://wandb.ai/wilfried-mvomoeto-university-of-li-ge/Multi_Class_Pubmedbert_Attention_DepthSearch/runs/alig4mhu' target=\"_blank\">Depth_1_run</a></strong> to <a href='https://wandb.ai/wilfried-mvomoeto-university-of-li-ge/Multi_Class_Pubmedbert_Attention_DepthSearch' target=\"_blank\">Weights & Biases</a> (<a href='https://wandb.me/developer-guide' target=\"_blank\">docs</a>)<br>"
      ],
      "text/plain": [
       "<IPython.core.display.HTML object>"
      ]
     },
     "metadata": {},
     "output_type": "display_data"
    },
    {
     "data": {
      "text/html": [
       " View project at <a href='https://wandb.ai/wilfried-mvomoeto-university-of-li-ge/Multi_Class_Pubmedbert_Attention_DepthSearch' target=\"_blank\">https://wandb.ai/wilfried-mvomoeto-university-of-li-ge/Multi_Class_Pubmedbert_Attention_DepthSearch</a>"
      ],
      "text/plain": [
       "<IPython.core.display.HTML object>"
      ]
     },
     "metadata": {},
     "output_type": "display_data"
    },
    {
     "data": {
      "text/html": [
       " View run at <a href='https://wandb.ai/wilfried-mvomoeto-university-of-li-ge/Multi_Class_Pubmedbert_Attention_DepthSearch/runs/alig4mhu' target=\"_blank\">https://wandb.ai/wilfried-mvomoeto-university-of-li-ge/Multi_Class_Pubmedbert_Attention_DepthSearch/runs/alig4mhu</a>"
      ],
      "text/plain": [
       "<IPython.core.display.HTML object>"
      ]
     },
     "metadata": {},
     "output_type": "display_data"
    },
    {
     "name": "stdout",
     "output_type": "stream",
     "text": [
      "Total trainable parameters (depth=1): 1712137\n"
     ]
    },
    {
     "name": "stderr",
     "output_type": "stream",
     "text": [
      "Training: 100%|██████████| 846/846 [10:32<00:00,  1.34it/s]\n",
      "Evaluating: 100%|██████████| 182/182 [02:09<00:00,  1.41it/s]\n"
     ]
    },
    {
     "name": "stdout",
     "output_type": "stream",
     "text": [
      "Depth: 1 | Epoch 1/5 - TL: 0.7334, VL: 0.2954, TA: 77.97%, VA: 91.26%, F1: 91.14%, Time: 12.69 min\n"
     ]
    },
    {
     "name": "stderr",
     "output_type": "stream",
     "text": [
      "Training: 100%|██████████| 846/846 [10:32<00:00,  1.34it/s]\n",
      "Evaluating: 100%|██████████| 182/182 [02:09<00:00,  1.41it/s]\n"
     ]
    },
    {
     "name": "stdout",
     "output_type": "stream",
     "text": [
      "Depth: 1 | Epoch 2/5 - TL: 0.2679, VL: 0.2730, TA: 91.96%, VA: 91.31%, F1: 91.30%, Time: 12.70 min\n"
     ]
    },
    {
     "name": "stderr",
     "output_type": "stream",
     "text": [
      "Training: 100%|██████████| 846/846 [10:32<00:00,  1.34it/s]\n",
      "Evaluating: 100%|██████████| 182/182 [02:09<00:00,  1.41it/s]\n"
     ]
    },
    {
     "name": "stdout",
     "output_type": "stream",
     "text": [
      "Depth: 1 | Epoch 3/5 - TL: 0.2448, VL: 0.2652, TA: 92.36%, VA: 91.43%, F1: 91.37%, Time: 12.69 min\n"
     ]
    },
    {
     "name": "stderr",
     "output_type": "stream",
     "text": [
      "Training: 100%|██████████| 846/846 [10:32<00:00,  1.34it/s]\n",
      "Evaluating: 100%|██████████| 182/182 [02:09<00:00,  1.41it/s]\n"
     ]
    },
    {
     "name": "stdout",
     "output_type": "stream",
     "text": [
      "Depth: 1 | Epoch 4/5 - TL: 0.2336, VL: 0.2640, TA: 92.73%, VA: 91.79%, F1: 91.75%, Time: 12.69 min\n"
     ]
    },
    {
     "name": "stderr",
     "output_type": "stream",
     "text": [
      "Training: 100%|██████████| 846/846 [10:31<00:00,  1.34it/s]\n",
      "Evaluating: 100%|██████████| 182/182 [02:08<00:00,  1.41it/s]"
     ]
    },
    {
     "name": "stdout",
     "output_type": "stream",
     "text": [
      "Depth: 1 | Epoch 5/5 - TL: 0.2249, VL: 0.2615, TA: 93.00%, VA: 91.86%, F1: 91.81%, Time: 12.68 min\n"
     ]
    },
    {
     "name": "stderr",
     "output_type": "stream",
     "text": [
      "\n"
     ]
    },
    {
     "data": {
      "text/html": [],
      "text/plain": [
       "<IPython.core.display.HTML object>"
      ]
     },
     "metadata": {},
     "output_type": "display_data"
    },
    {
     "data": {
      "text/html": [
       "<br>    <style><br>        .wandb-row {<br>            display: flex;<br>            flex-direction: row;<br>            flex-wrap: wrap;<br>            justify-content: flex-start;<br>            width: 100%;<br>        }<br>        .wandb-col {<br>            display: flex;<br>            flex-direction: column;<br>            flex-basis: 100%;<br>            flex: 1;<br>            padding: 10px;<br>        }<br>    </style><br><div class=\"wandb-row\"><div class=\"wandb-col\"><h3>Run history:</h3><br/><table class=\"wandb\"><tr><td>train_acc</td><td>▁████</td></tr><tr><td>train_loss</td><td>█▂▁▁▁</td></tr><tr><td>val_acc</td><td>▁▂▃▇█</td></tr><tr><td>val_f1</td><td>▁▃▃▇█</td></tr><tr><td>val_loss</td><td>█▃▂▂▁</td></tr></table><br/></div><div class=\"wandb-col\"><h3>Run summary:</h3><br/><table class=\"wandb\"><tr><td>train_acc</td><td>0.93</td></tr><tr><td>train_loss</td><td>0.22491</td></tr><tr><td>val_acc</td><td>0.91859</td></tr><tr><td>val_f1</td><td>0.91815</td></tr><tr><td>val_loss</td><td>0.26149</td></tr></table><br/></div></div>"
      ],
      "text/plain": [
       "<IPython.core.display.HTML object>"
      ]
     },
     "metadata": {},
     "output_type": "display_data"
    },
    {
     "data": {
      "text/html": [
       " View run <strong style=\"color:#cdcd00\">Depth_1_run</strong> at: <a href='https://wandb.ai/wilfried-mvomoeto-university-of-li-ge/Multi_Class_Pubmedbert_Attention_DepthSearch/runs/alig4mhu' target=\"_blank\">https://wandb.ai/wilfried-mvomoeto-university-of-li-ge/Multi_Class_Pubmedbert_Attention_DepthSearch/runs/alig4mhu</a><br> View project at: <a href='https://wandb.ai/wilfried-mvomoeto-university-of-li-ge/Multi_Class_Pubmedbert_Attention_DepthSearch' target=\"_blank\">https://wandb.ai/wilfried-mvomoeto-university-of-li-ge/Multi_Class_Pubmedbert_Attention_DepthSearch</a><br>Synced 5 W&B file(s), 0 media file(s), 0 artifact file(s) and 0 other file(s)"
      ],
      "text/plain": [
       "<IPython.core.display.HTML object>"
      ]
     },
     "metadata": {},
     "output_type": "display_data"
    },
    {
     "data": {
      "text/html": [
       "Find logs at: <code>./wandb/run-20250407_113405-alig4mhu/logs</code>"
      ],
      "text/plain": [
       "<IPython.core.display.HTML object>"
      ]
     },
     "metadata": {},
     "output_type": "display_data"
    },
    {
     "name": "stdout",
     "output_type": "stream",
     "text": [
      "\n",
      "🔹 Training with GRU depth: 2\n"
     ]
    },
    {
     "data": {
      "text/html": [
       "Tracking run with wandb version 0.19.9"
      ],
      "text/plain": [
       "<IPython.core.display.HTML object>"
      ]
     },
     "metadata": {},
     "output_type": "display_data"
    },
    {
     "data": {
      "text/html": [
       "Run data is saved locally in <code>/content/wandb/run-20250407_123734-6nkrdo77</code>"
      ],
      "text/plain": [
       "<IPython.core.display.HTML object>"
      ]
     },
     "metadata": {},
     "output_type": "display_data"
    },
    {
     "data": {
      "text/html": [
       "Syncing run <strong><a href='https://wandb.ai/wilfried-mvomoeto-university-of-li-ge/Multi_Class_Pubmedbert_Attention_DepthSearch/runs/6nkrdo77' target=\"_blank\">Depth_2_run</a></strong> to <a href='https://wandb.ai/wilfried-mvomoeto-university-of-li-ge/Multi_Class_Pubmedbert_Attention_DepthSearch' target=\"_blank\">Weights & Biases</a> (<a href='https://wandb.me/developer-guide' target=\"_blank\">docs</a>)<br>"
      ],
      "text/plain": [
       "<IPython.core.display.HTML object>"
      ]
     },
     "metadata": {},
     "output_type": "display_data"
    },
    {
     "data": {
      "text/html": [
       " View project at <a href='https://wandb.ai/wilfried-mvomoeto-university-of-li-ge/Multi_Class_Pubmedbert_Attention_DepthSearch' target=\"_blank\">https://wandb.ai/wilfried-mvomoeto-university-of-li-ge/Multi_Class_Pubmedbert_Attention_DepthSearch</a>"
      ],
      "text/plain": [
       "<IPython.core.display.HTML object>"
      ]
     },
     "metadata": {},
     "output_type": "display_data"
    },
    {
     "data": {
      "text/html": [
       " View run at <a href='https://wandb.ai/wilfried-mvomoeto-university-of-li-ge/Multi_Class_Pubmedbert_Attention_DepthSearch/runs/6nkrdo77' target=\"_blank\">https://wandb.ai/wilfried-mvomoeto-university-of-li-ge/Multi_Class_Pubmedbert_Attention_DepthSearch/runs/6nkrdo77</a>"
      ],
      "text/plain": [
       "<IPython.core.display.HTML object>"
      ]
     },
     "metadata": {},
     "output_type": "display_data"
    },
    {
     "name": "stdout",
     "output_type": "stream",
     "text": [
      "Total trainable parameters (depth=2): 2894857\n"
     ]
    },
    {
     "name": "stderr",
     "output_type": "stream",
     "text": [
      "Training: 100%|██████████| 846/846 [11:07<00:00,  1.27it/s]\n",
      "Evaluating: 100%|██████████| 182/182 [02:12<00:00,  1.38it/s]\n"
     ]
    },
    {
     "name": "stdout",
     "output_type": "stream",
     "text": [
      "Depth: 2 | Epoch 1/5 - TL: 0.6391, VL: 0.3060, TA: 80.28%, VA: 90.50%, F1: 90.47%, Time: 13.33 min\n"
     ]
    },
    {
     "name": "stderr",
     "output_type": "stream",
     "text": [
      "Training: 100%|██████████| 846/846 [11:07<00:00,  1.27it/s]\n",
      "Evaluating: 100%|██████████| 182/182 [02:11<00:00,  1.38it/s]\n"
     ]
    },
    {
     "name": "stdout",
     "output_type": "stream",
     "text": [
      "Depth: 2 | Epoch 2/5 - TL: 0.2703, VL: 0.2834, TA: 91.84%, VA: 90.81%, F1: 90.87%, Time: 13.32 min\n"
     ]
    },
    {
     "name": "stderr",
     "output_type": "stream",
     "text": [
      "Training: 100%|██████████| 846/846 [11:07<00:00,  1.27it/s]\n",
      "Evaluating: 100%|██████████| 182/182 [02:11<00:00,  1.38it/s]\n"
     ]
    },
    {
     "name": "stdout",
     "output_type": "stream",
     "text": [
      "Depth: 2 | Epoch 3/5 - TL: 0.2452, VL: 0.2563, TA: 92.37%, VA: 91.76%, F1: 91.74%, Time: 13.32 min\n"
     ]
    },
    {
     "name": "stderr",
     "output_type": "stream",
     "text": [
      "Training: 100%|██████████| 846/846 [11:07<00:00,  1.27it/s]\n",
      "Evaluating: 100%|██████████| 182/182 [02:11<00:00,  1.39it/s]\n"
     ]
    },
    {
     "name": "stdout",
     "output_type": "stream",
     "text": [
      "Depth: 2 | Epoch 4/5 - TL: 0.2342, VL: 0.2704, TA: 92.65%, VA: 91.51%, F1: 91.43%, Time: 13.31 min\n"
     ]
    },
    {
     "name": "stderr",
     "output_type": "stream",
     "text": [
      "Training: 100%|██████████| 846/846 [11:07<00:00,  1.27it/s]\n",
      "Evaluating: 100%|██████████| 182/182 [02:12<00:00,  1.38it/s]"
     ]
    },
    {
     "name": "stdout",
     "output_type": "stream",
     "text": [
      "Depth: 2 | Epoch 5/5 - TL: 0.2249, VL: 0.2533, TA: 92.95%, VA: 92.03%, F1: 92.02%, Time: 13.32 min\n"
     ]
    },
    {
     "name": "stderr",
     "output_type": "stream",
     "text": [
      "\n"
     ]
    },
    {
     "data": {
      "text/html": [],
      "text/plain": [
       "<IPython.core.display.HTML object>"
      ]
     },
     "metadata": {},
     "output_type": "display_data"
    },
    {
     "data": {
      "text/html": [
       "<br>    <style><br>        .wandb-row {<br>            display: flex;<br>            flex-direction: row;<br>            flex-wrap: wrap;<br>            justify-content: flex-start;<br>            width: 100%;<br>        }<br>        .wandb-col {<br>            display: flex;<br>            flex-direction: column;<br>            flex-basis: 100%;<br>            flex: 1;<br>            padding: 10px;<br>        }<br>    </style><br><div class=\"wandb-row\"><div class=\"wandb-col\"><h3>Run history:</h3><br/><table class=\"wandb\"><tr><td>train_acc</td><td>▁▇███</td></tr><tr><td>train_loss</td><td>█▂▁▁▁</td></tr><tr><td>val_acc</td><td>▁▂▇▆█</td></tr><tr><td>val_f1</td><td>▁▃▇▅█</td></tr><tr><td>val_loss</td><td>█▅▁▃▁</td></tr></table><br/></div><div class=\"wandb-col\"><h3>Run summary:</h3><br/><table class=\"wandb\"><tr><td>train_acc</td><td>0.92948</td></tr><tr><td>train_loss</td><td>0.22493</td></tr><tr><td>val_acc</td><td>0.92032</td></tr><tr><td>val_f1</td><td>0.92015</td></tr><tr><td>val_loss</td><td>0.25327</td></tr></table><br/></div></div>"
      ],
      "text/plain": [
       "<IPython.core.display.HTML object>"
      ]
     },
     "metadata": {},
     "output_type": "display_data"
    },
    {
     "data": {
      "text/html": [
       " View run <strong style=\"color:#cdcd00\">Depth_2_run</strong> at: <a href='https://wandb.ai/wilfried-mvomoeto-university-of-li-ge/Multi_Class_Pubmedbert_Attention_DepthSearch/runs/6nkrdo77' target=\"_blank\">https://wandb.ai/wilfried-mvomoeto-university-of-li-ge/Multi_Class_Pubmedbert_Attention_DepthSearch/runs/6nkrdo77</a><br> View project at: <a href='https://wandb.ai/wilfried-mvomoeto-university-of-li-ge/Multi_Class_Pubmedbert_Attention_DepthSearch' target=\"_blank\">https://wandb.ai/wilfried-mvomoeto-university-of-li-ge/Multi_Class_Pubmedbert_Attention_DepthSearch</a><br>Synced 5 W&B file(s), 0 media file(s), 0 artifact file(s) and 0 other file(s)"
      ],
      "text/plain": [
       "<IPython.core.display.HTML object>"
      ]
     },
     "metadata": {},
     "output_type": "display_data"
    },
    {
     "data": {
      "text/html": [
       "Find logs at: <code>./wandb/run-20250407_123734-6nkrdo77/logs</code>"
      ],
      "text/plain": [
       "<IPython.core.display.HTML object>"
      ]
     },
     "metadata": {},
     "output_type": "display_data"
    },
    {
     "name": "stdout",
     "output_type": "stream",
     "text": [
      "\n",
      "🔹 Training with GRU depth: 3\n"
     ]
    },
    {
     "data": {
      "text/html": [
       "Tracking run with wandb version 0.19.9"
      ],
      "text/plain": [
       "<IPython.core.display.HTML object>"
      ]
     },
     "metadata": {},
     "output_type": "display_data"
    },
    {
     "data": {
      "text/html": [
       "Run data is saved locally in <code>/content/wandb/run-20250407_134411-lwb7mybf</code>"
      ],
      "text/plain": [
       "<IPython.core.display.HTML object>"
      ]
     },
     "metadata": {},
     "output_type": "display_data"
    },
    {
     "data": {
      "text/html": [
       "Syncing run <strong><a href='https://wandb.ai/wilfried-mvomoeto-university-of-li-ge/Multi_Class_Pubmedbert_Attention_DepthSearch/runs/lwb7mybf' target=\"_blank\">Depth_3_run</a></strong> to <a href='https://wandb.ai/wilfried-mvomoeto-university-of-li-ge/Multi_Class_Pubmedbert_Attention_DepthSearch' target=\"_blank\">Weights & Biases</a> (<a href='https://wandb.me/developer-guide' target=\"_blank\">docs</a>)<br>"
      ],
      "text/plain": [
       "<IPython.core.display.HTML object>"
      ]
     },
     "metadata": {},
     "output_type": "display_data"
    },
    {
     "data": {
      "text/html": [
       " View project at <a href='https://wandb.ai/wilfried-mvomoeto-university-of-li-ge/Multi_Class_Pubmedbert_Attention_DepthSearch' target=\"_blank\">https://wandb.ai/wilfried-mvomoeto-university-of-li-ge/Multi_Class_Pubmedbert_Attention_DepthSearch</a>"
      ],
      "text/plain": [
       "<IPython.core.display.HTML object>"
      ]
     },
     "metadata": {},
     "output_type": "display_data"
    },
    {
     "data": {
      "text/html": [
       " View run at <a href='https://wandb.ai/wilfried-mvomoeto-university-of-li-ge/Multi_Class_Pubmedbert_Attention_DepthSearch/runs/lwb7mybf' target=\"_blank\">https://wandb.ai/wilfried-mvomoeto-university-of-li-ge/Multi_Class_Pubmedbert_Attention_DepthSearch/runs/lwb7mybf</a>"
      ],
      "text/plain": [
       "<IPython.core.display.HTML object>"
      ]
     },
     "metadata": {},
     "output_type": "display_data"
    },
    {
     "name": "stdout",
     "output_type": "stream",
     "text": [
      "Total trainable parameters (depth=3): 4077577\n"
     ]
    },
    {
     "name": "stderr",
     "output_type": "stream",
     "text": [
      "Training: 100%|██████████| 846/846 [11:40<00:00,  1.21it/s]\n",
      "Evaluating: 100%|██████████| 182/182 [02:14<00:00,  1.35it/s]\n"
     ]
    },
    {
     "name": "stdout",
     "output_type": "stream",
     "text": [
      "Depth: 3 | Epoch 1/5 - TL: 0.6080, VL: 0.3145, TA: 81.07%, VA: 90.62%, F1: 90.58%, Time: 13.92 min\n"
     ]
    },
    {
     "name": "stderr",
     "output_type": "stream",
     "text": [
      "Training: 100%|██████████| 846/846 [11:40<00:00,  1.21it/s]\n",
      "Evaluating: 100%|██████████| 182/182 [02:14<00:00,  1.35it/s]\n"
     ]
    },
    {
     "name": "stdout",
     "output_type": "stream",
     "text": [
      "Depth: 3 | Epoch 2/5 - TL: 0.2809, VL: 0.3050, TA: 91.36%, VA: 90.89%, F1: 90.79%, Time: 13.91 min\n"
     ]
    },
    {
     "name": "stderr",
     "output_type": "stream",
     "text": [
      "Training: 100%|██████████| 846/846 [11:40<00:00,  1.21it/s]\n",
      "Evaluating: 100%|██████████| 182/182 [02:14<00:00,  1.36it/s]\n"
     ]
    },
    {
     "name": "stdout",
     "output_type": "stream",
     "text": [
      "Depth: 3 | Epoch 3/5 - TL: 0.2576, VL: 0.2698, TA: 92.01%, VA: 91.20%, F1: 91.22%, Time: 13.90 min\n"
     ]
    },
    {
     "name": "stderr",
     "output_type": "stream",
     "text": [
      "Training: 100%|██████████| 846/846 [11:39<00:00,  1.21it/s]\n",
      "Evaluating: 100%|██████████| 182/182 [02:14<00:00,  1.35it/s]\n"
     ]
    },
    {
     "name": "stdout",
     "output_type": "stream",
     "text": [
      "Depth: 3 | Epoch 4/5 - TL: 0.2467, VL: 0.2730, TA: 92.29%, VA: 91.39%, F1: 91.36%, Time: 13.91 min\n"
     ]
    },
    {
     "name": "stderr",
     "output_type": "stream",
     "text": [
      "Training: 100%|██████████| 846/846 [11:40<00:00,  1.21it/s]\n",
      "Evaluating: 100%|██████████| 182/182 [02:13<00:00,  1.36it/s]"
     ]
    },
    {
     "name": "stdout",
     "output_type": "stream",
     "text": [
      "Depth: 3 | Epoch 5/5 - TL: 0.2355, VL: 0.2644, TA: 92.50%, VA: 91.70%, F1: 91.62%, Time: 13.90 min\n"
     ]
    },
    {
     "name": "stderr",
     "output_type": "stream",
     "text": [
      "\n"
     ]
    },
    {
     "data": {
      "text/html": [],
      "text/plain": [
       "<IPython.core.display.HTML object>"
      ]
     },
     "metadata": {},
     "output_type": "display_data"
    },
    {
     "data": {
      "text/html": [
       "<br>    <style><br>        .wandb-row {<br>            display: flex;<br>            flex-direction: row;<br>            flex-wrap: wrap;<br>            justify-content: flex-start;<br>            width: 100%;<br>        }<br>        .wandb-col {<br>            display: flex;<br>            flex-direction: column;<br>            flex-basis: 100%;<br>            flex: 1;<br>            padding: 10px;<br>        }<br>    </style><br><div class=\"wandb-row\"><div class=\"wandb-col\"><h3>Run history:</h3><br/><table class=\"wandb\"><tr><td>train_acc</td><td>▁▇███</td></tr><tr><td>train_loss</td><td>█▂▁▁▁</td></tr><tr><td>val_acc</td><td>▁▃▅▆█</td></tr><tr><td>val_f1</td><td>▁▂▅▆█</td></tr><tr><td>val_loss</td><td>█▇▂▂▁</td></tr></table><br/></div><div class=\"wandb-col\"><h3>Run summary:</h3><br/><table class=\"wandb\"><tr><td>train_acc</td><td>0.92504</td></tr><tr><td>train_loss</td><td>0.23551</td></tr><tr><td>val_acc</td><td>0.91704</td></tr><tr><td>val_f1</td><td>0.91616</td></tr><tr><td>val_loss</td><td>0.26439</td></tr></table><br/></div></div>"
      ],
      "text/plain": [
       "<IPython.core.display.HTML object>"
      ]
     },
     "metadata": {},
     "output_type": "display_data"
    },
    {
     "data": {
      "text/html": [
       " View run <strong style=\"color:#cdcd00\">Depth_3_run</strong> at: <a href='https://wandb.ai/wilfried-mvomoeto-university-of-li-ge/Multi_Class_Pubmedbert_Attention_DepthSearch/runs/lwb7mybf' target=\"_blank\">https://wandb.ai/wilfried-mvomoeto-university-of-li-ge/Multi_Class_Pubmedbert_Attention_DepthSearch/runs/lwb7mybf</a><br> View project at: <a href='https://wandb.ai/wilfried-mvomoeto-university-of-li-ge/Multi_Class_Pubmedbert_Attention_DepthSearch' target=\"_blank\">https://wandb.ai/wilfried-mvomoeto-university-of-li-ge/Multi_Class_Pubmedbert_Attention_DepthSearch</a><br>Synced 5 W&B file(s), 0 media file(s), 0 artifact file(s) and 0 other file(s)"
      ],
      "text/plain": [
       "<IPython.core.display.HTML object>"
      ]
     },
     "metadata": {},
     "output_type": "display_data"
    },
    {
     "data": {
      "text/html": [
       "Find logs at: <code>./wandb/run-20250407_134411-lwb7mybf/logs</code>"
      ],
      "text/plain": [
       "<IPython.core.display.HTML object>"
      ]
     },
     "metadata": {},
     "output_type": "display_data"
    }
   ],
   "source": [
    "depth_values = [1, 2, 3]\n",
    "num_epochs = 5\n",
    "learning_rate = 1e-4\n",
    "weight_decay = 1e-3\n",
    "criterion = torch.nn.CrossEntropyLoss()\n",
    "\n",
    "all_train_losses = {}\n",
    "all_val_losses = {}\n",
    "all_train_accs = {}\n",
    "all_val_accs = {}\n",
    "\n",
    "for depth in depth_values:\n",
    "    print(f\"\\n🔹 Training with GRU depth: {depth}\")\n",
    "\n",
    "    model = PubMedBERT_GRU_Attention(\n",
    "        bert_dim=BERT_DIM,\n",
    "        hidden_dim=HIDDEN_DIM,\n",
    "        num_classes=9,\n",
    "        num_layers=depth,\n",
    "        dropout_prob=DROPOUT\n",
    "    ).to(device)\n",
    "\n",
    "    optimizer = optim.Adam(model.parameters(), lr=learning_rate, weight_decay=weight_decay)\n",
    "    scheduler = ReduceLROnPlateau(optimizer, mode='min', factor=0.5, patience=2, verbose=True)\n",
    "\n",
    "    wandb.init(\n",
    "        project='Multi_Class_Pubmedbert_Attention_DepthSearch',\n",
    "        name=f\"Depth_{depth}_run\",\n",
    "        config={\n",
    "            'learning_rate': learning_rate,\n",
    "            'num_epochs': num_epochs,\n",
    "            'optimizer': 'Adam',\n",
    "            'gru_depth': depth,\n",
    "            'model': 'PubMedBERT_Bi_GRU_Bahdanau_Attention',\n",
    "            'hidden_dim': HIDDEN_DIM,\n",
    "            'dropout_prob': DROPOUT\n",
    "        }\n",
    "    )\n",
    "\n",
    "    num_params = sum(p.numel() for p in model.parameters() if p.requires_grad)\n",
    "    print(f\"Total trainable parameters (depth={depth}): {num_params}\")\n",
    "\n",
    "    train_losses, val_losses = [], []\n",
    "    train_accs, val_accs = [], []\n",
    "    best_val_loss = float('inf')\n",
    "\n",
    "    for epoch in range(num_epochs):\n",
    "        start_time = time.time()\n",
    "\n",
    "        train_loss, train_acc = train_model(model, train_loader, optimizer, criterion, device)\n",
    "        val_acc, f1, val_loss = evaluate_model(model, val_loader, criterion, device)\n",
    "\n",
    "        train_losses.append(train_loss)\n",
    "        train_accs.append(train_acc)\n",
    "        val_losses.append(val_loss)\n",
    "        val_accs.append(val_acc)\n",
    "\n",
    "        end_time = time.time()\n",
    "        duration = end_time - start_time\n",
    "\n",
    "        print(\n",
    "            f\"Depth: {depth} | Epoch {epoch+1}/{num_epochs} - \"\n",
    "            f\"TL: {train_loss:.4f}, VL: {val_loss:.4f}, \"\n",
    "            f\"TA: {train_acc:.2%}, VA: {val_acc:.2%}, F1: {f1:.2%}, \"\n",
    "            f\"Time: {duration/60:.2f} min\"\n",
    "        )\n",
    "\n",
    "        wandb.log({\n",
    "            'train_loss': train_loss,\n",
    "            'val_loss': val_loss,\n",
    "            'train_acc': train_acc,\n",
    "            'val_acc': val_acc,\n",
    "            'val_f1': f1,\n",
    "        })\n",
    "\n",
    "        scheduler.step(val_loss)\n",
    "\n",
    "    all_train_losses[f'depth_{depth}'] = train_losses\n",
    "    all_val_losses[f'depth_{depth}'] = val_losses\n",
    "    all_train_accs[f'depth_{depth}'] = train_accs\n",
    "    all_val_accs[f'depth_{depth}'] = val_accs\n",
    "\n",
    "    wandb.finish()"
   ]
  },
  {
   "cell_type": "markdown",
   "metadata": {
    "id": "4LsUzi6wUv5m"
   },
   "source": [
    "---\n",
    "Depth value is set to 2."
   ]
  },
  {
   "cell_type": "markdown",
   "metadata": {
    "id": "n-MZh2WJ9g8B"
   },
   "source": [
    "1.3 Leanring rate value selection"
   ]
  },
  {
   "cell_type": "code",
   "execution_count": null,
   "metadata": {
    "colab": {
     "base_uri": "https://localhost:8080/",
     "height": 1000
    },
    "id": "WIx3G_8f9foL",
    "outputId": "43cc4bc5-dc22-40cd-8de9-2bf215391dec"
   },
   "outputs": [
    {
     "name": "stdout",
     "output_type": "stream",
     "text": [
      "\n",
      "🔹 Training with learning rate: 9e-05\n"
     ]
    },
    {
     "data": {
      "text/html": [
       "Tracking run with wandb version 0.19.9"
      ],
      "text/plain": [
       "<IPython.core.display.HTML object>"
      ]
     },
     "metadata": {},
     "output_type": "display_data"
    },
    {
     "data": {
      "text/html": [
       "Run data is saved locally in <code>/content/wandb/run-20250407_192203-7g4z962m</code>"
      ],
      "text/plain": [
       "<IPython.core.display.HTML object>"
      ]
     },
     "metadata": {},
     "output_type": "display_data"
    },
    {
     "data": {
      "text/html": [
       "Syncing run <strong><a href='https://wandb.ai/wilfried-mvomoeto-university-of-li-ge/Multi_Class_Pubmedbert_Attention_LRTuning/runs/7g4z962m' target=\"_blank\">LR_9e-05_run</a></strong> to <a href='https://wandb.ai/wilfried-mvomoeto-university-of-li-ge/Multi_Class_Pubmedbert_Attention_LRTuning' target=\"_blank\">Weights & Biases</a> (<a href='https://wandb.me/developer-guide' target=\"_blank\">docs</a>)<br>"
      ],
      "text/plain": [
       "<IPython.core.display.HTML object>"
      ]
     },
     "metadata": {},
     "output_type": "display_data"
    },
    {
     "data": {
      "text/html": [
       " View project at <a href='https://wandb.ai/wilfried-mvomoeto-university-of-li-ge/Multi_Class_Pubmedbert_Attention_LRTuning' target=\"_blank\">https://wandb.ai/wilfried-mvomoeto-university-of-li-ge/Multi_Class_Pubmedbert_Attention_LRTuning</a>"
      ],
      "text/plain": [
       "<IPython.core.display.HTML object>"
      ]
     },
     "metadata": {},
     "output_type": "display_data"
    },
    {
     "data": {
      "text/html": [
       " View run at <a href='https://wandb.ai/wilfried-mvomoeto-university-of-li-ge/Multi_Class_Pubmedbert_Attention_LRTuning/runs/7g4z962m' target=\"_blank\">https://wandb.ai/wilfried-mvomoeto-university-of-li-ge/Multi_Class_Pubmedbert_Attention_LRTuning/runs/7g4z962m</a>"
      ],
      "text/plain": [
       "<IPython.core.display.HTML object>"
      ]
     },
     "metadata": {},
     "output_type": "display_data"
    },
    {
     "name": "stdout",
     "output_type": "stream",
     "text": [
      "Total trainable parameters (lr=9e-05): 2894857\n"
     ]
    },
    {
     "name": "stderr",
     "output_type": "stream",
     "text": [
      "Training: 100%|██████████| 846/846 [10:39<00:00,  1.32it/s]\n",
      "Evaluating: 100%|██████████| 182/182 [02:05<00:00,  1.44it/s]\n"
     ]
    },
    {
     "name": "stdout",
     "output_type": "stream",
     "text": [
      "LR: 9e-05 | Epoch 1/5 - TL: 0.6746, VL: 0.2990, TA: 79.27%, VA: 90.74%, F1: 90.72%, Time: 12.76 min\n"
     ]
    },
    {
     "name": "stderr",
     "output_type": "stream",
     "text": [
      "Training: 100%|██████████| 846/846 [10:38<00:00,  1.32it/s]\n",
      "Evaluating: 100%|██████████| 182/182 [02:05<00:00,  1.45it/s]\n"
     ]
    },
    {
     "name": "stdout",
     "output_type": "stream",
     "text": [
      "LR: 9e-05 | Epoch 2/5 - TL: 0.2705, VL: 0.2730, TA: 91.64%, VA: 91.24%, F1: 91.19%, Time: 12.75 min\n"
     ]
    },
    {
     "name": "stderr",
     "output_type": "stream",
     "text": [
      "Training: 100%|██████████| 846/846 [10:38<00:00,  1.32it/s]\n",
      "Evaluating: 100%|██████████| 182/182 [02:05<00:00,  1.45it/s]\n"
     ]
    },
    {
     "name": "stdout",
     "output_type": "stream",
     "text": [
      "LR: 9e-05 | Epoch 3/5 - TL: 0.2500, VL: 0.2676, TA: 92.31%, VA: 91.70%, F1: 91.70%, Time: 12.74 min\n"
     ]
    },
    {
     "name": "stderr",
     "output_type": "stream",
     "text": [
      "Training: 100%|██████████| 846/846 [10:38<00:00,  1.32it/s]\n",
      "Evaluating: 100%|██████████| 182/182 [02:05<00:00,  1.45it/s]\n"
     ]
    },
    {
     "name": "stdout",
     "output_type": "stream",
     "text": [
      "LR: 9e-05 | Epoch 4/5 - TL: 0.2352, VL: 0.2651, TA: 92.78%, VA: 91.86%, F1: 91.88%, Time: 12.74 min\n"
     ]
    },
    {
     "name": "stderr",
     "output_type": "stream",
     "text": [
      "Training: 100%|██████████| 846/846 [10:38<00:00,  1.32it/s]\n",
      "Evaluating: 100%|██████████| 182/182 [02:05<00:00,  1.44it/s]"
     ]
    },
    {
     "name": "stdout",
     "output_type": "stream",
     "text": [
      "LR: 9e-05 | Epoch 5/5 - TL: 0.2273, VL: 0.2564, TA: 92.93%, VA: 92.14%, F1: 92.09%, Time: 12.75 min\n"
     ]
    },
    {
     "name": "stderr",
     "output_type": "stream",
     "text": [
      "\n"
     ]
    },
    {
     "data": {
      "text/html": [],
      "text/plain": [
       "<IPython.core.display.HTML object>"
      ]
     },
     "metadata": {},
     "output_type": "display_data"
    },
    {
     "data": {
      "text/html": [
       "<br>    <style><br>        .wandb-row {<br>            display: flex;<br>            flex-direction: row;<br>            flex-wrap: wrap;<br>            justify-content: flex-start;<br>            width: 100%;<br>        }<br>        .wandb-col {<br>            display: flex;<br>            flex-direction: column;<br>            flex-basis: 100%;<br>            flex: 1;<br>            padding: 10px;<br>        }<br>    </style><br><div class=\"wandb-row\"><div class=\"wandb-col\"><h3>Run history:</h3><br/><table class=\"wandb\"><tr><td>learning_rate</td><td>▁▁▁▁▁</td></tr><tr><td>train_acc</td><td>▁▇███</td></tr><tr><td>train_loss</td><td>█▂▁▁▁</td></tr><tr><td>val_acc</td><td>▁▄▆▇█</td></tr><tr><td>val_f1</td><td>▁▃▆▇█</td></tr><tr><td>val_loss</td><td>█▄▃▂▁</td></tr></table><br/></div><div class=\"wandb-col\"><h3>Run summary:</h3><br/><table class=\"wandb\"><tr><td>learning_rate</td><td>9e-05</td></tr><tr><td>train_acc</td><td>0.92926</td></tr><tr><td>train_loss</td><td>0.22727</td></tr><tr><td>val_acc</td><td>0.92135</td></tr><tr><td>val_f1</td><td>0.92093</td></tr><tr><td>val_loss</td><td>0.25637</td></tr></table><br/></div></div>"
      ],
      "text/plain": [
       "<IPython.core.display.HTML object>"
      ]
     },
     "metadata": {},
     "output_type": "display_data"
    },
    {
     "data": {
      "text/html": [
       " View run <strong style=\"color:#cdcd00\">LR_9e-05_run</strong> at: <a href='https://wandb.ai/wilfried-mvomoeto-university-of-li-ge/Multi_Class_Pubmedbert_Attention_LRTuning/runs/7g4z962m' target=\"_blank\">https://wandb.ai/wilfried-mvomoeto-university-of-li-ge/Multi_Class_Pubmedbert_Attention_LRTuning/runs/7g4z962m</a><br> View project at: <a href='https://wandb.ai/wilfried-mvomoeto-university-of-li-ge/Multi_Class_Pubmedbert_Attention_LRTuning' target=\"_blank\">https://wandb.ai/wilfried-mvomoeto-university-of-li-ge/Multi_Class_Pubmedbert_Attention_LRTuning</a><br>Synced 5 W&B file(s), 0 media file(s), 0 artifact file(s) and 0 other file(s)"
      ],
      "text/plain": [
       "<IPython.core.display.HTML object>"
      ]
     },
     "metadata": {},
     "output_type": "display_data"
    },
    {
     "data": {
      "text/html": [
       "Find logs at: <code>./wandb/run-20250407_192203-7g4z962m/logs</code>"
      ],
      "text/plain": [
       "<IPython.core.display.HTML object>"
      ]
     },
     "metadata": {},
     "output_type": "display_data"
    },
    {
     "name": "stdout",
     "output_type": "stream",
     "text": [
      "\n",
      "🔹 Training with learning rate: 7e-05\n"
     ]
    },
    {
     "data": {
      "text/html": [
       "Tracking run with wandb version 0.19.9"
      ],
      "text/plain": [
       "<IPython.core.display.HTML object>"
      ]
     },
     "metadata": {},
     "output_type": "display_data"
    },
    {
     "data": {
      "text/html": [
       "Run data is saved locally in <code>/content/wandb/run-20250407_202552-zv65yls8</code>"
      ],
      "text/plain": [
       "<IPython.core.display.HTML object>"
      ]
     },
     "metadata": {},
     "output_type": "display_data"
    },
    {
     "data": {
      "text/html": [
       "Syncing run <strong><a href='https://wandb.ai/wilfried-mvomoeto-university-of-li-ge/Multi_Class_Pubmedbert_Attention_LRTuning/runs/zv65yls8' target=\"_blank\">LR_7e-05_run</a></strong> to <a href='https://wandb.ai/wilfried-mvomoeto-university-of-li-ge/Multi_Class_Pubmedbert_Attention_LRTuning' target=\"_blank\">Weights & Biases</a> (<a href='https://wandb.me/developer-guide' target=\"_blank\">docs</a>)<br>"
      ],
      "text/plain": [
       "<IPython.core.display.HTML object>"
      ]
     },
     "metadata": {},
     "output_type": "display_data"
    },
    {
     "data": {
      "text/html": [
       " View project at <a href='https://wandb.ai/wilfried-mvomoeto-university-of-li-ge/Multi_Class_Pubmedbert_Attention_LRTuning' target=\"_blank\">https://wandb.ai/wilfried-mvomoeto-university-of-li-ge/Multi_Class_Pubmedbert_Attention_LRTuning</a>"
      ],
      "text/plain": [
       "<IPython.core.display.HTML object>"
      ]
     },
     "metadata": {},
     "output_type": "display_data"
    },
    {
     "data": {
      "text/html": [
       " View run at <a href='https://wandb.ai/wilfried-mvomoeto-university-of-li-ge/Multi_Class_Pubmedbert_Attention_LRTuning/runs/zv65yls8' target=\"_blank\">https://wandb.ai/wilfried-mvomoeto-university-of-li-ge/Multi_Class_Pubmedbert_Attention_LRTuning/runs/zv65yls8</a>"
      ],
      "text/plain": [
       "<IPython.core.display.HTML object>"
      ]
     },
     "metadata": {},
     "output_type": "display_data"
    },
    {
     "name": "stdout",
     "output_type": "stream",
     "text": [
      "Total trainable parameters (lr=7e-05): 2894857\n"
     ]
    },
    {
     "name": "stderr",
     "output_type": "stream",
     "text": [
      "Training: 100%|██████████| 846/846 [10:39<00:00,  1.32it/s]\n",
      "Evaluating: 100%|██████████| 182/182 [02:06<00:00,  1.44it/s]\n"
     ]
    },
    {
     "name": "stdout",
     "output_type": "stream",
     "text": [
      "LR: 7e-05 | Epoch 1/5 - TL: 0.7341, VL: 0.3170, TA: 77.93%, VA: 90.12%, F1: 90.15%, Time: 12.76 min\n"
     ]
    },
    {
     "name": "stderr",
     "output_type": "stream",
     "text": [
      "Training: 100%|██████████| 846/846 [10:38<00:00,  1.32it/s]\n",
      "Evaluating: 100%|██████████| 182/182 [02:05<00:00,  1.44it/s]\n"
     ]
    },
    {
     "name": "stdout",
     "output_type": "stream",
     "text": [
      "LR: 7e-05 | Epoch 2/5 - TL: 0.2799, VL: 0.2788, TA: 91.41%, VA: 91.36%, F1: 91.33%, Time: 12.74 min\n"
     ]
    },
    {
     "name": "stderr",
     "output_type": "stream",
     "text": [
      "Training: 100%|██████████| 846/846 [10:38<00:00,  1.32it/s]\n",
      "Evaluating: 100%|██████████| 182/182 [02:05<00:00,  1.44it/s]\n"
     ]
    },
    {
     "name": "stdout",
     "output_type": "stream",
     "text": [
      "LR: 7e-05 | Epoch 3/5 - TL: 0.2532, VL: 0.2708, TA: 92.19%, VA: 91.84%, F1: 91.77%, Time: 12.75 min\n"
     ]
    },
    {
     "name": "stderr",
     "output_type": "stream",
     "text": [
      "Training: 100%|██████████| 846/846 [10:39<00:00,  1.32it/s]\n",
      "Evaluating: 100%|██████████| 182/182 [02:05<00:00,  1.45it/s]\n"
     ]
    },
    {
     "name": "stdout",
     "output_type": "stream",
     "text": [
      "LR: 7e-05 | Epoch 4/5 - TL: 0.2407, VL: 0.2615, TA: 92.51%, VA: 91.86%, F1: 91.79%, Time: 12.75 min\n"
     ]
    },
    {
     "name": "stderr",
     "output_type": "stream",
     "text": [
      "Training: 100%|██████████| 846/846 [10:38<00:00,  1.32it/s]\n",
      "Evaluating: 100%|██████████| 182/182 [02:05<00:00,  1.45it/s]"
     ]
    },
    {
     "name": "stdout",
     "output_type": "stream",
     "text": [
      "LR: 7e-05 | Epoch 5/5 - TL: 0.2293, VL: 0.2712, TA: 92.86%, VA: 91.12%, F1: 91.14%, Time: 12.75 min\n"
     ]
    },
    {
     "name": "stderr",
     "output_type": "stream",
     "text": [
      "\n"
     ]
    },
    {
     "data": {
      "text/html": [],
      "text/plain": [
       "<IPython.core.display.HTML object>"
      ]
     },
     "metadata": {},
     "output_type": "display_data"
    },
    {
     "data": {
      "text/html": [
       "<br>    <style><br>        .wandb-row {<br>            display: flex;<br>            flex-direction: row;<br>            flex-wrap: wrap;<br>            justify-content: flex-start;<br>            width: 100%;<br>        }<br>        .wandb-col {<br>            display: flex;<br>            flex-direction: column;<br>            flex-basis: 100%;<br>            flex: 1;<br>            padding: 10px;<br>        }<br>    </style><br><div class=\"wandb-row\"><div class=\"wandb-col\"><h3>Run history:</h3><br/><table class=\"wandb\"><tr><td>learning_rate</td><td>▁▁▁▁▁</td></tr><tr><td>train_acc</td><td>▁▇███</td></tr><tr><td>train_loss</td><td>█▂▁▁▁</td></tr><tr><td>val_acc</td><td>▁▆██▅</td></tr><tr><td>val_f1</td><td>▁▆██▅</td></tr><tr><td>val_loss</td><td>█▃▂▁▂</td></tr></table><br/></div><div class=\"wandb-col\"><h3>Run summary:</h3><br/><table class=\"wandb\"><tr><td>learning_rate</td><td>7e-05</td></tr><tr><td>train_acc</td><td>0.92859</td></tr><tr><td>train_loss</td><td>0.2293</td></tr><tr><td>val_acc</td><td>0.91118</td></tr><tr><td>val_f1</td><td>0.91135</td></tr><tr><td>val_loss</td><td>0.27119</td></tr></table><br/></div></div>"
      ],
      "text/plain": [
       "<IPython.core.display.HTML object>"
      ]
     },
     "metadata": {},
     "output_type": "display_data"
    },
    {
     "data": {
      "text/html": [
       " View run <strong style=\"color:#cdcd00\">LR_7e-05_run</strong> at: <a href='https://wandb.ai/wilfried-mvomoeto-university-of-li-ge/Multi_Class_Pubmedbert_Attention_LRTuning/runs/zv65yls8' target=\"_blank\">https://wandb.ai/wilfried-mvomoeto-university-of-li-ge/Multi_Class_Pubmedbert_Attention_LRTuning/runs/zv65yls8</a><br> View project at: <a href='https://wandb.ai/wilfried-mvomoeto-university-of-li-ge/Multi_Class_Pubmedbert_Attention_LRTuning' target=\"_blank\">https://wandb.ai/wilfried-mvomoeto-university-of-li-ge/Multi_Class_Pubmedbert_Attention_LRTuning</a><br>Synced 5 W&B file(s), 0 media file(s), 0 artifact file(s) and 0 other file(s)"
      ],
      "text/plain": [
       "<IPython.core.display.HTML object>"
      ]
     },
     "metadata": {},
     "output_type": "display_data"
    },
    {
     "data": {
      "text/html": [
       "Find logs at: <code>./wandb/run-20250407_202552-zv65yls8/logs</code>"
      ],
      "text/plain": [
       "<IPython.core.display.HTML object>"
      ]
     },
     "metadata": {},
     "output_type": "display_data"
    },
    {
     "name": "stdout",
     "output_type": "stream",
     "text": [
      "\n",
      "🔹 Training with learning rate: 5e-05\n"
     ]
    },
    {
     "data": {
      "text/html": [
       "Tracking run with wandb version 0.19.9"
      ],
      "text/plain": [
       "<IPython.core.display.HTML object>"
      ]
     },
     "metadata": {},
     "output_type": "display_data"
    },
    {
     "data": {
      "text/html": [
       "Run data is saved locally in <code>/content/wandb/run-20250407_212940-oue39nll</code>"
      ],
      "text/plain": [
       "<IPython.core.display.HTML object>"
      ]
     },
     "metadata": {},
     "output_type": "display_data"
    },
    {
     "data": {
      "text/html": [
       "Syncing run <strong><a href='https://wandb.ai/wilfried-mvomoeto-university-of-li-ge/Multi_Class_Pubmedbert_Attention_LRTuning/runs/oue39nll' target=\"_blank\">LR_5e-05_run</a></strong> to <a href='https://wandb.ai/wilfried-mvomoeto-university-of-li-ge/Multi_Class_Pubmedbert_Attention_LRTuning' target=\"_blank\">Weights & Biases</a> (<a href='https://wandb.me/developer-guide' target=\"_blank\">docs</a>)<br>"
      ],
      "text/plain": [
       "<IPython.core.display.HTML object>"
      ]
     },
     "metadata": {},
     "output_type": "display_data"
    },
    {
     "data": {
      "text/html": [
       " View project at <a href='https://wandb.ai/wilfried-mvomoeto-university-of-li-ge/Multi_Class_Pubmedbert_Attention_LRTuning' target=\"_blank\">https://wandb.ai/wilfried-mvomoeto-university-of-li-ge/Multi_Class_Pubmedbert_Attention_LRTuning</a>"
      ],
      "text/plain": [
       "<IPython.core.display.HTML object>"
      ]
     },
     "metadata": {},
     "output_type": "display_data"
    },
    {
     "data": {
      "text/html": [
       " View run at <a href='https://wandb.ai/wilfried-mvomoeto-university-of-li-ge/Multi_Class_Pubmedbert_Attention_LRTuning/runs/oue39nll' target=\"_blank\">https://wandb.ai/wilfried-mvomoeto-university-of-li-ge/Multi_Class_Pubmedbert_Attention_LRTuning/runs/oue39nll</a>"
      ],
      "text/plain": [
       "<IPython.core.display.HTML object>"
      ]
     },
     "metadata": {},
     "output_type": "display_data"
    },
    {
     "name": "stdout",
     "output_type": "stream",
     "text": [
      "Total trainable parameters (lr=5e-05): 2894857\n"
     ]
    },
    {
     "name": "stderr",
     "output_type": "stream",
     "text": [
      "Training: 100%|██████████| 846/846 [10:38<00:00,  1.32it/s]\n",
      "Evaluating: 100%|██████████| 182/182 [02:05<00:00,  1.45it/s]\n"
     ]
    },
    {
     "name": "stdout",
     "output_type": "stream",
     "text": [
      "LR: 5e-05 | Epoch 1/5 - TL: 0.9081, VL: 0.3390, TA: 72.69%, VA: 89.57%, F1: 89.51%, Time: 12.74 min\n"
     ]
    },
    {
     "name": "stderr",
     "output_type": "stream",
     "text": [
      "Training: 100%|██████████| 846/846 [10:38<00:00,  1.33it/s]\n",
      "Evaluating: 100%|██████████| 182/182 [02:05<00:00,  1.45it/s]\n"
     ]
    },
    {
     "name": "stdout",
     "output_type": "stream",
     "text": [
      "LR: 5e-05 | Epoch 2/5 - TL: 0.2931, VL: 0.2884, TA: 91.33%, VA: 91.12%, F1: 91.05%, Time: 12.74 min\n"
     ]
    },
    {
     "name": "stderr",
     "output_type": "stream",
     "text": [
      "Training: 100%|██████████| 846/846 [10:38<00:00,  1.33it/s]\n",
      "Evaluating: 100%|██████████| 182/182 [02:05<00:00,  1.45it/s]\n"
     ]
    },
    {
     "name": "stdout",
     "output_type": "stream",
     "text": [
      "LR: 5e-05 | Epoch 3/5 - TL: 0.2598, VL: 0.2758, TA: 91.98%, VA: 91.45%, F1: 91.41%, Time: 12.74 min\n"
     ]
    },
    {
     "name": "stderr",
     "output_type": "stream",
     "text": [
      "Training: 100%|██████████| 846/846 [10:38<00:00,  1.32it/s]\n",
      "Evaluating: 100%|██████████| 182/182 [02:05<00:00,  1.45it/s]\n"
     ]
    },
    {
     "name": "stdout",
     "output_type": "stream",
     "text": [
      "LR: 5e-05 | Epoch 4/5 - TL: 0.2445, VL: 0.2718, TA: 92.30%, VA: 91.43%, F1: 91.43%, Time: 12.74 min\n"
     ]
    },
    {
     "name": "stderr",
     "output_type": "stream",
     "text": [
      "Training: 100%|██████████| 846/846 [10:38<00:00,  1.32it/s]\n",
      "Evaluating: 100%|██████████| 182/182 [02:05<00:00,  1.45it/s]"
     ]
    },
    {
     "name": "stdout",
     "output_type": "stream",
     "text": [
      "LR: 5e-05 | Epoch 5/5 - TL: 0.2317, VL: 0.2643, TA: 92.74%, VA: 91.57%, F1: 91.53%, Time: 12.74 min\n"
     ]
    },
    {
     "name": "stderr",
     "output_type": "stream",
     "text": [
      "\n"
     ]
    },
    {
     "data": {
      "text/html": [],
      "text/plain": [
       "<IPython.core.display.HTML object>"
      ]
     },
     "metadata": {},
     "output_type": "display_data"
    },
    {
     "data": {
      "text/html": [
       "<br>    <style><br>        .wandb-row {<br>            display: flex;<br>            flex-direction: row;<br>            flex-wrap: wrap;<br>            justify-content: flex-start;<br>            width: 100%;<br>        }<br>        .wandb-col {<br>            display: flex;<br>            flex-direction: column;<br>            flex-basis: 100%;<br>            flex: 1;<br>            padding: 10px;<br>        }<br>    </style><br><div class=\"wandb-row\"><div class=\"wandb-col\"><h3>Run history:</h3><br/><table class=\"wandb\"><tr><td>learning_rate</td><td>▁▁▁▁▁</td></tr><tr><td>train_acc</td><td>▁████</td></tr><tr><td>train_loss</td><td>█▂▁▁▁</td></tr><tr><td>val_acc</td><td>▁▆███</td></tr><tr><td>val_f1</td><td>▁▆███</td></tr><tr><td>val_loss</td><td>█▃▂▂▁</td></tr></table><br/></div><div class=\"wandb-col\"><h3>Run summary:</h3><br/><table class=\"wandb\"><tr><td>learning_rate</td><td>5e-05</td></tr><tr><td>train_acc</td><td>0.92741</td></tr><tr><td>train_loss</td><td>0.23167</td></tr><tr><td>val_acc</td><td>0.91566</td></tr><tr><td>val_f1</td><td>0.91535</td></tr><tr><td>val_loss</td><td>0.26435</td></tr></table><br/></div></div>"
      ],
      "text/plain": [
       "<IPython.core.display.HTML object>"
      ]
     },
     "metadata": {},
     "output_type": "display_data"
    },
    {
     "data": {
      "text/html": [
       " View run <strong style=\"color:#cdcd00\">LR_5e-05_run</strong> at: <a href='https://wandb.ai/wilfried-mvomoeto-university-of-li-ge/Multi_Class_Pubmedbert_Attention_LRTuning/runs/oue39nll' target=\"_blank\">https://wandb.ai/wilfried-mvomoeto-university-of-li-ge/Multi_Class_Pubmedbert_Attention_LRTuning/runs/oue39nll</a><br> View project at: <a href='https://wandb.ai/wilfried-mvomoeto-university-of-li-ge/Multi_Class_Pubmedbert_Attention_LRTuning' target=\"_blank\">https://wandb.ai/wilfried-mvomoeto-university-of-li-ge/Multi_Class_Pubmedbert_Attention_LRTuning</a><br>Synced 5 W&B file(s), 0 media file(s), 0 artifact file(s) and 0 other file(s)"
      ],
      "text/plain": [
       "<IPython.core.display.HTML object>"
      ]
     },
     "metadata": {},
     "output_type": "display_data"
    },
    {
     "data": {
      "text/html": [
       "Find logs at: <code>./wandb/run-20250407_212940-oue39nll/logs</code>"
      ],
      "text/plain": [
       "<IPython.core.display.HTML object>"
      ]
     },
     "metadata": {},
     "output_type": "display_data"
    }
   ],
   "source": [
    "learning_rates = [9e-5, 7e-5, 5e-5]\n",
    "num_epochs = 5\n",
    "criterion = torch.nn.CrossEntropyLoss()\n",
    "\n",
    "all_train_losses = {}\n",
    "all_val_losses = {}\n",
    "all_train_accs = {}\n",
    "all_val_accs = {}\n",
    "\n",
    "for lr in learning_rates:\n",
    "    print(f\"\\n🔹 Training with learning rate: {lr}\")\n",
    "\n",
    "    model = PubMedBERT_GRU_Attention(\n",
    "        bert_dim=BERT_DIM,\n",
    "        hidden_dim=HIDDEN_DIM,\n",
    "        num_classes=9,\n",
    "        num_layers=2,\n",
    "        dropout_prob=DROPOUT\n",
    "    ).to(device)\n",
    "\n",
    "    optimizer = optim.Adam(model.parameters(), lr=lr, weight_decay=1e-3)\n",
    "    scheduler = ReduceLROnPlateau(optimizer, mode='min', factor=0.5, patience=2, verbose=True)\n",
    "\n",
    "    wandb.init(\n",
    "        project='Multi_Class_Pubmedbert_Attention_LRTuning',\n",
    "        name=f\"LR_{lr}_run\",\n",
    "        config={\n",
    "            'learning_rate': lr,\n",
    "            'num_epochs': num_epochs,\n",
    "            'optimizer': 'Adam',\n",
    "            'gru_depth': depth,\n",
    "            'model': 'PubMedBERT_Bi_GRU_Bahdanau_Attention',\n",
    "            'hidden_dim': HIDDEN_DIM,\n",
    "            'dropout_prob': DROPOUT\n",
    "        }\n",
    "    )\n",
    "\n",
    "    num_params = sum(p.numel() for p in model.parameters() if p.requires_grad)\n",
    "    print(f\"Total trainable parameters (lr={lr}): {num_params}\")\n",
    "\n",
    "    train_losses, val_losses = [], []\n",
    "    train_accs, val_accs = [], []\n",
    "    best_val_loss = float('inf')\n",
    "\n",
    "    for epoch in range(num_epochs):\n",
    "        start_time = time.time()\n",
    "\n",
    "        train_loss, train_acc = train_model(model, train_loader, optimizer, criterion, device)\n",
    "        val_acc, f1, val_loss = evaluate_model(model, val_loader, criterion, device)\n",
    "\n",
    "        train_losses.append(train_loss)\n",
    "        train_accs.append(train_acc)\n",
    "        val_losses.append(val_loss)\n",
    "        val_accs.append(val_acc)\n",
    "\n",
    "        end_time = time.time()\n",
    "        duration = end_time - start_time\n",
    "\n",
    "        print(\n",
    "            f\"LR: {lr} | Epoch {epoch+1}/{num_epochs} - \"\n",
    "            f\"TL: {train_loss:.4f}, VL: {val_loss:.4f}, \"\n",
    "            f\"TA: {train_acc:.2%}, VA: {val_acc:.2%}, F1: {f1:.2%}, \"\n",
    "            f\"Time: {duration/60:.2f} min\"\n",
    "        )\n",
    "\n",
    "        wandb.log({\n",
    "            'train_loss': train_loss,\n",
    "            'val_loss': val_loss,\n",
    "            'train_acc': train_acc,\n",
    "            'val_acc': val_acc,\n",
    "            'val_f1': f1,\n",
    "        })\n",
    "\n",
    "        scheduler.step(val_loss)\n",
    "\n",
    "    all_train_losses[f'lr_{lr}'] = train_losses\n",
    "    all_val_losses[f'lr_{lr}'] = val_losses\n",
    "    all_train_accs[f'lr_{lr}'] = train_accs\n",
    "    all_val_accs[f'lr_{lr}'] = val_accs\n",
    "\n",
    "    wandb.finish()"
   ]
  },
  {
   "cell_type": "markdown",
   "metadata": {
    "id": "4zLwAgfG9lJy"
   },
   "source": [
    "---\n",
    "Learning rate value is set to $ 9 \\cdot 10^{-5}$."
   ]
  },
  {
   "cell_type": "markdown",
   "metadata": {
    "id": "zIQJyx-A4Pzs"
   },
   "source": [
    "---\n",
    "\n",
    "#2. Use of Glove (300d) as word embeddings\n",
    "\n",
    "---"
   ]
  },
  {
   "cell_type": "markdown",
   "metadata": {
    "id": "3lToyY6j4lt6"
   },
   "source": [
    "GloVe (Global Vectors for Word Representation) is a type of word embedding developed by the Stanford NLP Group."
   ]
  },
  {
   "cell_type": "code",
   "execution_count": null,
   "metadata": {
    "id": "MOWkAQlqxGld"
   },
   "outputs": [],
   "source": [
    "def tokenize(text):\n",
    "    \"\"\"\n",
    "    Tokenizes the input text by converting it to lowercase and splitting it into words.\n",
    "\n",
    "    Args:\n",
    "        text: A string containing the text to be tokenized.\n",
    "\n",
    "    Returns:\n",
    "        A list of tokens (words) from the text.\n",
    "    \"\"\"\n",
    "    return re.findall(r'\\b\\w+\\b', text.lower())"
   ]
  },
  {
   "cell_type": "code",
   "execution_count": null,
   "metadata": {
    "id": "ON0JcVoZxGDW"
   },
   "outputs": [],
   "source": [
    "all_tokens = [token for text in X_train for token in tokenize(text)]\n",
    "vocab = Counter(all_tokens)\n",
    "filtered_vocab = {word: freq for word, freq in vocab.items() if freq >= 2}\n",
    "VOCAB_SIZE =  40000\n",
    "\n",
    "sorted_filtered_vocab = dict(sorted(filtered_vocab.items(), key=lambda item: item[1], reverse=True)[:VOCAB_SIZE])\n",
    "\n",
    "word_to_index = {word: idx for idx, (word, _) in enumerate(sorted_filtered_vocab.items(), 1)}\n",
    "word_to_index[\"<PAD>\"] = 0\n",
    "word_to_index[\"<UNK>\"] = len(word_to_index)\n",
    "\n",
    "index_to_word = {idx: word for word, idx in word_to_index.items()}"
   ]
  },
  {
   "cell_type": "code",
   "execution_count": null,
   "metadata": {
    "id": "G8NMMCni4DTt"
   },
   "outputs": [],
   "source": [
    "def text_to_sequence(text):\n",
    "    \"\"\"\n",
    "    Converts the tokenized text into a sequence of indices based on a word-to-index mapping.\n",
    "\n",
    "    Args:\n",
    "        text: A string containing the text to be converted.\n",
    "\n",
    "    Returns:\n",
    "        A list of integers representing the sequence of token indices.\n",
    "    \"\"\"\n",
    "    return [word_to_index.get(token, word_to_index[\"<UNK>\"]) for token in tokenize(text)]\n",
    "\n",
    "def pad_to_tensor(sequences, max_len=None):\n",
    "    \"\"\"\n",
    "    Pads sequences to the specified maximum length, or truncates them if they exceed it.\n",
    "\n",
    "    Args:\n",
    "        sequences: A list of sequences (each sequence is a list of integers).\n",
    "        max_len: The maximum length to which sequences should be padded. If None, no padding is applied.\n",
    "\n",
    "    Returns:\n",
    "        A tensor containing the padded (or truncated) sequences.\n",
    "    \"\"\"\n",
    "    padded_sequences = [torch.tensor(seq, dtype=torch.long) for seq in sequences]\n",
    "    if max_len:\n",
    "        padded_sequences = [seq[:max_len] for seq in padded_sequences]\n",
    "        padded_sequences = [\n",
    "            torch.cat([seq, torch.zeros(max_len - len(seq), dtype=torch.long)], 0) if len(seq) < max_len else seq\n",
    "            for seq in padded_sequences\n",
    "        ]\n",
    "\n",
    "    return torch.stack(padded_sequences)\n",
    "\n",
    "class TextDataset(Dataset):\n",
    "    \"\"\"\n",
    "    Custom Dataset for handling text data and labels.\n",
    "\n",
    "    Args:\n",
    "        X_data: Input features (e.g., tokenized text).\n",
    "        y_data: Labels corresponding to the text data.\n",
    "        raw_text_data: (Optional) The raw text data for reference (default is None).\n",
    "    \"\"\"\n",
    "    def __init__(self, X_data, y_data, raw_text_data=None):\n",
    "        self.X = torch.tensor(X_data, dtype=torch.long)\n",
    "        self.y = torch.tensor(y_data, dtype=torch.long)\n",
    "        self.raw_text_data = raw_text_data\n",
    "\n",
    "    def __len__(self):\n",
    "        return len(self.X)\n",
    "\n",
    "    def __getitem__(self, idx):\n",
    "        input_tensor = self.X[idx]\n",
    "        target_tensor = self.y[idx]\n",
    "        raw_text = self.raw_text_data[idx] if self.raw_text_data is not None else None\n",
    "        return input_tensor, target_tensor, raw_text\n",
    "\n",
    "def load_glove_embeddings(glove_path, word_to_index, embedding_dim):\n",
    "    \"\"\"Loads GloVe embeddings and returns an embedding matrix.\"\"\"\n",
    "    embedding_matrix = np.zeros((len(word_to_index), embedding_dim), dtype='float32')\n",
    "    with open(glove_path, 'r', encoding=\"utf-8\") as f:\n",
    "        for line in f:\n",
    "            values = line.strip().split()\n",
    "            word = values[0]\n",
    "            if word in word_to_index:\n",
    "                vector = np.asarray(values[1:], dtype='float32')\n",
    "                embedding_matrix[word_to_index[word]] = vector\n",
    "\n",
    "    return torch.tensor(embedding_matrix, dtype=torch.float)"
   ]
  },
  {
   "cell_type": "code",
   "execution_count": null,
   "metadata": {
    "colab": {
     "base_uri": "https://localhost:8080/"
    },
    "id": "rPrX3hAUwnRd",
    "outputId": "b0bd7c26-614a-4489-dc5e-82bd7d2bbd32"
   },
   "outputs": [
    {
     "name": "stdout",
     "output_type": "stream",
     "text": [
      "[79, 347, 3, 40, 127, 119, 11, 445, 2521, 351, 89, 42, 342, 763, 7415, 333, 5299, 6666, 133, 448, 52, 18, 1464, 79, 4, 499, 295, 233, 31, 6666, 1243, 38, 18, 699, 389, 2717, 119, 11, 445, 161, 4, 2639, 611, 83, 1490, 387, 694, 112, 6666, 79, 412, 1440, 913, 557, 3331, 40001, 622, 728, 128, 4687, 909, 2871, 458, 64, 607, 4412, 219, 4, 190, 19, 7153, 8005, 190, 287, 375, 876, 74, 1354, 458, 93, 4, 229, 9, 654, 132, 6666, 233, 31, 1243, 917, 2298, 213, 38, 4283, 18, 775, 43, 114, 136, 445, 9, 337, 6666, 40, 429, 80, 11, 301, 79]\n",
      "Train Tensor Shape: torch.Size([27056, 400]), Type: torch.int64\n",
      "Validation Tensor Shape: torch.Size([5798, 400]), Type: torch.int64\n",
      "Test Tensor Shape: torch.Size([5798, 400]), Type: torch.int64\n"
     ]
    }
   ],
   "source": [
    "X_train_seq = [text_to_sequence(text) for text in X_train]\n",
    "X_val_seq = [text_to_sequence(text) for text in X_val]\n",
    "X_test_seq = [text_to_sequence(text) for text in X_test]\n",
    "\n",
    "print(X_train_seq[0])\n",
    "max_length = 400\n",
    "\n",
    "X_train_tensor = pad_to_tensor(X_train_seq, max_len=max_length)\n",
    "X_val_tensor = pad_to_tensor(X_val_seq, max_len=max_length)\n",
    "X_test_tensor = pad_to_tensor(X_test_seq, max_len=max_length)\n",
    "\n",
    "print(f\"Train Tensor Shape: {X_train_tensor.shape}, Type: {X_train_tensor.dtype}\")\n",
    "print(f\"Validation Tensor Shape: {X_val_tensor.shape}, Type: {X_val_tensor.dtype}\")\n",
    "print(f\"Test Tensor Shape: {X_test_tensor.shape}, Type: {X_test_tensor.dtype}\")\n",
    "\n",
    "y_train_tensor = torch.tensor(y_train)\n",
    "y_val_tensor = torch.tensor(y_val)\n",
    "y_test_tensor = torch.tensor(y_test)"
   ]
  },
  {
   "cell_type": "code",
   "execution_count": null,
   "metadata": {
    "id": "EMUZ8nprw7iP"
   },
   "outputs": [],
   "source": [
    "class GloVe_GRU_BahdanauAttention(nn.Module):\n",
    "    \"\"\"\n",
    "    Model using GloVe embeddings, GRU layers, and Bahdanau Attention for classification.\n",
    "\n",
    "    Args:\n",
    "        embedding_matrix (Tensor): Pretrained GloVe embedding matrix.\n",
    "        hidden_dim (int): Hidden size for the GRU.\n",
    "        num_classes (int): Output classes.\n",
    "        num_layers (int): GRU depth.\n",
    "        dropout_prob (float): Dropout rate.\n",
    "    \"\"\"\n",
    "    def __init__(self, embedding_matrix, hidden_dim, num_classes=NUM_CLASSES, num_layers=1, dropout_prob=0.6):\n",
    "        super(GloVe_GRU_BahdanauAttention, self).__init__()\n",
    "\n",
    "        vocab_size, embedding_dim = embedding_matrix.shape\n",
    "        self.embedding = nn.Embedding.from_pretrained(embedding_matrix, freeze=False)\n",
    "\n",
    "        self.gru = nn.GRU(\n",
    "            input_size=embedding_dim,\n",
    "            hidden_size=hidden_dim,\n",
    "            num_layers=num_layers,\n",
    "            batch_first=True,\n",
    "            bidirectional=True\n",
    "        )\n",
    "\n",
    "        self.attention = BahdanauAttention(hidden_dim)\n",
    "        self.fc = nn.Linear(hidden_dim * 2, num_classes)\n",
    "        self.dropout = nn.Dropout(dropout_prob)\n",
    "\n",
    "    def forward(self, x):\n",
    "        \"\"\"\n",
    "        Args:\n",
    "            x (Tensor): Tensor of token indices (batch_size, seq_len)\n",
    "\n",
    "        Returns:\n",
    "            Tensor: Output logits for classification.\n",
    "        \"\"\"\n",
    "        embedded = self.embedding(x)\n",
    "        gru_out, _ = self.gru(embedded)\n",
    "        context = self.attention(gru_out)\n",
    "        x = self.dropout(context)\n",
    "        output = self.fc(x)\n",
    "        return output"
   ]
  },
  {
   "cell_type": "code",
   "execution_count": null,
   "metadata": {
    "id": "fUWEehDbzkol"
   },
   "outputs": [],
   "source": [
    "def calculate_accuracy(y_pred, y_true):\n",
    "    \"\"\"\n",
    "    Compute classification accuracy for multi-class predictions.\n",
    "\n",
    "    Args:\n",
    "        y_pred (Tensor): Raw output logits from the model of shape (batch_size, num_classes).\n",
    "        y_true (Tensor): Ground truth labels of shape (batch_size,).\n",
    "\n",
    "    Returns:\n",
    "        float: Accuracy score over the batch.\n",
    "    \"\"\"\n",
    "    preds = torch.argmax(y_pred, dim=1)\n",
    "    correct = (preds == y_true).sum().item()\n",
    "    total = y_true.size(0)\n",
    "    return correct / total\n",
    "\n",
    "def train_epoch_glove(model, train_loader, optimizer, criterion, device):\n",
    "    \"\"\"\n",
    "    Train the model for one epoch on the training data using GloVe embeddings.\n",
    "\n",
    "    Args:\n",
    "        model (nn.Module): The model to be trained.\n",
    "        train_loader (DataLoader): DataLoader for the training data.\n",
    "        optimizer (torch.optim.Optimizer): Optimizer for training.\n",
    "        criterion (nn.Module): Loss function.\n",
    "        device (torch.device): Device to run the training on (CPU or CUDA).\n",
    "\n",
    "    Returns:\n",
    "        Tuple[float, float]: Average loss and accuracy over the epoch.\n",
    "    \"\"\"\n",
    "    model.train()\n",
    "    total_loss, total_accuracy = 0, 0\n",
    "\n",
    "    for batch in train_loader:\n",
    "        if len(batch) == 3:\n",
    "            input_tensor, target_tensor, _ = batch  # Ignore raw_text\n",
    "        input_tensor, target_tensor = input_tensor.to(device), target_tensor.to(device)\n",
    "\n",
    "        optimizer.zero_grad()\n",
    "        output = model(input_tensor)\n",
    "\n",
    "        loss = criterion(output, target_tensor)\n",
    "        loss.backward()\n",
    "\n",
    "        torch.nn.utils.clip_grad_norm_(model.parameters(), max_norm=1.0)\n",
    "        optimizer.step()\n",
    "\n",
    "        acc = calculate_accuracy(output, target_tensor)\n",
    "        total_loss += loss.item()\n",
    "        total_accuracy += acc * input_tensor.size(0)\n",
    "\n",
    "    avg_loss = total_loss / len(train_loader)\n",
    "    avg_accuracy = total_accuracy / len(train_loader.dataset)\n",
    "\n",
    "    return avg_loss, avg_accuracy\n",
    "\n",
    "\n",
    "def validate_epoch_glove(model, val_loader, criterion, device):\n",
    "    \"\"\"\n",
    "    Validate the model on the validation set and compute weighted F1 and accuracy.\n",
    "\n",
    "    Args:\n",
    "        model (nn.Module): The trained model.\n",
    "        val_loader (DataLoader): DataLoader for the validation data.\n",
    "        criterion (nn.Module): Loss function.\n",
    "        device (torch.device): Device to run validation on.\n",
    "\n",
    "    Returns:\n",
    "        Tuple[float, float, float]: Average loss, F1 score, and accuracy.\n",
    "    \"\"\"\n",
    "    model.eval()\n",
    "    total_loss, total_accuracy = 0, 0\n",
    "\n",
    "    all_preds = []\n",
    "    all_labels = []\n",
    "\n",
    "    with torch.no_grad():\n",
    "        for batch in val_loader:\n",
    "            if len(batch) == 3:\n",
    "                input_tensor, target_tensor, _ = batch  # Ignore raw_text\n",
    "            input_tensor, target_tensor = input_tensor.to(device), target_tensor.to(device)\n",
    "\n",
    "            output = model(input_tensor)  # logits\n",
    "\n",
    "            loss = criterion(output, target_tensor)\n",
    "            acc = calculate_accuracy(output, target_tensor)\n",
    "\n",
    "            total_loss += loss.item()\n",
    "            total_accuracy += acc * input_tensor.size(0)\n",
    "\n",
    "            preds = torch.argmax(output, dim=1).cpu().numpy()\n",
    "            labels = target_tensor.cpu().numpy()\n",
    "\n",
    "            all_preds.extend(preds)\n",
    "            all_labels.extend(labels)\n",
    "\n",
    "    avg_loss = total_loss / len(val_loader)\n",
    "    avg_accuracy = total_accuracy / len(val_loader.dataset)\n",
    "    f1 = f1_score(all_labels, all_preds, average='weighted', zero_division=0)\n",
    "\n",
    "    return  avg_accuracy, f1, avg_loss\n",
    "\n",
    "def test_epoch_glove(model, val_loader, criterion, device):\n",
    "    \"\"\"\n",
    "    Validate the model and compute a complete set of metrics for multi-class classification.\n",
    "\n",
    "    Args:\n",
    "        model (nn.Module): The trained model.\n",
    "        val_loader (DataLoader): DataLoader for the validation data.\n",
    "        criterion (nn.Module): Loss function.\n",
    "        device (torch.device): Device to run validation on.\n",
    "\n",
    "    Returns:\n",
    "        Tuple[float, float, float, float, float, float]:\n",
    "            Average loss, accuracy, F1 score (weighted),\n",
    "            balanced accuracy, recall (weighted), precision (weighted).\n",
    "    \"\"\"\n",
    "    model.eval()\n",
    "    total_loss, total_accuracy = 0, 0\n",
    "\n",
    "    all_preds = []\n",
    "    all_labels = []\n",
    "\n",
    "    with torch.no_grad():\n",
    "        for batch in val_loader:\n",
    "            if len(batch) == 3:\n",
    "                input_tensor, target_tensor, _ = batch  # Ignore raw_text\n",
    "            else:\n",
    "                input_tensor, target_tensor = batch\n",
    "\n",
    "            input_tensor = input_tensor.to(device)\n",
    "            target_tensor = target_tensor.to(device).long()\n",
    "\n",
    "            output = model(input_tensor)  # logits\n",
    "\n",
    "            loss = criterion(output, target_tensor)\n",
    "            acc = calculate_accuracy(output, target_tensor)\n",
    "\n",
    "            total_loss += loss.item()\n",
    "            total_accuracy += acc * input_tensor.size(0)\n",
    "\n",
    "            preds = torch.argmax(output, dim=1).cpu().numpy()\n",
    "            labels = target_tensor.cpu().numpy()\n",
    "\n",
    "            all_preds.extend(preds)\n",
    "            all_labels.extend(labels)\n",
    "\n",
    "    avg_loss = total_loss / len(val_loader)\n",
    "    avg_accuracy = total_accuracy / len(val_loader.dataset)\n",
    "    f1 = f1_score(all_labels, all_preds, average='weighted', zero_division=0)\n",
    "    balanced_acc = balanced_accuracy_score(all_labels, all_preds)\n",
    "    precision = precision_score(all_labels, all_preds, average='weighted', zero_division=0)\n",
    "    recall = recall_score(all_labels, all_preds, average='weighted', zero_division=0)\n",
    "\n",
    "    return avg_loss, avg_accuracy, f1, balanced_acc, recall, precision"
   ]
  },
  {
   "cell_type": "code",
   "execution_count": null,
   "metadata": {
    "colab": {
     "base_uri": "https://localhost:8080/"
    },
    "id": "-v2ewV5s2kW-",
    "outputId": "ba60de00-9ef1-4c26-efe5-0498488dd394"
   },
   "outputs": [
    {
     "name": "stderr",
     "output_type": "stream",
     "text": [
      "<ipython-input-13-811d6649565c>:44: UserWarning: To copy construct from a tensor, it is recommended to use sourceTensor.clone().detach() or sourceTensor.clone().detach().requires_grad_(True), rather than torch.tensor(sourceTensor).\n",
      "  self.X = torch.tensor(X_data, dtype=torch.long)\n"
     ]
    }
   ],
   "source": [
    "EMBEDDING_DIM = 300\n",
    "embedding_matrix = load_glove_embeddings('/content/drive/MyDrive/glove/glove.6B.300d.txt', word_to_index, EMBEDDING_DIM)\n",
    "\n",
    "train_dataset = TextDataset(X_train_tensor, y_train, raw_text_data=X_train)\n",
    "val_dataset = TextDataset(X_val_tensor, y_val, raw_text_data=X_val)\n",
    "test_dataset = TextDataset(X_test_tensor, y_test, raw_text_data=X_test)\n",
    "\n",
    "train_loader = DataLoader(train_dataset, batch_size=BATCH_SIZE, shuffle=True)\n",
    "val_loader = DataLoader(val_dataset, batch_size=BATCH_SIZE, shuffle=False)\n",
    "test_loader = DataLoader(test_dataset, batch_size=BATCH_SIZE, shuffle=False)"
   ]
  },
  {
   "cell_type": "markdown",
   "metadata": {
    "id": "fDzA8dRB_ohq"
   },
   "source": [
    "---\n",
    "## 2.1 Optimisation phase"
   ]
  },
  {
   "cell_type": "markdown",
   "metadata": {
    "id": "P52-z8td85HX"
   },
   "source": [
    "2.1.1 Optimizer selection"
   ]
  },
  {
   "cell_type": "code",
   "execution_count": null,
   "metadata": {
    "colab": {
     "base_uri": "https://localhost:8080/",
     "height": 1000
    },
    "id": "1SXyBm643Jb3",
    "outputId": "319546c3-59c6-469e-d692-e3021fe51a9a"
   },
   "outputs": [
    {
     "name": "stdout",
     "output_type": "stream",
     "text": [
      "\n",
      "🔹 Training with optimizer: RMSprop\n"
     ]
    },
    {
     "data": {
      "text/html": [],
      "text/plain": [
       "<IPython.core.display.HTML object>"
      ]
     },
     "metadata": {},
     "output_type": "display_data"
    },
    {
     "data": {
      "text/html": [
       " View run <strong style=\"color:#cdcd00\">RMSprop_run</strong> at: <a href='https://wandb.ai/wilfried-mvomoeto-university-of-li-ge/Multi_Class_Optimizer_Comparison_gru_attention_glove300d/runs/6c5pubc3' target=\"_blank\">https://wandb.ai/wilfried-mvomoeto-university-of-li-ge/Multi_Class_Optimizer_Comparison_gru_attention_glove300d/runs/6c5pubc3</a><br> View project at: <a href='https://wandb.ai/wilfried-mvomoeto-university-of-li-ge/Multi_Class_Optimizer_Comparison_gru_attention_glove300d' target=\"_blank\">https://wandb.ai/wilfried-mvomoeto-university-of-li-ge/Multi_Class_Optimizer_Comparison_gru_attention_glove300d</a><br>Synced 5 W&B file(s), 0 media file(s), 0 artifact file(s) and 0 other file(s)"
      ],
      "text/plain": [
       "<IPython.core.display.HTML object>"
      ]
     },
     "metadata": {},
     "output_type": "display_data"
    },
    {
     "data": {
      "text/html": [
       "Find logs at: <code>./wandb/run-20250407_160125-6c5pubc3/logs</code>"
      ],
      "text/plain": [
       "<IPython.core.display.HTML object>"
      ]
     },
     "metadata": {},
     "output_type": "display_data"
    },
    {
     "data": {
      "text/html": [
       "Tracking run with wandb version 0.19.9"
      ],
      "text/plain": [
       "<IPython.core.display.HTML object>"
      ]
     },
     "metadata": {},
     "output_type": "display_data"
    },
    {
     "data": {
      "text/html": [
       "Run data is saved locally in <code>/content/wandb/run-20250407_160147-fus7m8vl</code>"
      ],
      "text/plain": [
       "<IPython.core.display.HTML object>"
      ]
     },
     "metadata": {},
     "output_type": "display_data"
    },
    {
     "data": {
      "text/html": [
       "Syncing run <strong><a href='https://wandb.ai/wilfried-mvomoeto-university-of-li-ge/Multi_Class_Optimizer_Comparison_gru_attention_glove300d/runs/fus7m8vl' target=\"_blank\">RMSprop_run</a></strong> to <a href='https://wandb.ai/wilfried-mvomoeto-university-of-li-ge/Multi_Class_Optimizer_Comparison_gru_attention_glove300d' target=\"_blank\">Weights & Biases</a> (<a href='https://wandb.me/developer-guide' target=\"_blank\">docs</a>)<br>"
      ],
      "text/plain": [
       "<IPython.core.display.HTML object>"
      ]
     },
     "metadata": {},
     "output_type": "display_data"
    },
    {
     "data": {
      "text/html": [
       " View project at <a href='https://wandb.ai/wilfried-mvomoeto-university-of-li-ge/Multi_Class_Optimizer_Comparison_gru_attention_glove300d' target=\"_blank\">https://wandb.ai/wilfried-mvomoeto-university-of-li-ge/Multi_Class_Optimizer_Comparison_gru_attention_glove300d</a>"
      ],
      "text/plain": [
       "<IPython.core.display.HTML object>"
      ]
     },
     "metadata": {},
     "output_type": "display_data"
    },
    {
     "data": {
      "text/html": [
       " View run at <a href='https://wandb.ai/wilfried-mvomoeto-university-of-li-ge/Multi_Class_Optimizer_Comparison_gru_attention_glove300d/runs/fus7m8vl' target=\"_blank\">https://wandb.ai/wilfried-mvomoeto-university-of-li-ge/Multi_Class_Optimizer_Comparison_gru_attention_glove300d/runs/fus7m8vl</a>"
      ],
      "text/plain": [
       "<IPython.core.display.HTML object>"
      ]
     },
     "metadata": {},
     "output_type": "display_data"
    },
    {
     "name": "stdout",
     "output_type": "stream",
     "text": [
      "GloVe_GRU_BahdanauAttention(\n",
      "  (embedding): Embedding(40002, 300)\n",
      "  (gru): GRU(300, 350, batch_first=True, bidirectional=True)\n",
      "  (attention): BahdanauAttention(\n",
      "    (W): Linear(in_features=700, out_features=350, bias=True)\n",
      "    (v): Linear(in_features=350, out_features=1, bias=False)\n",
      "  )\n",
      "  (fc): Linear(in_features=700, out_features=9, bias=True)\n",
      "  (dropout): Dropout(p=0.8, inplace=False)\n",
      ")\n",
      "Total trainable parameters: 13621809\n"
     ]
    },
    {
     "name": "stderr",
     "output_type": "stream",
     "text": [
      "Optimizer: RMSprop | Epoch 7/7 - Train Loss: 0.0788, Val Loss: 0.3216, Train ACC: 97.70%, Val ACC: 92.05%, Time: 0.99 min: 100%|██████████| 7/7 [07:00<00:00, 60.08s/epoch]\n"
     ]
    },
    {
     "data": {
      "text/html": [],
      "text/plain": [
       "<IPython.core.display.HTML object>"
      ]
     },
     "metadata": {},
     "output_type": "display_data"
    },
    {
     "data": {
      "text/html": [
       "<br>    <style><br>        .wandb-row {<br>            display: flex;<br>            flex-direction: row;<br>            flex-wrap: wrap;<br>            justify-content: flex-start;<br>            width: 100%;<br>        }<br>        .wandb-col {<br>            display: flex;<br>            flex-direction: column;<br>            flex-basis: 100%;<br>            flex: 1;<br>            padding: 10px;<br>        }<br>    </style><br><div class=\"wandb-row\"><div class=\"wandb-col\"><h3>Run history:</h3><br/><table class=\"wandb\"><tr><td>train_acc</td><td>▁▄▅▆▇██</td></tr><tr><td>train_loss</td><td>█▅▄▃▂▁▁</td></tr><tr><td>val_acc</td><td>▁▇██▇▂▃</td></tr><tr><td>val_f1</td><td>▁▇███▂▄</td></tr><tr><td>val_loss</td><td>▂▁▁▂▂█▅</td></tr></table><br/></div><div class=\"wandb-col\"><h3>Run summary:</h3><br/><table class=\"wandb\"><tr><td>train_acc</td><td>0.97705</td></tr><tr><td>train_loss</td><td>0.07875</td></tr><tr><td>val_acc</td><td>0.92049</td></tr><tr><td>val_f1</td><td>0.92067</td></tr><tr><td>val_loss</td><td>0.3216</td></tr></table><br/></div></div>"
      ],
      "text/plain": [
       "<IPython.core.display.HTML object>"
      ]
     },
     "metadata": {},
     "output_type": "display_data"
    },
    {
     "data": {
      "text/html": [
       " View run <strong style=\"color:#cdcd00\">RMSprop_run</strong> at: <a href='https://wandb.ai/wilfried-mvomoeto-university-of-li-ge/Multi_Class_Optimizer_Comparison_gru_attention_glove300d/runs/fus7m8vl' target=\"_blank\">https://wandb.ai/wilfried-mvomoeto-university-of-li-ge/Multi_Class_Optimizer_Comparison_gru_attention_glove300d/runs/fus7m8vl</a><br> View project at: <a href='https://wandb.ai/wilfried-mvomoeto-university-of-li-ge/Multi_Class_Optimizer_Comparison_gru_attention_glove300d' target=\"_blank\">https://wandb.ai/wilfried-mvomoeto-university-of-li-ge/Multi_Class_Optimizer_Comparison_gru_attention_glove300d</a><br>Synced 5 W&B file(s), 0 media file(s), 0 artifact file(s) and 0 other file(s)"
      ],
      "text/plain": [
       "<IPython.core.display.HTML object>"
      ]
     },
     "metadata": {},
     "output_type": "display_data"
    },
    {
     "data": {
      "text/html": [
       "Find logs at: <code>./wandb/run-20250407_160147-fus7m8vl/logs</code>"
      ],
      "text/plain": [
       "<IPython.core.display.HTML object>"
      ]
     },
     "metadata": {},
     "output_type": "display_data"
    },
    {
     "name": "stdout",
     "output_type": "stream",
     "text": [
      "\n",
      "🔹 Training with optimizer: Adam\n"
     ]
    },
    {
     "data": {
      "text/html": [
       "Tracking run with wandb version 0.19.9"
      ],
      "text/plain": [
       "<IPython.core.display.HTML object>"
      ]
     },
     "metadata": {},
     "output_type": "display_data"
    },
    {
     "data": {
      "text/html": [
       "Run data is saved locally in <code>/content/wandb/run-20250407_160905-7i1kmzw0</code>"
      ],
      "text/plain": [
       "<IPython.core.display.HTML object>"
      ]
     },
     "metadata": {},
     "output_type": "display_data"
    },
    {
     "data": {
      "text/html": [
       "Syncing run <strong><a href='https://wandb.ai/wilfried-mvomoeto-university-of-li-ge/Multi_Class_Optimizer_Comparison_gru_attention_glove300d/runs/7i1kmzw0' target=\"_blank\">Adam_run</a></strong> to <a href='https://wandb.ai/wilfried-mvomoeto-university-of-li-ge/Multi_Class_Optimizer_Comparison_gru_attention_glove300d' target=\"_blank\">Weights & Biases</a> (<a href='https://wandb.me/developer-guide' target=\"_blank\">docs</a>)<br>"
      ],
      "text/plain": [
       "<IPython.core.display.HTML object>"
      ]
     },
     "metadata": {},
     "output_type": "display_data"
    },
    {
     "data": {
      "text/html": [
       " View project at <a href='https://wandb.ai/wilfried-mvomoeto-university-of-li-ge/Multi_Class_Optimizer_Comparison_gru_attention_glove300d' target=\"_blank\">https://wandb.ai/wilfried-mvomoeto-university-of-li-ge/Multi_Class_Optimizer_Comparison_gru_attention_glove300d</a>"
      ],
      "text/plain": [
       "<IPython.core.display.HTML object>"
      ]
     },
     "metadata": {},
     "output_type": "display_data"
    },
    {
     "data": {
      "text/html": [
       " View run at <a href='https://wandb.ai/wilfried-mvomoeto-university-of-li-ge/Multi_Class_Optimizer_Comparison_gru_attention_glove300d/runs/7i1kmzw0' target=\"_blank\">https://wandb.ai/wilfried-mvomoeto-university-of-li-ge/Multi_Class_Optimizer_Comparison_gru_attention_glove300d/runs/7i1kmzw0</a>"
      ],
      "text/plain": [
       "<IPython.core.display.HTML object>"
      ]
     },
     "metadata": {},
     "output_type": "display_data"
    },
    {
     "name": "stdout",
     "output_type": "stream",
     "text": [
      "GloVe_GRU_BahdanauAttention(\n",
      "  (embedding): Embedding(40002, 300)\n",
      "  (gru): GRU(300, 350, batch_first=True, bidirectional=True)\n",
      "  (attention): BahdanauAttention(\n",
      "    (W): Linear(in_features=700, out_features=350, bias=True)\n",
      "    (v): Linear(in_features=350, out_features=1, bias=False)\n",
      "  )\n",
      "  (fc): Linear(in_features=700, out_features=9, bias=True)\n",
      "  (dropout): Dropout(p=0.8, inplace=False)\n",
      ")\n",
      "Total trainable parameters: 13621809\n"
     ]
    },
    {
     "name": "stderr",
     "output_type": "stream",
     "text": [
      "Optimizer: Adam | Epoch 7/7 - Train Loss: 0.0613, Val Loss: 0.3698, Train ACC: 98.12%, Val ACC: 91.01%, Time: 1.01 min: 100%|██████████| 7/7 [07:03<00:00, 60.48s/epoch]\n"
     ]
    },
    {
     "data": {
      "text/html": [],
      "text/plain": [
       "<IPython.core.display.HTML object>"
      ]
     },
     "metadata": {},
     "output_type": "display_data"
    },
    {
     "data": {
      "text/html": [
       "<br>    <style><br>        .wandb-row {<br>            display: flex;<br>            flex-direction: row;<br>            flex-wrap: wrap;<br>            justify-content: flex-start;<br>            width: 100%;<br>        }<br>        .wandb-col {<br>            display: flex;<br>            flex-direction: column;<br>            flex-basis: 100%;<br>            flex: 1;<br>            padding: 10px;<br>        }<br>    </style><br><div class=\"wandb-row\"><div class=\"wandb-col\"><h3>Run history:</h3><br/><table class=\"wandb\"><tr><td>train_acc</td><td>▁▄▅▇▇██</td></tr><tr><td>train_loss</td><td>█▅▄▃▂▁▁</td></tr><tr><td>val_acc</td><td>▃▆█▆▇▅▁</td></tr><tr><td>val_f1</td><td>▃▆█▆▇▄▁</td></tr><tr><td>val_loss</td><td>▂▁▁▄▅▆█</td></tr></table><br/></div><div class=\"wandb-col\"><h3>Run summary:</h3><br/><table class=\"wandb\"><tr><td>train_acc</td><td>0.98115</td></tr><tr><td>train_loss</td><td>0.06132</td></tr><tr><td>val_acc</td><td>0.91014</td></tr><tr><td>val_f1</td><td>0.91051</td></tr><tr><td>val_loss</td><td>0.36979</td></tr></table><br/></div></div>"
      ],
      "text/plain": [
       "<IPython.core.display.HTML object>"
      ]
     },
     "metadata": {},
     "output_type": "display_data"
    },
    {
     "data": {
      "text/html": [
       " View run <strong style=\"color:#cdcd00\">Adam_run</strong> at: <a href='https://wandb.ai/wilfried-mvomoeto-university-of-li-ge/Multi_Class_Optimizer_Comparison_gru_attention_glove300d/runs/7i1kmzw0' target=\"_blank\">https://wandb.ai/wilfried-mvomoeto-university-of-li-ge/Multi_Class_Optimizer_Comparison_gru_attention_glove300d/runs/7i1kmzw0</a><br> View project at: <a href='https://wandb.ai/wilfried-mvomoeto-university-of-li-ge/Multi_Class_Optimizer_Comparison_gru_attention_glove300d' target=\"_blank\">https://wandb.ai/wilfried-mvomoeto-university-of-li-ge/Multi_Class_Optimizer_Comparison_gru_attention_glove300d</a><br>Synced 5 W&B file(s), 0 media file(s), 0 artifact file(s) and 0 other file(s)"
      ],
      "text/plain": [
       "<IPython.core.display.HTML object>"
      ]
     },
     "metadata": {},
     "output_type": "display_data"
    },
    {
     "data": {
      "text/html": [
       "Find logs at: <code>./wandb/run-20250407_160905-7i1kmzw0/logs</code>"
      ],
      "text/plain": [
       "<IPython.core.display.HTML object>"
      ]
     },
     "metadata": {},
     "output_type": "display_data"
    },
    {
     "name": "stdout",
     "output_type": "stream",
     "text": [
      "\n",
      "🔹 Training with optimizer: AdamW\n"
     ]
    },
    {
     "data": {
      "text/html": [
       "Tracking run with wandb version 0.19.9"
      ],
      "text/plain": [
       "<IPython.core.display.HTML object>"
      ]
     },
     "metadata": {},
     "output_type": "display_data"
    },
    {
     "data": {
      "text/html": [
       "Run data is saved locally in <code>/content/wandb/run-20250407_161610-u3c7mskm</code>"
      ],
      "text/plain": [
       "<IPython.core.display.HTML object>"
      ]
     },
     "metadata": {},
     "output_type": "display_data"
    },
    {
     "data": {
      "text/html": [
       "Syncing run <strong><a href='https://wandb.ai/wilfried-mvomoeto-university-of-li-ge/Multi_Class_Optimizer_Comparison_gru_attention_glove300d/runs/u3c7mskm' target=\"_blank\">AdamW_run</a></strong> to <a href='https://wandb.ai/wilfried-mvomoeto-university-of-li-ge/Multi_Class_Optimizer_Comparison_gru_attention_glove300d' target=\"_blank\">Weights & Biases</a> (<a href='https://wandb.me/developer-guide' target=\"_blank\">docs</a>)<br>"
      ],
      "text/plain": [
       "<IPython.core.display.HTML object>"
      ]
     },
     "metadata": {},
     "output_type": "display_data"
    },
    {
     "data": {
      "text/html": [
       " View project at <a href='https://wandb.ai/wilfried-mvomoeto-university-of-li-ge/Multi_Class_Optimizer_Comparison_gru_attention_glove300d' target=\"_blank\">https://wandb.ai/wilfried-mvomoeto-university-of-li-ge/Multi_Class_Optimizer_Comparison_gru_attention_glove300d</a>"
      ],
      "text/plain": [
       "<IPython.core.display.HTML object>"
      ]
     },
     "metadata": {},
     "output_type": "display_data"
    },
    {
     "data": {
      "text/html": [
       " View run at <a href='https://wandb.ai/wilfried-mvomoeto-university-of-li-ge/Multi_Class_Optimizer_Comparison_gru_attention_glove300d/runs/u3c7mskm' target=\"_blank\">https://wandb.ai/wilfried-mvomoeto-university-of-li-ge/Multi_Class_Optimizer_Comparison_gru_attention_glove300d/runs/u3c7mskm</a>"
      ],
      "text/plain": [
       "<IPython.core.display.HTML object>"
      ]
     },
     "metadata": {},
     "output_type": "display_data"
    },
    {
     "name": "stdout",
     "output_type": "stream",
     "text": [
      "GloVe_GRU_BahdanauAttention(\n",
      "  (embedding): Embedding(40002, 300)\n",
      "  (gru): GRU(300, 350, batch_first=True, bidirectional=True)\n",
      "  (attention): BahdanauAttention(\n",
      "    (W): Linear(in_features=700, out_features=350, bias=True)\n",
      "    (v): Linear(in_features=350, out_features=1, bias=False)\n",
      "  )\n",
      "  (fc): Linear(in_features=700, out_features=9, bias=True)\n",
      "  (dropout): Dropout(p=0.8, inplace=False)\n",
      ")\n",
      "Total trainable parameters: 13621809\n"
     ]
    },
    {
     "name": "stderr",
     "output_type": "stream",
     "text": [
      "Optimizer: AdamW | Epoch 7/7 - Train Loss: 0.0603, Val Loss: 0.4043, Train ACC: 98.21%, Val ACC: 91.51%, Time: 1.07 min: 100%|██████████| 7/7 [07:18<00:00, 62.64s/epoch]\n"
     ]
    },
    {
     "data": {
      "text/html": [],
      "text/plain": [
       "<IPython.core.display.HTML object>"
      ]
     },
     "metadata": {},
     "output_type": "display_data"
    },
    {
     "data": {
      "text/html": [
       "<br>    <style><br>        .wandb-row {<br>            display: flex;<br>            flex-direction: row;<br>            flex-wrap: wrap;<br>            justify-content: flex-start;<br>            width: 100%;<br>        }<br>        .wandb-col {<br>            display: flex;<br>            flex-direction: column;<br>            flex-basis: 100%;<br>            flex: 1;<br>            padding: 10px;<br>        }<br>    </style><br><div class=\"wandb-row\"><div class=\"wandb-col\"><h3>Run history:</h3><br/><table class=\"wandb\"><tr><td>train_acc</td><td>▁▄▆▇▇██</td></tr><tr><td>train_loss</td><td>█▅▄▃▂▁▁</td></tr><tr><td>val_acc</td><td>▁▇██▃▃▁</td></tr><tr><td>val_f1</td><td>▁███▃▃▁</td></tr><tr><td>val_loss</td><td>▂▁▁▂▄▅█</td></tr></table><br/></div><div class=\"wandb-col\"><h3>Run summary:</h3><br/><table class=\"wandb\"><tr><td>train_acc</td><td>0.98211</td></tr><tr><td>train_loss</td><td>0.0603</td></tr><tr><td>val_acc</td><td>0.91514</td></tr><tr><td>val_f1</td><td>0.91511</td></tr><tr><td>val_loss</td><td>0.40429</td></tr></table><br/></div></div>"
      ],
      "text/plain": [
       "<IPython.core.display.HTML object>"
      ]
     },
     "metadata": {},
     "output_type": "display_data"
    },
    {
     "data": {
      "text/html": [
       " View run <strong style=\"color:#cdcd00\">AdamW_run</strong> at: <a href='https://wandb.ai/wilfried-mvomoeto-university-of-li-ge/Multi_Class_Optimizer_Comparison_gru_attention_glove300d/runs/u3c7mskm' target=\"_blank\">https://wandb.ai/wilfried-mvomoeto-university-of-li-ge/Multi_Class_Optimizer_Comparison_gru_attention_glove300d/runs/u3c7mskm</a><br> View project at: <a href='https://wandb.ai/wilfried-mvomoeto-university-of-li-ge/Multi_Class_Optimizer_Comparison_gru_attention_glove300d' target=\"_blank\">https://wandb.ai/wilfried-mvomoeto-university-of-li-ge/Multi_Class_Optimizer_Comparison_gru_attention_glove300d</a><br>Synced 5 W&B file(s), 0 media file(s), 0 artifact file(s) and 0 other file(s)"
      ],
      "text/plain": [
       "<IPython.core.display.HTML object>"
      ]
     },
     "metadata": {},
     "output_type": "display_data"
    },
    {
     "data": {
      "text/html": [
       "Find logs at: <code>./wandb/run-20250407_161610-u3c7mskm/logs</code>"
      ],
      "text/plain": [
       "<IPython.core.display.HTML object>"
      ]
     },
     "metadata": {},
     "output_type": "display_data"
    }
   ],
   "source": [
    "num_epochs = 7\n",
    "learning_rate = 7e-4\n",
    "loss_function = torch.nn.CrossEntropyLoss()\n",
    "\n",
    "optimizers = {\n",
    "    'RMSprop': optim.RMSprop,\n",
    "    'Adam': optim.Adam,\n",
    "    'AdamW': optim.AdamW,\n",
    "}\n",
    "\n",
    "for optimizer_name, optimizer_class in optimizers.items():\n",
    "    print(f\"\\n🔹 Training with optimizer: {optimizer_name}\")\n",
    "\n",
    "    model = GloVe_GRU_BahdanauAttention(embedding_matrix=embedding_matrix, hidden_dim=350, num_layers=1, dropout_prob=0.8).to(device)\n",
    "    optimizer = optimizer_class(model.parameters(), lr=learning_rate)\n",
    "    wandb.init(project='Multi_Class_Optimizer_Comparison_gru_attention_glove300d', name=f\"{optimizer_name}_run\", config={\n",
    "        'learning_rate': learning_rate,\n",
    "        'num_epochs': num_epochs,\n",
    "        'optimizer': optimizer_name,\n",
    "        'model': 'GRU_Model',\n",
    "        'embedding_dim': 300,\n",
    "        'hidden_dim': 350,\n",
    "        'dropout_prob': 0.5\n",
    "    })\n",
    "\n",
    "    print(model)\n",
    "    num_params = count_parameters(model)\n",
    "    print(f\"Total trainable parameters: {num_params}\")\n",
    "\n",
    "    train_losses, val_losses = [], []\n",
    "    train_accs, val_accs = [], []\n",
    "    val_f1s = []\n",
    "\n",
    "    with tqdm(total=num_epochs, desc=f\"Optimizer: {optimizer_name}\", unit=\"epoch\") as pbar:\n",
    "        for epoch in range(num_epochs):\n",
    "            start_time = time.time()\n",
    "\n",
    "            train_loss, train_acc = train_epoch_glove(model, train_loader, optimizer, loss_function, device)\n",
    "            train_losses.append(train_loss)\n",
    "            train_accs.append(train_acc)\n",
    "\n",
    "            val_acc, val_f1, val_loss = validate_epoch_glove(model, val_loader, loss_function, device)\n",
    "            val_losses.append(val_loss)\n",
    "            val_accs.append(val_acc)\n",
    "            val_f1s.append(val_f1)\n",
    "\n",
    "            end_time = time.time()\n",
    "            epoch_duration = end_time - start_time\n",
    "\n",
    "            pbar.set_description(f\"Optimizer: {optimizer_name} | Epoch {epoch+1}/{num_epochs} - Train Loss: {train_loss:.4f}, Val Loss: {val_loss:.4f}, Train ACC: {train_acc:.2%}, Val ACC: {val_acc:.2%}, Time: {epoch_duration / 60:.2f} min\")\n",
    "            pbar.update(1)\n",
    "\n",
    "            wandb.log({\n",
    "                'train_loss': train_loss,\n",
    "                'val_loss': val_loss,\n",
    "                'train_acc': train_acc,\n",
    "                'val_acc': val_acc,\n",
    "                'val_f1': val_f1,\n",
    "            })\n",
    "\n",
    "    wandb.finish()"
   ]
  },
  {
   "cell_type": "markdown",
   "metadata": {
    "id": "KspjcBde8mq4"
   },
   "source": [
    "---"
   ]
  },
  {
   "cell_type": "markdown",
   "metadata": {
    "id": "BpJUMGkahvK_"
   },
   "source": [
    "RMSprop optimizer is selected as optimizer."
   ]
  },
  {
   "cell_type": "markdown",
   "metadata": {
    "id": "sPknl839-nbg"
   },
   "source": [
    "2.1.2 Learning rate value selection"
   ]
  },
  {
   "cell_type": "code",
   "execution_count": null,
   "metadata": {
    "colab": {
     "base_uri": "https://localhost:8080/",
     "height": 1000
    },
    "id": "zXgF4lgf4-tr",
    "outputId": "a844b712-e61d-457c-faef-ea7cb7d7e7f6"
   },
   "outputs": [
    {
     "name": "stdout",
     "output_type": "stream",
     "text": [
      "\n",
      "🔹 Training with optimizer: RMSprop | Learning rate: 9e-05\n"
     ]
    },
    {
     "data": {
      "text/html": [],
      "text/plain": [
       "<IPython.core.display.HTML object>"
      ]
     },
     "metadata": {},
     "output_type": "display_data"
    },
    {
     "data": {
      "text/html": [
       " View run <strong style=\"color:#cdcd00\">RMSprop_lr0.0007</strong> at: <a href='https://wandb.ai/wilfried-mvomoeto-university-of-li-ge/Multi_Class_lr_Tuning_gru_attention_glove300d/runs/18ipwlcm' target=\"_blank\">https://wandb.ai/wilfried-mvomoeto-university-of-li-ge/Multi_Class_lr_Tuning_gru_attention_glove300d/runs/18ipwlcm</a><br> View project at: <a href='https://wandb.ai/wilfried-mvomoeto-university-of-li-ge/Multi_Class_lr_Tuning_gru_attention_glove300d' target=\"_blank\">https://wandb.ai/wilfried-mvomoeto-university-of-li-ge/Multi_Class_lr_Tuning_gru_attention_glove300d</a><br>Synced 5 W&B file(s), 0 media file(s), 0 artifact file(s) and 0 other file(s)"
      ],
      "text/plain": [
       "<IPython.core.display.HTML object>"
      ]
     },
     "metadata": {},
     "output_type": "display_data"
    },
    {
     "data": {
      "text/html": [
       "Find logs at: <code>./wandb/run-20250407_175419-18ipwlcm/logs</code>"
      ],
      "text/plain": [
       "<IPython.core.display.HTML object>"
      ]
     },
     "metadata": {},
     "output_type": "display_data"
    },
    {
     "data": {
      "text/html": [
       "Tracking run with wandb version 0.19.9"
      ],
      "text/plain": [
       "<IPython.core.display.HTML object>"
      ]
     },
     "metadata": {},
     "output_type": "display_data"
    },
    {
     "data": {
      "text/html": [
       "Run data is saved locally in <code>/content/wandb/run-20250407_175603-dizns42p</code>"
      ],
      "text/plain": [
       "<IPython.core.display.HTML object>"
      ]
     },
     "metadata": {},
     "output_type": "display_data"
    },
    {
     "data": {
      "text/html": [
       "Syncing run <strong><a href='https://wandb.ai/wilfried-mvomoeto-university-of-li-ge/Multi_Class_lr_Tuning_gru_attention_glove300d/runs/dizns42p' target=\"_blank\">RMSprop_lr9e-05</a></strong> to <a href='https://wandb.ai/wilfried-mvomoeto-university-of-li-ge/Multi_Class_lr_Tuning_gru_attention_glove300d' target=\"_blank\">Weights & Biases</a> (<a href='https://wandb.me/developer-guide' target=\"_blank\">docs</a>)<br>"
      ],
      "text/plain": [
       "<IPython.core.display.HTML object>"
      ]
     },
     "metadata": {},
     "output_type": "display_data"
    },
    {
     "data": {
      "text/html": [
       " View project at <a href='https://wandb.ai/wilfried-mvomoeto-university-of-li-ge/Multi_Class_lr_Tuning_gru_attention_glove300d' target=\"_blank\">https://wandb.ai/wilfried-mvomoeto-university-of-li-ge/Multi_Class_lr_Tuning_gru_attention_glove300d</a>"
      ],
      "text/plain": [
       "<IPython.core.display.HTML object>"
      ]
     },
     "metadata": {},
     "output_type": "display_data"
    },
    {
     "data": {
      "text/html": [
       " View run at <a href='https://wandb.ai/wilfried-mvomoeto-university-of-li-ge/Multi_Class_lr_Tuning_gru_attention_glove300d/runs/dizns42p' target=\"_blank\">https://wandb.ai/wilfried-mvomoeto-university-of-li-ge/Multi_Class_lr_Tuning_gru_attention_glove300d/runs/dizns42p</a>"
      ],
      "text/plain": [
       "<IPython.core.display.HTML object>"
      ]
     },
     "metadata": {},
     "output_type": "display_data"
    },
    {
     "name": "stdout",
     "output_type": "stream",
     "text": [
      "GloVe_GRU_BahdanauAttention(\n",
      "  (embedding): Embedding(40002, 300)\n",
      "  (gru): GRU(300, 300, batch_first=True, bidirectional=True)\n",
      "  (attention): BahdanauAttention(\n",
      "    (W): Linear(in_features=600, out_features=300, bias=True)\n",
      "    (v): Linear(in_features=300, out_features=1, bias=False)\n",
      "  )\n",
      "  (fc): Linear(in_features=600, out_features=9, bias=True)\n",
      "  (dropout): Dropout(p=0.9, inplace=False)\n",
      ")\n",
      "Total trainable parameters: 13270209\n"
     ]
    },
    {
     "name": "stderr",
     "output_type": "stream",
     "text": [
      "Optimizer: RMSprop | LR: 9e-05 | Epoch 7/7 - Train Loss: 0.2407, Val Loss: 0.2638, Train ACC: 92.85%, Val ACC: 91.95%, F1: 0.92, Time: 0.81 min: 100%|██████████| 7/7 [05:42<00:00, 48.96s/epoch]\n"
     ]
    },
    {
     "data": {
      "text/html": [],
      "text/plain": [
       "<IPython.core.display.HTML object>"
      ]
     },
     "metadata": {},
     "output_type": "display_data"
    },
    {
     "data": {
      "text/html": [
       "<br>    <style><br>        .wandb-row {<br>            display: flex;<br>            flex-direction: row;<br>            flex-wrap: wrap;<br>            justify-content: flex-start;<br>            width: 100%;<br>        }<br>        .wandb-col {<br>            display: flex;<br>            flex-direction: column;<br>            flex-basis: 100%;<br>            flex: 1;<br>            padding: 10px;<br>        }<br>    </style><br><div class=\"wandb-row\"><div class=\"wandb-col\"><h3>Run history:</h3><br/><table class=\"wandb\"><tr><td>learning_rate</td><td>▁▁▁▁▁▁▁</td></tr><tr><td>train_acc</td><td>▁▆▇▇███</td></tr><tr><td>train_loss</td><td>█▂▂▂▁▁▁</td></tr><tr><td>val_acc</td><td>▁▃▃▅▇▆█</td></tr><tr><td>val_f1</td><td>▁▄▃▄▇▆█</td></tr><tr><td>val_loss</td><td>█▅▅▃▂▂▁</td></tr></table><br/></div><div class=\"wandb-col\"><h3>Run summary:</h3><br/><table class=\"wandb\"><tr><td>learning_rate</td><td>9e-05</td></tr><tr><td>train_acc</td><td>0.92848</td></tr><tr><td>train_loss</td><td>0.24069</td></tr><tr><td>val_acc</td><td>0.91945</td></tr><tr><td>val_f1</td><td>0.91895</td></tr><tr><td>val_loss</td><td>0.26383</td></tr></table><br/></div></div>"
      ],
      "text/plain": [
       "<IPython.core.display.HTML object>"
      ]
     },
     "metadata": {},
     "output_type": "display_data"
    },
    {
     "data": {
      "text/html": [
       " View run <strong style=\"color:#cdcd00\">RMSprop_lr9e-05</strong> at: <a href='https://wandb.ai/wilfried-mvomoeto-university-of-li-ge/Multi_Class_lr_Tuning_gru_attention_glove300d/runs/dizns42p' target=\"_blank\">https://wandb.ai/wilfried-mvomoeto-university-of-li-ge/Multi_Class_lr_Tuning_gru_attention_glove300d/runs/dizns42p</a><br> View project at: <a href='https://wandb.ai/wilfried-mvomoeto-university-of-li-ge/Multi_Class_lr_Tuning_gru_attention_glove300d' target=\"_blank\">https://wandb.ai/wilfried-mvomoeto-university-of-li-ge/Multi_Class_lr_Tuning_gru_attention_glove300d</a><br>Synced 5 W&B file(s), 0 media file(s), 0 artifact file(s) and 0 other file(s)"
      ],
      "text/plain": [
       "<IPython.core.display.HTML object>"
      ]
     },
     "metadata": {},
     "output_type": "display_data"
    },
    {
     "data": {
      "text/html": [
       "Find logs at: <code>./wandb/run-20250407_175603-dizns42p/logs</code>"
      ],
      "text/plain": [
       "<IPython.core.display.HTML object>"
      ]
     },
     "metadata": {},
     "output_type": "display_data"
    },
    {
     "name": "stdout",
     "output_type": "stream",
     "text": [
      "\n",
      "🔹 Training with optimizer: RMSprop | Learning rate: 7e-05\n"
     ]
    },
    {
     "data": {
      "text/html": [
       "Tracking run with wandb version 0.19.9"
      ],
      "text/plain": [
       "<IPython.core.display.HTML object>"
      ]
     },
     "metadata": {},
     "output_type": "display_data"
    },
    {
     "data": {
      "text/html": [
       "Run data is saved locally in <code>/content/wandb/run-20250407_180152-lxv7m0f7</code>"
      ],
      "text/plain": [
       "<IPython.core.display.HTML object>"
      ]
     },
     "metadata": {},
     "output_type": "display_data"
    },
    {
     "data": {
      "text/html": [
       "Syncing run <strong><a href='https://wandb.ai/wilfried-mvomoeto-university-of-li-ge/Multi_Class_lr_Tuning_gru_attention_glove300d/runs/lxv7m0f7' target=\"_blank\">RMSprop_lr7e-05</a></strong> to <a href='https://wandb.ai/wilfried-mvomoeto-university-of-li-ge/Multi_Class_lr_Tuning_gru_attention_glove300d' target=\"_blank\">Weights & Biases</a> (<a href='https://wandb.me/developer-guide' target=\"_blank\">docs</a>)<br>"
      ],
      "text/plain": [
       "<IPython.core.display.HTML object>"
      ]
     },
     "metadata": {},
     "output_type": "display_data"
    },
    {
     "data": {
      "text/html": [
       " View project at <a href='https://wandb.ai/wilfried-mvomoeto-university-of-li-ge/Multi_Class_lr_Tuning_gru_attention_glove300d' target=\"_blank\">https://wandb.ai/wilfried-mvomoeto-university-of-li-ge/Multi_Class_lr_Tuning_gru_attention_glove300d</a>"
      ],
      "text/plain": [
       "<IPython.core.display.HTML object>"
      ]
     },
     "metadata": {},
     "output_type": "display_data"
    },
    {
     "data": {
      "text/html": [
       " View run at <a href='https://wandb.ai/wilfried-mvomoeto-university-of-li-ge/Multi_Class_lr_Tuning_gru_attention_glove300d/runs/lxv7m0f7' target=\"_blank\">https://wandb.ai/wilfried-mvomoeto-university-of-li-ge/Multi_Class_lr_Tuning_gru_attention_glove300d/runs/lxv7m0f7</a>"
      ],
      "text/plain": [
       "<IPython.core.display.HTML object>"
      ]
     },
     "metadata": {},
     "output_type": "display_data"
    },
    {
     "name": "stdout",
     "output_type": "stream",
     "text": [
      "GloVe_GRU_BahdanauAttention(\n",
      "  (embedding): Embedding(40002, 300)\n",
      "  (gru): GRU(300, 300, batch_first=True, bidirectional=True)\n",
      "  (attention): BahdanauAttention(\n",
      "    (W): Linear(in_features=600, out_features=300, bias=True)\n",
      "    (v): Linear(in_features=300, out_features=1, bias=False)\n",
      "  )\n",
      "  (fc): Linear(in_features=600, out_features=9, bias=True)\n",
      "  (dropout): Dropout(p=0.9, inplace=False)\n",
      ")\n",
      "Total trainable parameters: 13270209\n"
     ]
    },
    {
     "name": "stderr",
     "output_type": "stream",
     "text": [
      "Optimizer: RMSprop | LR: 7e-05 | Epoch 7/7 - Train Loss: 0.2456, Val Loss: 0.2706, Train ACC: 92.79%, Val ACC: 91.74%, F1: 0.92, Time: 0.81 min: 100%|██████████| 7/7 [05:41<00:00, 48.74s/epoch]\n"
     ]
    },
    {
     "data": {
      "text/html": [],
      "text/plain": [
       "<IPython.core.display.HTML object>"
      ]
     },
     "metadata": {},
     "output_type": "display_data"
    },
    {
     "data": {
      "text/html": [
       "<br>    <style><br>        .wandb-row {<br>            display: flex;<br>            flex-direction: row;<br>            flex-wrap: wrap;<br>            justify-content: flex-start;<br>            width: 100%;<br>        }<br>        .wandb-col {<br>            display: flex;<br>            flex-direction: column;<br>            flex-basis: 100%;<br>            flex: 1;<br>            padding: 10px;<br>        }<br>    </style><br><div class=\"wandb-row\"><div class=\"wandb-col\"><h3>Run history:</h3><br/><table class=\"wandb\"><tr><td>learning_rate</td><td>▁▁▁▁▁▁▁</td></tr><tr><td>train_acc</td><td>▁▇▇▇███</td></tr><tr><td>train_loss</td><td>█▂▂▁▁▁▁</td></tr><tr><td>val_acc</td><td>▁▅▅▇▇▇█</td></tr><tr><td>val_f1</td><td>▁▅▅▇▇▇█</td></tr><tr><td>val_loss</td><td>█▄▃▂▂▁▁</td></tr></table><br/></div><div class=\"wandb-col\"><h3>Run summary:</h3><br/><table class=\"wandb\"><tr><td>learning_rate</td><td>7e-05</td></tr><tr><td>train_acc</td><td>0.92789</td></tr><tr><td>train_loss</td><td>0.24562</td></tr><tr><td>val_acc</td><td>0.91739</td></tr><tr><td>val_f1</td><td>0.9173</td></tr><tr><td>val_loss</td><td>0.27058</td></tr></table><br/></div></div>"
      ],
      "text/plain": [
       "<IPython.core.display.HTML object>"
      ]
     },
     "metadata": {},
     "output_type": "display_data"
    },
    {
     "data": {
      "text/html": [
       " View run <strong style=\"color:#cdcd00\">RMSprop_lr7e-05</strong> at: <a href='https://wandb.ai/wilfried-mvomoeto-university-of-li-ge/Multi_Class_lr_Tuning_gru_attention_glove300d/runs/lxv7m0f7' target=\"_blank\">https://wandb.ai/wilfried-mvomoeto-university-of-li-ge/Multi_Class_lr_Tuning_gru_attention_glove300d/runs/lxv7m0f7</a><br> View project at: <a href='https://wandb.ai/wilfried-mvomoeto-university-of-li-ge/Multi_Class_lr_Tuning_gru_attention_glove300d' target=\"_blank\">https://wandb.ai/wilfried-mvomoeto-university-of-li-ge/Multi_Class_lr_Tuning_gru_attention_glove300d</a><br>Synced 5 W&B file(s), 0 media file(s), 0 artifact file(s) and 0 other file(s)"
      ],
      "text/plain": [
       "<IPython.core.display.HTML object>"
      ]
     },
     "metadata": {},
     "output_type": "display_data"
    },
    {
     "data": {
      "text/html": [
       "Find logs at: <code>./wandb/run-20250407_180152-lxv7m0f7/logs</code>"
      ],
      "text/plain": [
       "<IPython.core.display.HTML object>"
      ]
     },
     "metadata": {},
     "output_type": "display_data"
    },
    {
     "name": "stdout",
     "output_type": "stream",
     "text": [
      "\n",
      "🔹 Training with optimizer: RMSprop | Learning rate: 5e-05\n"
     ]
    },
    {
     "data": {
      "text/html": [
       "Tracking run with wandb version 0.19.9"
      ],
      "text/plain": [
       "<IPython.core.display.HTML object>"
      ]
     },
     "metadata": {},
     "output_type": "display_data"
    },
    {
     "data": {
      "text/html": [
       "Run data is saved locally in <code>/content/wandb/run-20250407_180736-fqmdgtrb</code>"
      ],
      "text/plain": [
       "<IPython.core.display.HTML object>"
      ]
     },
     "metadata": {},
     "output_type": "display_data"
    },
    {
     "data": {
      "text/html": [
       "Syncing run <strong><a href='https://wandb.ai/wilfried-mvomoeto-university-of-li-ge/Multi_Class_lr_Tuning_gru_attention_glove300d/runs/fqmdgtrb' target=\"_blank\">RMSprop_lr5e-05</a></strong> to <a href='https://wandb.ai/wilfried-mvomoeto-university-of-li-ge/Multi_Class_lr_Tuning_gru_attention_glove300d' target=\"_blank\">Weights & Biases</a> (<a href='https://wandb.me/developer-guide' target=\"_blank\">docs</a>)<br>"
      ],
      "text/plain": [
       "<IPython.core.display.HTML object>"
      ]
     },
     "metadata": {},
     "output_type": "display_data"
    },
    {
     "data": {
      "text/html": [
       " View project at <a href='https://wandb.ai/wilfried-mvomoeto-university-of-li-ge/Multi_Class_lr_Tuning_gru_attention_glove300d' target=\"_blank\">https://wandb.ai/wilfried-mvomoeto-university-of-li-ge/Multi_Class_lr_Tuning_gru_attention_glove300d</a>"
      ],
      "text/plain": [
       "<IPython.core.display.HTML object>"
      ]
     },
     "metadata": {},
     "output_type": "display_data"
    },
    {
     "data": {
      "text/html": [
       " View run at <a href='https://wandb.ai/wilfried-mvomoeto-university-of-li-ge/Multi_Class_lr_Tuning_gru_attention_glove300d/runs/fqmdgtrb' target=\"_blank\">https://wandb.ai/wilfried-mvomoeto-university-of-li-ge/Multi_Class_lr_Tuning_gru_attention_glove300d/runs/fqmdgtrb</a>"
      ],
      "text/plain": [
       "<IPython.core.display.HTML object>"
      ]
     },
     "metadata": {},
     "output_type": "display_data"
    },
    {
     "name": "stdout",
     "output_type": "stream",
     "text": [
      "GloVe_GRU_BahdanauAttention(\n",
      "  (embedding): Embedding(40002, 300)\n",
      "  (gru): GRU(300, 300, batch_first=True, bidirectional=True)\n",
      "  (attention): BahdanauAttention(\n",
      "    (W): Linear(in_features=600, out_features=300, bias=True)\n",
      "    (v): Linear(in_features=300, out_features=1, bias=False)\n",
      "  )\n",
      "  (fc): Linear(in_features=600, out_features=9, bias=True)\n",
      "  (dropout): Dropout(p=0.9, inplace=False)\n",
      ")\n",
      "Total trainable parameters: 13270209\n"
     ]
    },
    {
     "name": "stderr",
     "output_type": "stream",
     "text": [
      "Optimizer: RMSprop | LR: 5e-05 | Epoch 7/7 - Train Loss: 0.2579, Val Loss: 0.2693, Train ACC: 92.25%, Val ACC: 91.70%, F1: 0.92, Time: 0.81 min: 100%|██████████| 7/7 [05:40<00:00, 48.58s/epoch]\n"
     ]
    },
    {
     "data": {
      "text/html": [],
      "text/plain": [
       "<IPython.core.display.HTML object>"
      ]
     },
     "metadata": {},
     "output_type": "display_data"
    },
    {
     "data": {
      "text/html": [
       "<br>    <style><br>        .wandb-row {<br>            display: flex;<br>            flex-direction: row;<br>            flex-wrap: wrap;<br>            justify-content: flex-start;<br>            width: 100%;<br>        }<br>        .wandb-col {<br>            display: flex;<br>            flex-direction: column;<br>            flex-basis: 100%;<br>            flex: 1;<br>            padding: 10px;<br>        }<br>    </style><br><div class=\"wandb-row\"><div class=\"wandb-col\"><h3>Run history:</h3><br/><table class=\"wandb\"><tr><td>learning_rate</td><td>▁▁▁▁▁▁▁</td></tr><tr><td>train_acc</td><td>▁▇▇████</td></tr><tr><td>train_loss</td><td>█▂▁▁▁▁▁</td></tr><tr><td>val_acc</td><td>▁▅▅▇▆██</td></tr><tr><td>val_f1</td><td>▁▅▆▇▆██</td></tr><tr><td>val_loss</td><td>█▃▃▂▂▂▁</td></tr></table><br/></div><div class=\"wandb-col\"><h3>Run summary:</h3><br/><table class=\"wandb\"><tr><td>learning_rate</td><td>5e-05</td></tr><tr><td>train_acc</td><td>0.92253</td></tr><tr><td>train_loss</td><td>0.25792</td></tr><tr><td>val_acc</td><td>0.91704</td></tr><tr><td>val_f1</td><td>0.91672</td></tr><tr><td>val_loss</td><td>0.26929</td></tr></table><br/></div></div>"
      ],
      "text/plain": [
       "<IPython.core.display.HTML object>"
      ]
     },
     "metadata": {},
     "output_type": "display_data"
    },
    {
     "data": {
      "text/html": [
       " View run <strong style=\"color:#cdcd00\">RMSprop_lr5e-05</strong> at: <a href='https://wandb.ai/wilfried-mvomoeto-university-of-li-ge/Multi_Class_lr_Tuning_gru_attention_glove300d/runs/fqmdgtrb' target=\"_blank\">https://wandb.ai/wilfried-mvomoeto-university-of-li-ge/Multi_Class_lr_Tuning_gru_attention_glove300d/runs/fqmdgtrb</a><br> View project at: <a href='https://wandb.ai/wilfried-mvomoeto-university-of-li-ge/Multi_Class_lr_Tuning_gru_attention_glove300d' target=\"_blank\">https://wandb.ai/wilfried-mvomoeto-university-of-li-ge/Multi_Class_lr_Tuning_gru_attention_glove300d</a><br>Synced 5 W&B file(s), 0 media file(s), 0 artifact file(s) and 0 other file(s)"
      ],
      "text/plain": [
       "<IPython.core.display.HTML object>"
      ]
     },
     "metadata": {},
     "output_type": "display_data"
    },
    {
     "data": {
      "text/html": [
       "Find logs at: <code>./wandb/run-20250407_180736-fqmdgtrb/logs</code>"
      ],
      "text/plain": [
       "<IPython.core.display.HTML object>"
      ]
     },
     "metadata": {},
     "output_type": "display_data"
    }
   ],
   "source": [
    "learning_rates = [9e-5, 7e-5, 5e-5]\n",
    "optimizer_class = optim.RMSprop\n",
    "\n",
    "for lr in learning_rates:\n",
    "    optimizer_name = \"RMSprop\"\n",
    "    print(f\"\\n🔹 Training with optimizer: {optimizer_name} | Learning rate: {lr}\")\n",
    "\n",
    "    model = GloVe_GRU_BahdanauAttention(\n",
    "        embedding_matrix=embedding_matrix,\n",
    "        hidden_dim=300,\n",
    "        num_classes=NUM_CLASSES,\n",
    "        num_layers=1,\n",
    "        dropout_prob=0.9\n",
    "    ).to(device)\n",
    "\n",
    "    optimizer = optimizer_class(model.parameters(), lr=lr, weight_decay = 1e-5)\n",
    "\n",
    "    wandb.init(\n",
    "        project='Multi_Class_lr_Tuning_gru_attention_glove300d',\n",
    "        name=f\"{optimizer_name}_lr{lr}\",\n",
    "        config={\n",
    "            'learning_rate': lr,\n",
    "            'num_epochs': num_epochs,\n",
    "            'optimizer': optimizer_name,\n",
    "            'model': 'GRU_Model',\n",
    "            'embedding_dim': 300,\n",
    "            'hidden_dim': 350,\n",
    "            'dropout_prob': 0.8\n",
    "        }\n",
    "    )\n",
    "\n",
    "    print(model)\n",
    "    num_params = count_parameters(model)\n",
    "    print(f\"Total trainable parameters: {num_params}\")\n",
    "\n",
    "    train_losses, val_losses = [], []\n",
    "    train_accs, val_accs = [], []\n",
    "    val_f1s = []\n",
    "\n",
    "    with tqdm(total=num_epochs, desc=f\"Optimizer: {optimizer_name} | LR: {lr}\", unit=\"epoch\") as pbar:\n",
    "        for epoch in range(num_epochs):\n",
    "            start_time = time.time()\n",
    "\n",
    "            train_loss, train_acc = train_epoch_glove(model, train_loader, optimizer, loss_function, device)\n",
    "            train_losses.append(train_loss)\n",
    "            train_accs.append(train_acc)\n",
    "\n",
    "            val_acc, val_f1, val_loss = validate_epoch_glove(model, val_loader, loss_function, device)\n",
    "            val_losses.append(val_loss)\n",
    "            val_accs.append(val_acc)\n",
    "            val_f1s.append(val_f1)\n",
    "\n",
    "            end_time = time.time()\n",
    "            epoch_duration = end_time - start_time\n",
    "\n",
    "            pbar.set_description(\n",
    "                f\"Optimizer: {optimizer_name} | LR: {lr} | Epoch {epoch+1}/{num_epochs} - \"\n",
    "                f\"Train Loss: {train_loss:.4f}, Val Loss: {val_loss:.4f}, \"\n",
    "                f\"Train ACC: {train_acc:.2%}, Val ACC: {val_acc:.2%}, \"\n",
    "                f\"F1: {val_f1:.2f}, Time: {epoch_duration / 60:.2f} min\"\n",
    "            )\n",
    "            pbar.update(1)\n",
    "\n",
    "            wandb.log({\n",
    "                'train_loss': train_loss,\n",
    "                'val_loss': val_loss,\n",
    "                'train_acc': train_acc,\n",
    "                'val_acc': val_acc,\n",
    "                'val_f1': val_f1,\n",
    "            })\n",
    "\n",
    "    wandb.finish()"
   ]
  },
  {
   "cell_type": "markdown",
   "metadata": {
    "id": "xq4TMzv58oYf"
   },
   "source": [
    "---\n",
    "Learning rate value is set to $9 \\cdot 10{-5}$."
   ]
  },
  {
   "cell_type": "markdown",
   "metadata": {
    "id": "u0czxKca-soV"
   },
   "source": [
    "2.1.3 Depth value selection"
   ]
  },
  {
   "cell_type": "code",
   "execution_count": null,
   "metadata": {
    "colab": {
     "base_uri": "https://localhost:8080/",
     "height": 1000
    },
    "id": "Of24r3_88nze",
    "outputId": "9e447ed0-08e9-4233-dad4-93ff2fd5aeef"
   },
   "outputs": [
    {
     "name": "stdout",
     "output_type": "stream",
     "text": [
      "\n",
      "🔹 Training with optimizer: RMSprop | Depth: 1\n"
     ]
    },
    {
     "data": {
      "text/html": [
       "Tracking run with wandb version 0.19.9"
      ],
      "text/plain": [
       "<IPython.core.display.HTML object>"
      ]
     },
     "metadata": {},
     "output_type": "display_data"
    },
    {
     "data": {
      "text/html": [
       "Run data is saved locally in <code>/content/wandb/run-20250407_181538-6oo0sigx</code>"
      ],
      "text/plain": [
       "<IPython.core.display.HTML object>"
      ]
     },
     "metadata": {},
     "output_type": "display_data"
    },
    {
     "data": {
      "text/html": [
       "Syncing run <strong><a href='https://wandb.ai/wilfried-mvomoeto-university-of-li-ge/Multi_Class_Depth_Tuning_gru_attention_glove300d/runs/6oo0sigx' target=\"_blank\">RMSprop_depth1</a></strong> to <a href='https://wandb.ai/wilfried-mvomoeto-university-of-li-ge/Multi_Class_Depth_Tuning_gru_attention_glove300d' target=\"_blank\">Weights & Biases</a> (<a href='https://wandb.me/developer-guide' target=\"_blank\">docs</a>)<br>"
      ],
      "text/plain": [
       "<IPython.core.display.HTML object>"
      ]
     },
     "metadata": {},
     "output_type": "display_data"
    },
    {
     "data": {
      "text/html": [
       " View project at <a href='https://wandb.ai/wilfried-mvomoeto-university-of-li-ge/Multi_Class_Depth_Tuning_gru_attention_glove300d' target=\"_blank\">https://wandb.ai/wilfried-mvomoeto-university-of-li-ge/Multi_Class_Depth_Tuning_gru_attention_glove300d</a>"
      ],
      "text/plain": [
       "<IPython.core.display.HTML object>"
      ]
     },
     "metadata": {},
     "output_type": "display_data"
    },
    {
     "data": {
      "text/html": [
       " View run at <a href='https://wandb.ai/wilfried-mvomoeto-university-of-li-ge/Multi_Class_Depth_Tuning_gru_attention_glove300d/runs/6oo0sigx' target=\"_blank\">https://wandb.ai/wilfried-mvomoeto-university-of-li-ge/Multi_Class_Depth_Tuning_gru_attention_glove300d/runs/6oo0sigx</a>"
      ],
      "text/plain": [
       "<IPython.core.display.HTML object>"
      ]
     },
     "metadata": {},
     "output_type": "display_data"
    },
    {
     "name": "stdout",
     "output_type": "stream",
     "text": [
      "GloVe_GRU_BahdanauAttention(\n",
      "  (embedding): Embedding(40002, 300)\n",
      "  (gru): GRU(300, 300, batch_first=True, bidirectional=True)\n",
      "  (attention): BahdanauAttention(\n",
      "    (W): Linear(in_features=600, out_features=300, bias=True)\n",
      "    (v): Linear(in_features=300, out_features=1, bias=False)\n",
      "  )\n",
      "  (fc): Linear(in_features=600, out_features=9, bias=True)\n",
      "  (dropout): Dropout(p=0.9, inplace=False)\n",
      ")\n",
      "Total trainable parameters: 13270209\n"
     ]
    },
    {
     "name": "stderr",
     "output_type": "stream",
     "text": [
      "Optimizer: RMSprop | Depth: 1 | Epoch 7/7 - Train Loss: 0.2242, Val Loss: 0.2720, Train ACC: 93.29%, Val ACC: 92.17%, F1: 0.92, Time: 0.81 min: 100%|██████████| 7/7 [05:43<00:00, 49.09s/epoch]\n"
     ]
    },
    {
     "data": {
      "text/html": [],
      "text/plain": [
       "<IPython.core.display.HTML object>"
      ]
     },
     "metadata": {},
     "output_type": "display_data"
    },
    {
     "data": {
      "text/html": [
       "<br>    <style><br>        .wandb-row {<br>            display: flex;<br>            flex-direction: row;<br>            flex-wrap: wrap;<br>            justify-content: flex-start;<br>            width: 100%;<br>        }<br>        .wandb-col {<br>            display: flex;<br>            flex-direction: column;<br>            flex-basis: 100%;<br>            flex: 1;<br>            padding: 10px;<br>        }<br>    </style><br><div class=\"wandb-row\"><div class=\"wandb-col\"><h3>Run history:</h3><br/><table class=\"wandb\"><tr><td>num_layers</td><td>▁▁▁▁▁▁▁</td></tr><tr><td>train_acc</td><td>▁▆▇▇▇██</td></tr><tr><td>train_loss</td><td>█▃▂▂▂▁▁</td></tr><tr><td>val_acc</td><td>▁▃▄▅▅▇█</td></tr><tr><td>val_f1</td><td>▁▃▄▅▅▇█</td></tr><tr><td>val_loss</td><td>█▄▃▂▁▁▂</td></tr></table><br/></div><div class=\"wandb-col\"><h3>Run summary:</h3><br/><table class=\"wandb\"><tr><td>num_layers</td><td>1</td></tr><tr><td>train_acc</td><td>0.93292</td></tr><tr><td>train_loss</td><td>0.22415</td></tr><tr><td>val_acc</td><td>0.9217</td></tr><tr><td>val_f1</td><td>0.92113</td></tr><tr><td>val_loss</td><td>0.272</td></tr></table><br/></div></div>"
      ],
      "text/plain": [
       "<IPython.core.display.HTML object>"
      ]
     },
     "metadata": {},
     "output_type": "display_data"
    },
    {
     "data": {
      "text/html": [
       " View run <strong style=\"color:#cdcd00\">RMSprop_depth1</strong> at: <a href='https://wandb.ai/wilfried-mvomoeto-university-of-li-ge/Multi_Class_Depth_Tuning_gru_attention_glove300d/runs/6oo0sigx' target=\"_blank\">https://wandb.ai/wilfried-mvomoeto-university-of-li-ge/Multi_Class_Depth_Tuning_gru_attention_glove300d/runs/6oo0sigx</a><br> View project at: <a href='https://wandb.ai/wilfried-mvomoeto-university-of-li-ge/Multi_Class_Depth_Tuning_gru_attention_glove300d' target=\"_blank\">https://wandb.ai/wilfried-mvomoeto-university-of-li-ge/Multi_Class_Depth_Tuning_gru_attention_glove300d</a><br>Synced 5 W&B file(s), 0 media file(s), 0 artifact file(s) and 0 other file(s)"
      ],
      "text/plain": [
       "<IPython.core.display.HTML object>"
      ]
     },
     "metadata": {},
     "output_type": "display_data"
    },
    {
     "data": {
      "text/html": [
       "Find logs at: <code>./wandb/run-20250407_181538-6oo0sigx/logs</code>"
      ],
      "text/plain": [
       "<IPython.core.display.HTML object>"
      ]
     },
     "metadata": {},
     "output_type": "display_data"
    },
    {
     "name": "stdout",
     "output_type": "stream",
     "text": [
      "\n",
      "🔹 Training with optimizer: RMSprop | Depth: 2\n"
     ]
    },
    {
     "data": {
      "text/html": [
       "Tracking run with wandb version 0.19.9"
      ],
      "text/plain": [
       "<IPython.core.display.HTML object>"
      ]
     },
     "metadata": {},
     "output_type": "display_data"
    },
    {
     "data": {
      "text/html": [
       "Run data is saved locally in <code>/content/wandb/run-20250407_182125-u27was4w</code>"
      ],
      "text/plain": [
       "<IPython.core.display.HTML object>"
      ]
     },
     "metadata": {},
     "output_type": "display_data"
    },
    {
     "data": {
      "text/html": [
       "Syncing run <strong><a href='https://wandb.ai/wilfried-mvomoeto-university-of-li-ge/Multi_Class_Depth_Tuning_gru_attention_glove300d/runs/u27was4w' target=\"_blank\">RMSprop_depth2</a></strong> to <a href='https://wandb.ai/wilfried-mvomoeto-university-of-li-ge/Multi_Class_Depth_Tuning_gru_attention_glove300d' target=\"_blank\">Weights & Biases</a> (<a href='https://wandb.me/developer-guide' target=\"_blank\">docs</a>)<br>"
      ],
      "text/plain": [
       "<IPython.core.display.HTML object>"
      ]
     },
     "metadata": {},
     "output_type": "display_data"
    },
    {
     "data": {
      "text/html": [
       " View project at <a href='https://wandb.ai/wilfried-mvomoeto-university-of-li-ge/Multi_Class_Depth_Tuning_gru_attention_glove300d' target=\"_blank\">https://wandb.ai/wilfried-mvomoeto-university-of-li-ge/Multi_Class_Depth_Tuning_gru_attention_glove300d</a>"
      ],
      "text/plain": [
       "<IPython.core.display.HTML object>"
      ]
     },
     "metadata": {},
     "output_type": "display_data"
    },
    {
     "data": {
      "text/html": [
       " View run at <a href='https://wandb.ai/wilfried-mvomoeto-university-of-li-ge/Multi_Class_Depth_Tuning_gru_attention_glove300d/runs/u27was4w' target=\"_blank\">https://wandb.ai/wilfried-mvomoeto-university-of-li-ge/Multi_Class_Depth_Tuning_gru_attention_glove300d/runs/u27was4w</a>"
      ],
      "text/plain": [
       "<IPython.core.display.HTML object>"
      ]
     },
     "metadata": {},
     "output_type": "display_data"
    },
    {
     "name": "stdout",
     "output_type": "stream",
     "text": [
      "GloVe_GRU_BahdanauAttention(\n",
      "  (embedding): Embedding(40002, 300)\n",
      "  (gru): GRU(300, 300, num_layers=2, batch_first=True, bidirectional=True)\n",
      "  (attention): BahdanauAttention(\n",
      "    (W): Linear(in_features=600, out_features=300, bias=True)\n",
      "    (v): Linear(in_features=300, out_features=1, bias=False)\n",
      "  )\n",
      "  (fc): Linear(in_features=600, out_features=9, bias=True)\n",
      "  (dropout): Dropout(p=0.9, inplace=False)\n",
      ")\n",
      "Total trainable parameters: 14893809\n"
     ]
    },
    {
     "name": "stderr",
     "output_type": "stream",
     "text": [
      "Optimizer: RMSprop | Depth: 2 | Epoch 7/7 - Train Loss: 0.1988, Val Loss: 0.2774, Train ACC: 94.18%, Val ACC: 91.77%, F1: 0.92, Time: 1.70 min: 100%|██████████| 7/7 [11:48<00:00, 101.19s/epoch]\n"
     ]
    },
    {
     "data": {
      "text/html": [],
      "text/plain": [
       "<IPython.core.display.HTML object>"
      ]
     },
     "metadata": {},
     "output_type": "display_data"
    },
    {
     "data": {
      "text/html": [
       "<br>    <style><br>        .wandb-row {<br>            display: flex;<br>            flex-direction: row;<br>            flex-wrap: wrap;<br>            justify-content: flex-start;<br>            width: 100%;<br>        }<br>        .wandb-col {<br>            display: flex;<br>            flex-direction: column;<br>            flex-basis: 100%;<br>            flex: 1;<br>            padding: 10px;<br>        }<br>    </style><br><div class=\"wandb-row\"><div class=\"wandb-col\"><h3>Run history:</h3><br/><table class=\"wandb\"><tr><td>num_layers</td><td>▁▁▁▁▁▁▁</td></tr><tr><td>train_acc</td><td>▁▆▇▇▇██</td></tr><tr><td>train_loss</td><td>█▃▂▂▂▁▁</td></tr><tr><td>val_acc</td><td>▁▄█▅▅█▆</td></tr><tr><td>val_f1</td><td>▁▄█▅▅█▆</td></tr><tr><td>val_loss</td><td>█▇▁▂▃▁▄</td></tr></table><br/></div><div class=\"wandb-col\"><h3>Run summary:</h3><br/><table class=\"wandb\"><tr><td>num_layers</td><td>2</td></tr><tr><td>train_acc</td><td>0.94179</td></tr><tr><td>train_loss</td><td>0.19879</td></tr><tr><td>val_acc</td><td>0.91773</td></tr><tr><td>val_f1</td><td>0.91805</td></tr><tr><td>val_loss</td><td>0.27741</td></tr></table><br/></div></div>"
      ],
      "text/plain": [
       "<IPython.core.display.HTML object>"
      ]
     },
     "metadata": {},
     "output_type": "display_data"
    },
    {
     "data": {
      "text/html": [
       " View run <strong style=\"color:#cdcd00\">RMSprop_depth2</strong> at: <a href='https://wandb.ai/wilfried-mvomoeto-university-of-li-ge/Multi_Class_Depth_Tuning_gru_attention_glove300d/runs/u27was4w' target=\"_blank\">https://wandb.ai/wilfried-mvomoeto-university-of-li-ge/Multi_Class_Depth_Tuning_gru_attention_glove300d/runs/u27was4w</a><br> View project at: <a href='https://wandb.ai/wilfried-mvomoeto-university-of-li-ge/Multi_Class_Depth_Tuning_gru_attention_glove300d' target=\"_blank\">https://wandb.ai/wilfried-mvomoeto-university-of-li-ge/Multi_Class_Depth_Tuning_gru_attention_glove300d</a><br>Synced 5 W&B file(s), 0 media file(s), 0 artifact file(s) and 0 other file(s)"
      ],
      "text/plain": [
       "<IPython.core.display.HTML object>"
      ]
     },
     "metadata": {},
     "output_type": "display_data"
    },
    {
     "data": {
      "text/html": [
       "Find logs at: <code>./wandb/run-20250407_182125-u27was4w/logs</code>"
      ],
      "text/plain": [
       "<IPython.core.display.HTML object>"
      ]
     },
     "metadata": {},
     "output_type": "display_data"
    },
    {
     "name": "stdout",
     "output_type": "stream",
     "text": [
      "\n",
      "🔹 Training with optimizer: RMSprop | Depth: 3\n"
     ]
    },
    {
     "data": {
      "text/html": [
       "Tracking run with wandb version 0.19.9"
      ],
      "text/plain": [
       "<IPython.core.display.HTML object>"
      ]
     },
     "metadata": {},
     "output_type": "display_data"
    },
    {
     "data": {
      "text/html": [
       "Run data is saved locally in <code>/content/wandb/run-20250407_183318-wdmeg6jl</code>"
      ],
      "text/plain": [
       "<IPython.core.display.HTML object>"
      ]
     },
     "metadata": {},
     "output_type": "display_data"
    },
    {
     "data": {
      "text/html": [
       "Syncing run <strong><a href='https://wandb.ai/wilfried-mvomoeto-university-of-li-ge/Multi_Class_Depth_Tuning_gru_attention_glove300d/runs/wdmeg6jl' target=\"_blank\">RMSprop_depth3</a></strong> to <a href='https://wandb.ai/wilfried-mvomoeto-university-of-li-ge/Multi_Class_Depth_Tuning_gru_attention_glove300d' target=\"_blank\">Weights & Biases</a> (<a href='https://wandb.me/developer-guide' target=\"_blank\">docs</a>)<br>"
      ],
      "text/plain": [
       "<IPython.core.display.HTML object>"
      ]
     },
     "metadata": {},
     "output_type": "display_data"
    },
    {
     "data": {
      "text/html": [
       " View project at <a href='https://wandb.ai/wilfried-mvomoeto-university-of-li-ge/Multi_Class_Depth_Tuning_gru_attention_glove300d' target=\"_blank\">https://wandb.ai/wilfried-mvomoeto-university-of-li-ge/Multi_Class_Depth_Tuning_gru_attention_glove300d</a>"
      ],
      "text/plain": [
       "<IPython.core.display.HTML object>"
      ]
     },
     "metadata": {},
     "output_type": "display_data"
    },
    {
     "data": {
      "text/html": [
       " View run at <a href='https://wandb.ai/wilfried-mvomoeto-university-of-li-ge/Multi_Class_Depth_Tuning_gru_attention_glove300d/runs/wdmeg6jl' target=\"_blank\">https://wandb.ai/wilfried-mvomoeto-university-of-li-ge/Multi_Class_Depth_Tuning_gru_attention_glove300d/runs/wdmeg6jl</a>"
      ],
      "text/plain": [
       "<IPython.core.display.HTML object>"
      ]
     },
     "metadata": {},
     "output_type": "display_data"
    },
    {
     "name": "stdout",
     "output_type": "stream",
     "text": [
      "GloVe_GRU_BahdanauAttention(\n",
      "  (embedding): Embedding(40002, 300)\n",
      "  (gru): GRU(300, 300, num_layers=3, batch_first=True, bidirectional=True)\n",
      "  (attention): BahdanauAttention(\n",
      "    (W): Linear(in_features=600, out_features=300, bias=True)\n",
      "    (v): Linear(in_features=300, out_features=1, bias=False)\n",
      "  )\n",
      "  (fc): Linear(in_features=600, out_features=9, bias=True)\n",
      "  (dropout): Dropout(p=0.9, inplace=False)\n",
      ")\n",
      "Total trainable parameters: 16517409\n"
     ]
    },
    {
     "name": "stderr",
     "output_type": "stream",
     "text": [
      "Optimizer: RMSprop | Depth: 3 | Epoch 7/7 - Train Loss: 0.1936, Val Loss: 0.2914, Train ACC: 94.47%, Val ACC: 91.96%, F1: 0.92, Time: 2.45 min: 100%|██████████| 7/7 [17:12<00:00, 147.55s/epoch]\n"
     ]
    },
    {
     "data": {
      "text/html": [],
      "text/plain": [
       "<IPython.core.display.HTML object>"
      ]
     },
     "metadata": {},
     "output_type": "display_data"
    },
    {
     "data": {
      "text/html": [
       "<br>    <style><br>        .wandb-row {<br>            display: flex;<br>            flex-direction: row;<br>            flex-wrap: wrap;<br>            justify-content: flex-start;<br>            width: 100%;<br>        }<br>        .wandb-col {<br>            display: flex;<br>            flex-direction: column;<br>            flex-basis: 100%;<br>            flex: 1;<br>            padding: 10px;<br>        }<br>    </style><br><div class=\"wandb-row\"><div class=\"wandb-col\"><h3>Run history:</h3><br/><table class=\"wandb\"><tr><td>num_layers</td><td>▁▁▁▁▁▁▁</td></tr><tr><td>train_acc</td><td>▁▆▆▇▇██</td></tr><tr><td>train_loss</td><td>█▃▃▂▂▁▁</td></tr><tr><td>val_acc</td><td>▁▄▄▅▇▇█</td></tr><tr><td>val_f1</td><td>▁▃▅▅▇▇█</td></tr><tr><td>val_loss</td><td>█▄▁▁▁▆▆</td></tr></table><br/></div><div class=\"wandb-col\"><h3>Run summary:</h3><br/><table class=\"wandb\"><tr><td>num_layers</td><td>3</td></tr><tr><td>train_acc</td><td>0.94467</td></tr><tr><td>train_loss</td><td>0.1936</td></tr><tr><td>val_acc</td><td>0.91963</td></tr><tr><td>val_f1</td><td>0.91905</td></tr><tr><td>val_loss</td><td>0.29144</td></tr></table><br/></div></div>"
      ],
      "text/plain": [
       "<IPython.core.display.HTML object>"
      ]
     },
     "metadata": {},
     "output_type": "display_data"
    },
    {
     "data": {
      "text/html": [
       " View run <strong style=\"color:#cdcd00\">RMSprop_depth3</strong> at: <a href='https://wandb.ai/wilfried-mvomoeto-university-of-li-ge/Multi_Class_Depth_Tuning_gru_attention_glove300d/runs/wdmeg6jl' target=\"_blank\">https://wandb.ai/wilfried-mvomoeto-university-of-li-ge/Multi_Class_Depth_Tuning_gru_attention_glove300d/runs/wdmeg6jl</a><br> View project at: <a href='https://wandb.ai/wilfried-mvomoeto-university-of-li-ge/Multi_Class_Depth_Tuning_gru_attention_glove300d' target=\"_blank\">https://wandb.ai/wilfried-mvomoeto-university-of-li-ge/Multi_Class_Depth_Tuning_gru_attention_glove300d</a><br>Synced 5 W&B file(s), 0 media file(s), 0 artifact file(s) and 0 other file(s)"
      ],
      "text/plain": [
       "<IPython.core.display.HTML object>"
      ]
     },
     "metadata": {},
     "output_type": "display_data"
    },
    {
     "data": {
      "text/html": [
       "Find logs at: <code>./wandb/run-20250407_183318-wdmeg6jl/logs</code>"
      ],
      "text/plain": [
       "<IPython.core.display.HTML object>"
      ]
     },
     "metadata": {},
     "output_type": "display_data"
    }
   ],
   "source": [
    "learning_rate = 9e-5\n",
    "depth_values = [1, 2, 3]\n",
    "\n",
    "for depth in depth_values:\n",
    "    optimizer_name = \"RMSprop\"\n",
    "    print(f\"\\n🔹 Training with optimizer: {optimizer_name} | Depth: {depth}\")\n",
    "\n",
    "    model = GloVe_GRU_BahdanauAttention(\n",
    "        embedding_matrix=embedding_matrix,\n",
    "        hidden_dim=300,\n",
    "        num_classes=NUM_CLASSES,\n",
    "        num_layers=depth,\n",
    "        dropout_prob=0.9\n",
    "    ).to(device)\n",
    "\n",
    "    optimizer = optimizer_class(model.parameters(), lr=learning_rate)\n",
    "\n",
    "    wandb.init(\n",
    "        project='Multi_Class_Depth_Tuning_gru_attention_glove300d',\n",
    "        name=f\"{optimizer_name}_depth{depth}\",\n",
    "        config={\n",
    "            'learning_rate': learning_rate,\n",
    "            'num_epochs': num_epochs,\n",
    "            'optimizer': optimizer_name,\n",
    "            'model': 'GRU_Model',\n",
    "            'embedding_dim': 300,\n",
    "            'hidden_dim': 300,\n",
    "            'dropout_prob': 0.9,\n",
    "            'num_layers': depth\n",
    "        }\n",
    "    )\n",
    "\n",
    "    print(model)\n",
    "    num_params = count_parameters(model)\n",
    "    print(f\"Total trainable parameters: {num_params}\")\n",
    "\n",
    "    train_losses, val_losses = [], []\n",
    "    train_accs, val_accs = [], []\n",
    "    val_f1s = []\n",
    "\n",
    "    with tqdm(total=num_epochs, desc=f\"Optimizer: {optimizer_name} | Depth: {depth}\", unit=\"epoch\") as pbar:\n",
    "        for epoch in range(num_epochs):\n",
    "            start_time = time.time()\n",
    "\n",
    "            train_loss, train_acc = train_epoch_glove(model, train_loader, optimizer, loss_function, device)\n",
    "            train_losses.append(train_loss)\n",
    "            train_accs.append(train_acc)\n",
    "\n",
    "            val_acc, val_f1, val_loss = validate_epoch_glove(model, val_loader, loss_function, device)\n",
    "            val_losses.append(val_loss)\n",
    "            val_accs.append(val_acc)\n",
    "            val_f1s.append(val_f1)\n",
    "\n",
    "            end_time = time.time()\n",
    "            epoch_duration = end_time - start_time\n",
    "\n",
    "            pbar.set_description(\n",
    "                f\"Optimizer: {optimizer_name} | Depth: {depth} | Epoch {epoch+1}/{num_epochs} - \"\n",
    "                f\"Train Loss: {train_loss:.4f}, Val Loss: {val_loss:.4f}, \"\n",
    "                f\"Train ACC: {train_acc:.2%}, Val ACC: {val_acc:.2%}, \"\n",
    "                f\"F1: {val_f1:.2f}, Time: {epoch_duration / 60:.2f} min\"\n",
    "            )\n",
    "            pbar.update(1)\n",
    "\n",
    "            wandb.log({\n",
    "                'train_loss': train_loss,\n",
    "                'val_loss': val_loss,\n",
    "                'train_acc': train_acc,\n",
    "                'val_acc': val_acc,\n",
    "                'val_f1': val_f1,\n",
    "            })\n",
    "\n",
    "    wandb.finish()"
   ]
  },
  {
   "cell_type": "markdown",
   "metadata": {
    "id": "lVaEVro7-xlA"
   },
   "source": [
    "---\n",
    "Depth value is set to 1."
   ]
  },
  {
   "cell_type": "markdown",
   "metadata": {
    "id": "AaUEKiy_-zZH"
   },
   "source": [
    "2.1.4 Batch size value selection"
   ]
  },
  {
   "cell_type": "code",
   "execution_count": null,
   "metadata": {
    "colab": {
     "base_uri": "https://localhost:8080/",
     "height": 1000
    },
    "id": "gZwi2f378nwA",
    "outputId": "e672afd0-b5cf-4b49-a6d1-11cc0f1e237c"
   },
   "outputs": [
    {
     "name": "stdout",
     "output_type": "stream",
     "text": [
      "\n",
      "🔹 Training with optimizer: RMSprop | Batch Size: 8\n"
     ]
    },
    {
     "data": {
      "text/html": [
       "Tracking run with wandb version 0.19.9"
      ],
      "text/plain": [
       "<IPython.core.display.HTML object>"
      ]
     },
     "metadata": {},
     "output_type": "display_data"
    },
    {
     "data": {
      "text/html": [
       "Run data is saved locally in <code>/content/wandb/run-20250407_185034-b0gag5a0</code>"
      ],
      "text/plain": [
       "<IPython.core.display.HTML object>"
      ]
     },
     "metadata": {},
     "output_type": "display_data"
    },
    {
     "data": {
      "text/html": [
       "Syncing run <strong><a href='https://wandb.ai/wilfried-mvomoeto-university-of-li-ge/Multi_Class_Batch_Tuning_gru_attention_glove300d/runs/b0gag5a0' target=\"_blank\">RMSprop_batch8</a></strong> to <a href='https://wandb.ai/wilfried-mvomoeto-university-of-li-ge/Multi_Class_Batch_Tuning_gru_attention_glove300d' target=\"_blank\">Weights & Biases</a> (<a href='https://wandb.me/developer-guide' target=\"_blank\">docs</a>)<br>"
      ],
      "text/plain": [
       "<IPython.core.display.HTML object>"
      ]
     },
     "metadata": {},
     "output_type": "display_data"
    },
    {
     "data": {
      "text/html": [
       " View project at <a href='https://wandb.ai/wilfried-mvomoeto-university-of-li-ge/Multi_Class_Batch_Tuning_gru_attention_glove300d' target=\"_blank\">https://wandb.ai/wilfried-mvomoeto-university-of-li-ge/Multi_Class_Batch_Tuning_gru_attention_glove300d</a>"
      ],
      "text/plain": [
       "<IPython.core.display.HTML object>"
      ]
     },
     "metadata": {},
     "output_type": "display_data"
    },
    {
     "data": {
      "text/html": [
       " View run at <a href='https://wandb.ai/wilfried-mvomoeto-university-of-li-ge/Multi_Class_Batch_Tuning_gru_attention_glove300d/runs/b0gag5a0' target=\"_blank\">https://wandb.ai/wilfried-mvomoeto-university-of-li-ge/Multi_Class_Batch_Tuning_gru_attention_glove300d/runs/b0gag5a0</a>"
      ],
      "text/plain": [
       "<IPython.core.display.HTML object>"
      ]
     },
     "metadata": {},
     "output_type": "display_data"
    },
    {
     "name": "stdout",
     "output_type": "stream",
     "text": [
      "GloVe_GRU_BahdanauAttention(\n",
      "  (embedding): Embedding(40002, 300)\n",
      "  (gru): GRU(300, 300, batch_first=True, bidirectional=True)\n",
      "  (attention): BahdanauAttention(\n",
      "    (W): Linear(in_features=600, out_features=300, bias=True)\n",
      "    (v): Linear(in_features=300, out_features=1, bias=False)\n",
      "  )\n",
      "  (fc): Linear(in_features=600, out_features=9, bias=True)\n",
      "  (dropout): Dropout(p=0.9, inplace=False)\n",
      ")\n",
      "Total trainable parameters: 13270209\n"
     ]
    },
    {
     "name": "stderr",
     "output_type": "stream",
     "text": [
      "Optimizer: RMSprop | Batch: 8 | Epoch 7/7 - Train Loss: 0.2344, Val Loss: 0.3327, Train ACC: 94.06%, Val ACC: 91.91%, F1: 0.92, Time: 1.74 min: 100%|██████████| 7/7 [12:03<00:00, 103.31s/epoch]\n"
     ]
    },
    {
     "data": {
      "text/html": [],
      "text/plain": [
       "<IPython.core.display.HTML object>"
      ]
     },
     "metadata": {},
     "output_type": "display_data"
    },
    {
     "data": {
      "text/html": [
       "<br>    <style><br>        .wandb-row {<br>            display: flex;<br>            flex-direction: row;<br>            flex-wrap: wrap;<br>            justify-content: flex-start;<br>            width: 100%;<br>        }<br>        .wandb-col {<br>            display: flex;<br>            flex-direction: column;<br>            flex-basis: 100%;<br>            flex: 1;<br>            padding: 10px;<br>        }<br>    </style><br><div class=\"wandb-row\"><div class=\"wandb-col\"><h3>Run history:</h3><br/><table class=\"wandb\"><tr><td>batch_size</td><td>▁▁▁▁▁▁▁</td></tr><tr><td>train_acc</td><td>▁▆▆▇▇██</td></tr><tr><td>train_loss</td><td>█▃▂▂▂▁▁</td></tr><tr><td>val_acc</td><td>▁▅▆█▇██</td></tr><tr><td>val_f1</td><td>▁▅▆█▇██</td></tr><tr><td>val_loss</td><td>▅▃▁▁▅▆█</td></tr></table><br/></div><div class=\"wandb-col\"><h3>Run summary:</h3><br/><table class=\"wandb\"><tr><td>batch_size</td><td>8</td></tr><tr><td>train_acc</td><td>0.94057</td></tr><tr><td>train_loss</td><td>0.23437</td></tr><tr><td>val_acc</td><td>0.91911</td></tr><tr><td>val_f1</td><td>0.91904</td></tr><tr><td>val_loss</td><td>0.33271</td></tr></table><br/></div></div>"
      ],
      "text/plain": [
       "<IPython.core.display.HTML object>"
      ]
     },
     "metadata": {},
     "output_type": "display_data"
    },
    {
     "data": {
      "text/html": [
       " View run <strong style=\"color:#cdcd00\">RMSprop_batch8</strong> at: <a href='https://wandb.ai/wilfried-mvomoeto-university-of-li-ge/Multi_Class_Batch_Tuning_gru_attention_glove300d/runs/b0gag5a0' target=\"_blank\">https://wandb.ai/wilfried-mvomoeto-university-of-li-ge/Multi_Class_Batch_Tuning_gru_attention_glove300d/runs/b0gag5a0</a><br> View project at: <a href='https://wandb.ai/wilfried-mvomoeto-university-of-li-ge/Multi_Class_Batch_Tuning_gru_attention_glove300d' target=\"_blank\">https://wandb.ai/wilfried-mvomoeto-university-of-li-ge/Multi_Class_Batch_Tuning_gru_attention_glove300d</a><br>Synced 5 W&B file(s), 0 media file(s), 0 artifact file(s) and 0 other file(s)"
      ],
      "text/plain": [
       "<IPython.core.display.HTML object>"
      ]
     },
     "metadata": {},
     "output_type": "display_data"
    },
    {
     "data": {
      "text/html": [
       "Find logs at: <code>./wandb/run-20250407_185034-b0gag5a0/logs</code>"
      ],
      "text/plain": [
       "<IPython.core.display.HTML object>"
      ]
     },
     "metadata": {},
     "output_type": "display_data"
    },
    {
     "name": "stdout",
     "output_type": "stream",
     "text": [
      "\n",
      "🔹 Training with optimizer: RMSprop | Batch Size: 16\n"
     ]
    },
    {
     "data": {
      "text/html": [
       "Tracking run with wandb version 0.19.9"
      ],
      "text/plain": [
       "<IPython.core.display.HTML object>"
      ]
     },
     "metadata": {},
     "output_type": "display_data"
    },
    {
     "data": {
      "text/html": [
       "Run data is saved locally in <code>/content/wandb/run-20250407_190240-r6a0yj53</code>"
      ],
      "text/plain": [
       "<IPython.core.display.HTML object>"
      ]
     },
     "metadata": {},
     "output_type": "display_data"
    },
    {
     "data": {
      "text/html": [
       "Syncing run <strong><a href='https://wandb.ai/wilfried-mvomoeto-university-of-li-ge/Multi_Class_Batch_Tuning_gru_attention_glove300d/runs/r6a0yj53' target=\"_blank\">RMSprop_batch16</a></strong> to <a href='https://wandb.ai/wilfried-mvomoeto-university-of-li-ge/Multi_Class_Batch_Tuning_gru_attention_glove300d' target=\"_blank\">Weights & Biases</a> (<a href='https://wandb.me/developer-guide' target=\"_blank\">docs</a>)<br>"
      ],
      "text/plain": [
       "<IPython.core.display.HTML object>"
      ]
     },
     "metadata": {},
     "output_type": "display_data"
    },
    {
     "data": {
      "text/html": [
       " View project at <a href='https://wandb.ai/wilfried-mvomoeto-university-of-li-ge/Multi_Class_Batch_Tuning_gru_attention_glove300d' target=\"_blank\">https://wandb.ai/wilfried-mvomoeto-university-of-li-ge/Multi_Class_Batch_Tuning_gru_attention_glove300d</a>"
      ],
      "text/plain": [
       "<IPython.core.display.HTML object>"
      ]
     },
     "metadata": {},
     "output_type": "display_data"
    },
    {
     "data": {
      "text/html": [
       " View run at <a href='https://wandb.ai/wilfried-mvomoeto-university-of-li-ge/Multi_Class_Batch_Tuning_gru_attention_glove300d/runs/r6a0yj53' target=\"_blank\">https://wandb.ai/wilfried-mvomoeto-university-of-li-ge/Multi_Class_Batch_Tuning_gru_attention_glove300d/runs/r6a0yj53</a>"
      ],
      "text/plain": [
       "<IPython.core.display.HTML object>"
      ]
     },
     "metadata": {},
     "output_type": "display_data"
    },
    {
     "name": "stdout",
     "output_type": "stream",
     "text": [
      "GloVe_GRU_BahdanauAttention(\n",
      "  (embedding): Embedding(40002, 300)\n",
      "  (gru): GRU(300, 300, batch_first=True, bidirectional=True)\n",
      "  (attention): BahdanauAttention(\n",
      "    (W): Linear(in_features=600, out_features=300, bias=True)\n",
      "    (v): Linear(in_features=300, out_features=1, bias=False)\n",
      "  )\n",
      "  (fc): Linear(in_features=600, out_features=9, bias=True)\n",
      "  (dropout): Dropout(p=0.9, inplace=False)\n",
      ")\n",
      "Total trainable parameters: 13270209\n"
     ]
    },
    {
     "name": "stderr",
     "output_type": "stream",
     "text": [
      "Optimizer: RMSprop | Batch: 16 | Epoch 7/7 - Train Loss: 0.2224, Val Loss: 0.2879, Train ACC: 93.59%, Val ACC: 91.67%, F1: 0.92, Time: 1.10 min: 100%|██████████| 7/7 [07:40<00:00, 65.78s/epoch]\n"
     ]
    },
    {
     "data": {
      "text/html": [],
      "text/plain": [
       "<IPython.core.display.HTML object>"
      ]
     },
     "metadata": {},
     "output_type": "display_data"
    },
    {
     "data": {
      "text/html": [
       "<br>    <style><br>        .wandb-row {<br>            display: flex;<br>            flex-direction: row;<br>            flex-wrap: wrap;<br>            justify-content: flex-start;<br>            width: 100%;<br>        }<br>        .wandb-col {<br>            display: flex;<br>            flex-direction: column;<br>            flex-basis: 100%;<br>            flex: 1;<br>            padding: 10px;<br>        }<br>    </style><br><div class=\"wandb-row\"><div class=\"wandb-col\"><h3>Run history:</h3><br/><table class=\"wandb\"><tr><td>batch_size</td><td>▁▁▁▁▁▁▁</td></tr><tr><td>train_acc</td><td>▁▆▇▇███</td></tr><tr><td>train_loss</td><td>█▃▂▂▂▁▁</td></tr><tr><td>val_acc</td><td>▁▃▅▆██▆</td></tr><tr><td>val_f1</td><td>▁▃▅▇██▆</td></tr><tr><td>val_loss</td><td>█▅▃▁▂▂▄</td></tr></table><br/></div><div class=\"wandb-col\"><h3>Run summary:</h3><br/><table class=\"wandb\"><tr><td>batch_size</td><td>16</td></tr><tr><td>train_acc</td><td>0.93587</td></tr><tr><td>train_loss</td><td>0.22237</td></tr><tr><td>val_acc</td><td>0.9167</td></tr><tr><td>val_f1</td><td>0.91692</td></tr><tr><td>val_loss</td><td>0.28792</td></tr></table><br/></div></div>"
      ],
      "text/plain": [
       "<IPython.core.display.HTML object>"
      ]
     },
     "metadata": {},
     "output_type": "display_data"
    },
    {
     "data": {
      "text/html": [
       " View run <strong style=\"color:#cdcd00\">RMSprop_batch16</strong> at: <a href='https://wandb.ai/wilfried-mvomoeto-university-of-li-ge/Multi_Class_Batch_Tuning_gru_attention_glove300d/runs/r6a0yj53' target=\"_blank\">https://wandb.ai/wilfried-mvomoeto-university-of-li-ge/Multi_Class_Batch_Tuning_gru_attention_glove300d/runs/r6a0yj53</a><br> View project at: <a href='https://wandb.ai/wilfried-mvomoeto-university-of-li-ge/Multi_Class_Batch_Tuning_gru_attention_glove300d' target=\"_blank\">https://wandb.ai/wilfried-mvomoeto-university-of-li-ge/Multi_Class_Batch_Tuning_gru_attention_glove300d</a><br>Synced 5 W&B file(s), 0 media file(s), 0 artifact file(s) and 0 other file(s)"
      ],
      "text/plain": [
       "<IPython.core.display.HTML object>"
      ]
     },
     "metadata": {},
     "output_type": "display_data"
    },
    {
     "data": {
      "text/html": [
       "Find logs at: <code>./wandb/run-20250407_190240-r6a0yj53/logs</code>"
      ],
      "text/plain": [
       "<IPython.core.display.HTML object>"
      ]
     },
     "metadata": {},
     "output_type": "display_data"
    },
    {
     "name": "stdout",
     "output_type": "stream",
     "text": [
      "\n",
      "🔹 Training with optimizer: RMSprop | Batch Size: 32\n"
     ]
    },
    {
     "data": {
      "text/html": [
       "Tracking run with wandb version 0.19.9"
      ],
      "text/plain": [
       "<IPython.core.display.HTML object>"
      ]
     },
     "metadata": {},
     "output_type": "display_data"
    },
    {
     "data": {
      "text/html": [
       "Run data is saved locally in <code>/content/wandb/run-20250407_191023-f0fkh9pz</code>"
      ],
      "text/plain": [
       "<IPython.core.display.HTML object>"
      ]
     },
     "metadata": {},
     "output_type": "display_data"
    },
    {
     "data": {
      "text/html": [
       "Syncing run <strong><a href='https://wandb.ai/wilfried-mvomoeto-university-of-li-ge/Multi_Class_Batch_Tuning_gru_attention_glove300d/runs/f0fkh9pz' target=\"_blank\">RMSprop_batch32</a></strong> to <a href='https://wandb.ai/wilfried-mvomoeto-university-of-li-ge/Multi_Class_Batch_Tuning_gru_attention_glove300d' target=\"_blank\">Weights & Biases</a> (<a href='https://wandb.me/developer-guide' target=\"_blank\">docs</a>)<br>"
      ],
      "text/plain": [
       "<IPython.core.display.HTML object>"
      ]
     },
     "metadata": {},
     "output_type": "display_data"
    },
    {
     "data": {
      "text/html": [
       " View project at <a href='https://wandb.ai/wilfried-mvomoeto-university-of-li-ge/Multi_Class_Batch_Tuning_gru_attention_glove300d' target=\"_blank\">https://wandb.ai/wilfried-mvomoeto-university-of-li-ge/Multi_Class_Batch_Tuning_gru_attention_glove300d</a>"
      ],
      "text/plain": [
       "<IPython.core.display.HTML object>"
      ]
     },
     "metadata": {},
     "output_type": "display_data"
    },
    {
     "data": {
      "text/html": [
       " View run at <a href='https://wandb.ai/wilfried-mvomoeto-university-of-li-ge/Multi_Class_Batch_Tuning_gru_attention_glove300d/runs/f0fkh9pz' target=\"_blank\">https://wandb.ai/wilfried-mvomoeto-university-of-li-ge/Multi_Class_Batch_Tuning_gru_attention_glove300d/runs/f0fkh9pz</a>"
      ],
      "text/plain": [
       "<IPython.core.display.HTML object>"
      ]
     },
     "metadata": {},
     "output_type": "display_data"
    },
    {
     "name": "stdout",
     "output_type": "stream",
     "text": [
      "GloVe_GRU_BahdanauAttention(\n",
      "  (embedding): Embedding(40002, 300)\n",
      "  (gru): GRU(300, 300, batch_first=True, bidirectional=True)\n",
      "  (attention): BahdanauAttention(\n",
      "    (W): Linear(in_features=600, out_features=300, bias=True)\n",
      "    (v): Linear(in_features=300, out_features=1, bias=False)\n",
      "  )\n",
      "  (fc): Linear(in_features=600, out_features=9, bias=True)\n",
      "  (dropout): Dropout(p=0.9, inplace=False)\n",
      ")\n",
      "Total trainable parameters: 13270209\n"
     ]
    },
    {
     "name": "stderr",
     "output_type": "stream",
     "text": [
      "Optimizer: RMSprop | Batch: 32 | Epoch 7/7 - Train Loss: 0.2311, Val Loss: 0.2679, Train ACC: 93.21%, Val ACC: 91.93%, F1: 0.92, Time: 0.80 min: 100%|██████████| 7/7 [05:37<00:00, 48.25s/epoch]\n"
     ]
    },
    {
     "data": {
      "text/html": [],
      "text/plain": [
       "<IPython.core.display.HTML object>"
      ]
     },
     "metadata": {},
     "output_type": "display_data"
    },
    {
     "data": {
      "text/html": [
       "<br>    <style><br>        .wandb-row {<br>            display: flex;<br>            flex-direction: row;<br>            flex-wrap: wrap;<br>            justify-content: flex-start;<br>            width: 100%;<br>        }<br>        .wandb-col {<br>            display: flex;<br>            flex-direction: column;<br>            flex-basis: 100%;<br>            flex: 1;<br>            padding: 10px;<br>        }<br>    </style><br><div class=\"wandb-row\"><div class=\"wandb-col\"><h3>Run history:</h3><br/><table class=\"wandb\"><tr><td>batch_size</td><td>▁▁▁▁▁▁▁</td></tr><tr><td>train_acc</td><td>▁▆▇▇███</td></tr><tr><td>train_loss</td><td>█▂▂▂▁▁▁</td></tr><tr><td>val_acc</td><td>▁▄▅▇▇▇█</td></tr><tr><td>val_f1</td><td>▁▄▅▆▇▇█</td></tr><tr><td>val_loss</td><td>█▄▂▂▂▂▁</td></tr></table><br/></div><div class=\"wandb-col\"><h3>Run summary:</h3><br/><table class=\"wandb\"><tr><td>batch_size</td><td>32</td></tr><tr><td>train_acc</td><td>0.93207</td></tr><tr><td>train_loss</td><td>0.2311</td></tr><tr><td>val_acc</td><td>0.91928</td></tr><tr><td>val_f1</td><td>0.91903</td></tr><tr><td>val_loss</td><td>0.26789</td></tr></table><br/></div></div>"
      ],
      "text/plain": [
       "<IPython.core.display.HTML object>"
      ]
     },
     "metadata": {},
     "output_type": "display_data"
    },
    {
     "data": {
      "text/html": [
       " View run <strong style=\"color:#cdcd00\">RMSprop_batch32</strong> at: <a href='https://wandb.ai/wilfried-mvomoeto-university-of-li-ge/Multi_Class_Batch_Tuning_gru_attention_glove300d/runs/f0fkh9pz' target=\"_blank\">https://wandb.ai/wilfried-mvomoeto-university-of-li-ge/Multi_Class_Batch_Tuning_gru_attention_glove300d/runs/f0fkh9pz</a><br> View project at: <a href='https://wandb.ai/wilfried-mvomoeto-university-of-li-ge/Multi_Class_Batch_Tuning_gru_attention_glove300d' target=\"_blank\">https://wandb.ai/wilfried-mvomoeto-university-of-li-ge/Multi_Class_Batch_Tuning_gru_attention_glove300d</a><br>Synced 5 W&B file(s), 0 media file(s), 0 artifact file(s) and 0 other file(s)"
      ],
      "text/plain": [
       "<IPython.core.display.HTML object>"
      ]
     },
     "metadata": {},
     "output_type": "display_data"
    },
    {
     "data": {
      "text/html": [
       "Find logs at: <code>./wandb/run-20250407_191023-f0fkh9pz/logs</code>"
      ],
      "text/plain": [
       "<IPython.core.display.HTML object>"
      ]
     },
     "metadata": {},
     "output_type": "display_data"
    },
    {
     "name": "stdout",
     "output_type": "stream",
     "text": [
      "\n",
      "🔹 Training with optimizer: RMSprop | Batch Size: 64\n"
     ]
    },
    {
     "data": {
      "text/html": [
       "Tracking run with wandb version 0.19.9"
      ],
      "text/plain": [
       "<IPython.core.display.HTML object>"
      ]
     },
     "metadata": {},
     "output_type": "display_data"
    },
    {
     "data": {
      "text/html": [
       "Run data is saved locally in <code>/content/wandb/run-20250407_191604-10ujb2ib</code>"
      ],
      "text/plain": [
       "<IPython.core.display.HTML object>"
      ]
     },
     "metadata": {},
     "output_type": "display_data"
    },
    {
     "data": {
      "text/html": [
       "Syncing run <strong><a href='https://wandb.ai/wilfried-mvomoeto-university-of-li-ge/Multi_Class_Batch_Tuning_gru_attention_glove300d/runs/10ujb2ib' target=\"_blank\">RMSprop_batch64</a></strong> to <a href='https://wandb.ai/wilfried-mvomoeto-university-of-li-ge/Multi_Class_Batch_Tuning_gru_attention_glove300d' target=\"_blank\">Weights & Biases</a> (<a href='https://wandb.me/developer-guide' target=\"_blank\">docs</a>)<br>"
      ],
      "text/plain": [
       "<IPython.core.display.HTML object>"
      ]
     },
     "metadata": {},
     "output_type": "display_data"
    },
    {
     "data": {
      "text/html": [
       " View project at <a href='https://wandb.ai/wilfried-mvomoeto-university-of-li-ge/Multi_Class_Batch_Tuning_gru_attention_glove300d' target=\"_blank\">https://wandb.ai/wilfried-mvomoeto-university-of-li-ge/Multi_Class_Batch_Tuning_gru_attention_glove300d</a>"
      ],
      "text/plain": [
       "<IPython.core.display.HTML object>"
      ]
     },
     "metadata": {},
     "output_type": "display_data"
    },
    {
     "data": {
      "text/html": [
       " View run at <a href='https://wandb.ai/wilfried-mvomoeto-university-of-li-ge/Multi_Class_Batch_Tuning_gru_attention_glove300d/runs/10ujb2ib' target=\"_blank\">https://wandb.ai/wilfried-mvomoeto-university-of-li-ge/Multi_Class_Batch_Tuning_gru_attention_glove300d/runs/10ujb2ib</a>"
      ],
      "text/plain": [
       "<IPython.core.display.HTML object>"
      ]
     },
     "metadata": {},
     "output_type": "display_data"
    },
    {
     "name": "stdout",
     "output_type": "stream",
     "text": [
      "GloVe_GRU_BahdanauAttention(\n",
      "  (embedding): Embedding(40002, 300)\n",
      "  (gru): GRU(300, 300, batch_first=True, bidirectional=True)\n",
      "  (attention): BahdanauAttention(\n",
      "    (W): Linear(in_features=600, out_features=300, bias=True)\n",
      "    (v): Linear(in_features=300, out_features=1, bias=False)\n",
      "  )\n",
      "  (fc): Linear(in_features=600, out_features=9, bias=True)\n",
      "  (dropout): Dropout(p=0.9, inplace=False)\n",
      ")\n",
      "Total trainable parameters: 13270209\n"
     ]
    },
    {
     "name": "stderr",
     "output_type": "stream",
     "text": [
      "Optimizer: RMSprop | Batch: 64 | Epoch 7/7 - Train Loss: 0.2417, Val Loss: 0.2707, Train ACC: 92.87%, Val ACC: 91.96%, F1: 0.92, Time: 0.74 min: 100%|██████████| 7/7 [05:13<00:00, 44.79s/epoch]\n"
     ]
    },
    {
     "data": {
      "text/html": [],
      "text/plain": [
       "<IPython.core.display.HTML object>"
      ]
     },
     "metadata": {},
     "output_type": "display_data"
    },
    {
     "data": {
      "text/html": [
       "<br>    <style><br>        .wandb-row {<br>            display: flex;<br>            flex-direction: row;<br>            flex-wrap: wrap;<br>            justify-content: flex-start;<br>            width: 100%;<br>        }<br>        .wandb-col {<br>            display: flex;<br>            flex-direction: column;<br>            flex-basis: 100%;<br>            flex: 1;<br>            padding: 10px;<br>        }<br>    </style><br><div class=\"wandb-row\"><div class=\"wandb-col\"><h3>Run history:</h3><br/><table class=\"wandb\"><tr><td>batch_size</td><td>▁▁▁▁▁▁▁</td></tr><tr><td>train_acc</td><td>▁▇▇▇▇██</td></tr><tr><td>train_loss</td><td>█▂▂▂▁▁▁</td></tr><tr><td>val_acc</td><td>▁▄▅▆▇▇█</td></tr><tr><td>val_f1</td><td>▁▄▅▆▇▇█</td></tr><tr><td>val_loss</td><td>█▄▂▂▂▁▁</td></tr></table><br/></div><div class=\"wandb-col\"><h3>Run summary:</h3><br/><table class=\"wandb\"><tr><td>batch_size</td><td>64</td></tr><tr><td>train_acc</td><td>0.9287</td></tr><tr><td>train_loss</td><td>0.24167</td></tr><tr><td>val_acc</td><td>0.91963</td></tr><tr><td>val_f1</td><td>0.91904</td></tr><tr><td>val_loss</td><td>0.27071</td></tr></table><br/></div></div>"
      ],
      "text/plain": [
       "<IPython.core.display.HTML object>"
      ]
     },
     "metadata": {},
     "output_type": "display_data"
    },
    {
     "data": {
      "text/html": [
       " View run <strong style=\"color:#cdcd00\">RMSprop_batch64</strong> at: <a href='https://wandb.ai/wilfried-mvomoeto-university-of-li-ge/Multi_Class_Batch_Tuning_gru_attention_glove300d/runs/10ujb2ib' target=\"_blank\">https://wandb.ai/wilfried-mvomoeto-university-of-li-ge/Multi_Class_Batch_Tuning_gru_attention_glove300d/runs/10ujb2ib</a><br> View project at: <a href='https://wandb.ai/wilfried-mvomoeto-university-of-li-ge/Multi_Class_Batch_Tuning_gru_attention_glove300d' target=\"_blank\">https://wandb.ai/wilfried-mvomoeto-university-of-li-ge/Multi_Class_Batch_Tuning_gru_attention_glove300d</a><br>Synced 5 W&B file(s), 0 media file(s), 0 artifact file(s) and 0 other file(s)"
      ],
      "text/plain": [
       "<IPython.core.display.HTML object>"
      ]
     },
     "metadata": {},
     "output_type": "display_data"
    },
    {
     "data": {
      "text/html": [
       "Find logs at: <code>./wandb/run-20250407_191604-10ujb2ib/logs</code>"
      ],
      "text/plain": [
       "<IPython.core.display.HTML object>"
      ]
     },
     "metadata": {},
     "output_type": "display_data"
    }
   ],
   "source": [
    "num_epochs = 7\n",
    "learning_rate = 9e-5\n",
    "optimizer_class = optim.RMSprop\n",
    "batch_sizes = [8, 16, 32, 64]\n",
    "depth = 1\n",
    "\n",
    "for BATCH_SIZE in batch_sizes:\n",
    "    optimizer_name = \"RMSprop\"\n",
    "    print(f\"\\n🔹 Training with optimizer: {optimizer_name} | Batch Size: {BATCH_SIZE}\")\n",
    "\n",
    "    train_loader = DataLoader(train_dataset, batch_size=BATCH_SIZE, shuffle=True)\n",
    "    val_loader = DataLoader(val_dataset, batch_size=BATCH_SIZE, shuffle=False)\n",
    "    model = GloVe_GRU_BahdanauAttention(embedding_matrix=embedding_matrix, hidden_dim=300, num_classes=NUM_CLASSES, num_layers=depth, dropout_prob=0.9).to(device)\n",
    "    optimizer = optimizer_class(model.parameters(), lr=learning_rate)\n",
    "\n",
    "    wandb.init(\n",
    "        project='Multi_Class_Batch_Tuning_gru_attention_glove300d',\n",
    "        name=f\"{optimizer_name}_batch{BATCH_SIZE}\",\n",
    "        config={\n",
    "            'learning_rate': learning_rate,\n",
    "            'num_epochs': num_epochs,\n",
    "            'optimizer': optimizer_name,\n",
    "            'model': 'GRU_Model',\n",
    "            'embedding_dim': 300,\n",
    "            'hidden_dim': 300,\n",
    "            'dropout_prob': 0.9,\n",
    "            'num_layers': depth,\n",
    "            'batch_size': BATCH_SIZE\n",
    "        }\n",
    "    )\n",
    "\n",
    "    print(model)\n",
    "    num_params = count_parameters(model)\n",
    "    print(f\"Total trainable parameters: {num_params}\")\n",
    "\n",
    "    train_losses, val_losses = [], []\n",
    "    train_accs, val_accs = [], []\n",
    "    val_f1s = []\n",
    "\n",
    "    with tqdm(total=num_epochs, desc=f\"Optimizer: {optimizer_name} | Batch: {BATCH_SIZE}\", unit=\"epoch\") as pbar:\n",
    "        for epoch in range(num_epochs):\n",
    "            start_time = time.time()\n",
    "\n",
    "            train_loss, train_acc = train_epoch_glove(model, train_loader, optimizer, loss_function, device)\n",
    "            train_losses.append(train_loss)\n",
    "            train_accs.append(train_acc)\n",
    "\n",
    "            val_acc, val_f1, val_loss = validate_epoch_glove(model, val_loader, loss_function, device)\n",
    "            val_losses.append(val_loss)\n",
    "            val_accs.append(val_acc)\n",
    "            val_f1s.append(val_f1)\n",
    "\n",
    "            end_time = time.time()\n",
    "            epoch_duration = end_time - start_time\n",
    "\n",
    "            pbar.set_description(\n",
    "                f\"Optimizer: {optimizer_name} | Batch: {BATCH_SIZE} | Epoch {epoch+1}/{num_epochs} - \"\n",
    "                f\"Train Loss: {train_loss:.4f}, Val Loss: {val_loss:.4f}, \"\n",
    "                f\"Train ACC: {train_acc:.2%}, Val ACC: {val_acc:.2%}, \"\n",
    "                f\"F1: {val_f1:.2f}, Time: {epoch_duration / 60:.2f} min\"\n",
    "            )\n",
    "            pbar.update(1)\n",
    "\n",
    "            wandb.log({\n",
    "                'train_loss': train_loss,\n",
    "                'val_loss': val_loss,\n",
    "                'train_acc': train_acc,\n",
    "                'val_acc': val_acc,\n",
    "                'val_f1': val_f1,\n",
    "            })\n",
    "\n",
    "    wandb.finish()"
   ]
  },
  {
   "cell_type": "markdown",
   "metadata": {
    "id": "gqAXN7mJC6aK"
   },
   "source": [
    "---\n",
    "Batch size value is set to 32."
   ]
  },
  {
   "cell_type": "markdown",
   "metadata": {
    "id": "eVfMubKys_bD"
   },
   "source": [
    "---\n",
    "#3. Test phase\n",
    "\n",
    "---"
   ]
  },
  {
   "cell_type": "code",
   "execution_count": null,
   "metadata": {
    "id": "7t2yM27BWoaP"
   },
   "outputs": [],
   "source": [
    "def reinitialize_weights(model):\n",
    "    \"\"\"Reinitializes the model's weights by calling reset_parameters() for each layer that supports it.\"\"\"\n",
    "    for layer in model.children():\n",
    "        if hasattr(layer, 'reset_parameters'):\n",
    "            layer.reset_parameters()\n",
    "\n",
    "def plot_confusion_matrix(ax, y_true, y_pred, num_classes):\n",
    "    \"\"\"Plots a confusion matrix as a heatmap.\n",
    "\n",
    "    Args:\n",
    "        ax (matplotlib.axes.Axes): The axes on which to plot the confusion matrix.\n",
    "        y_true (list or array): The true class labels for the test set.\n",
    "        y_pred (list or array): The predicted class labels for the test set.\n",
    "        num_classes (int): The number of unique classes in the dataset.\n",
    "    \"\"\"\n",
    "    cm = confusion_matrix(y_true, y_pred, labels=range(num_classes))\n",
    "    sns.heatmap(cm, annot=True, fmt='g', cmap='Blues', xticklabels=range(num_classes), yticklabels=range(num_classes), ax=ax)\n",
    "    ax.set_xlabel('Predicted')\n",
    "    ax.set_ylabel('True')\n",
    "    ax.set_title('Confusion Matrix')\n",
    "\n",
    "def evaluate_and_analyze_glove(model, test_loader, device):\n",
    "    \"\"\"Evaluates and analyzes model performance on the test set.\"\"\"\n",
    "    model.eval()\n",
    "\n",
    "    all_labels = []\n",
    "    all_preds = []\n",
    "    all_probs = []\n",
    "    all_indices = []\n",
    "\n",
    "    top_correct = []\n",
    "    top_wrong = []\n",
    "\n",
    "    with torch.no_grad():\n",
    "        for idx, (inputs, labels, raw_text) in enumerate(test_loader):\n",
    "            inputs, labels = inputs.to(device), labels.to(device)\n",
    "\n",
    "            outputs = model(inputs)\n",
    "            probs = torch.softmax(outputs, dim=1)\n",
    "            preds = torch.argmax(probs, dim=1)\n",
    "\n",
    "            all_labels.extend(labels.cpu().numpy())\n",
    "            all_preds.extend(preds.cpu().numpy())\n",
    "            all_probs.extend(probs.cpu().numpy())\n",
    "            all_indices.extend(range(len(labels)))\n",
    "\n",
    "            correct_indices = (preds == labels).nonzero(as_tuple=True)[0]\n",
    "            wrong_indices = (preds != labels).nonzero(as_tuple=True)[0]\n",
    "\n",
    "            for correct_idx in correct_indices[:]:\n",
    "                top_correct.append({\n",
    "                    'index': correct_idx.item(),\n",
    "                    'true_label': labels[correct_idx].item(),\n",
    "                    'predicted_label': preds[correct_idx].item(),\n",
    "                    'probability': probs[correct_idx, preds[correct_idx]].cpu().item(),\n",
    "                    'text': raw_text[correct_idx.item()] if raw_text is not None else None\n",
    "                })\n",
    "\n",
    "            for wrong_idx in wrong_indices[:]:\n",
    "                top_wrong.append({\n",
    "                    'index': wrong_idx.item(),\n",
    "                    'true_label': labels[wrong_idx].item(),\n",
    "                    'predicted_label': preds[wrong_idx].item(),\n",
    "                    'probability': probs[wrong_idx, preds[wrong_idx]].cpu().item(),\n",
    "                    'text': raw_text[wrong_idx.item()] if raw_text is not None else None\n",
    "                })\n",
    "\n",
    "    df_correct = pd.DataFrame(top_correct)\n",
    "    df_wrong = pd.DataFrame(top_wrong)\n",
    "\n",
    "    class_report = classification_report(all_labels, all_preds, output_dict=True)\n",
    "    df_results = pd.DataFrame(class_report).transpose()\n",
    "\n",
    "    return df_results, df_correct, df_wrong, all_labels, all_preds\n",
    "\n",
    "def evaluate_and_analyze_pubMedBert(model, test_loader, device):\n",
    "    model.eval()\n",
    "    all_labels = []\n",
    "    all_preds = []\n",
    "    all_probs = []\n",
    "    all_indices = []\n",
    "    all_texts = []\n",
    "\n",
    "    wrong_samples = []\n",
    "\n",
    "    with torch.no_grad():\n",
    "        for batch_idx, batch in enumerate(test_loader):\n",
    "            input_ids = batch['input_ids'].to(device)\n",
    "            attention_mask = batch['attention_mask'].to(device)\n",
    "            labels = batch['labels'].to(device)\n",
    "            texts = batch['text']\n",
    "\n",
    "            outputs = model(input_ids, attention_mask)\n",
    "            probs = torch.softmax(outputs, dim=1)\n",
    "            preds = torch.argmax(probs, dim=1)\n",
    "\n",
    "            all_labels.extend(labels.cpu().numpy())\n",
    "            all_preds.extend(preds.cpu().numpy())\n",
    "            all_probs.extend(probs.cpu().numpy())\n",
    "            all_indices.extend(range(batch_idx * test_loader.batch_size, (batch_idx + 1) * test_loader.batch_size))\n",
    "            all_texts.extend(texts)\n",
    "\n",
    "            for idx, (pred, prob, label, text) in enumerate(zip(preds, probs, labels, texts)):\n",
    "                if pred != label:\n",
    "                    wrong_samples.append({\n",
    "                        \"index\": batch_idx * test_loader.batch_size + idx,\n",
    "                        \"true_label\": label.item(),\n",
    "                        \"predicted_label\": pred.item(),\n",
    "                        \"probability\": prob[pred].item(),\n",
    "                        \"text\": text\n",
    "                    })\n",
    "\n",
    "    class_stats = defaultdict(lambda: {'correct': 0, 'wrong': 0})\n",
    "    for true_label, pred_label in zip(all_labels, all_preds):\n",
    "        true_label = true_label.item()\n",
    "        pred_label = pred_label.item()\n",
    "        if true_label == pred_label:\n",
    "            class_stats[true_label]['correct'] += 1\n",
    "        else:\n",
    "            class_stats[true_label]['wrong'] += 1\n",
    "\n",
    "    class_results = []\n",
    "    for cls in sorted(class_stats.keys()):\n",
    "        total = class_stats[cls]['correct'] + class_stats[cls]['wrong']\n",
    "        success_rate = (class_stats[cls]['correct'] / total) * 100 if total > 0 else 0\n",
    "        failure_rate = (class_stats[cls]['wrong'] / total) * 100 if total > 0 else 0\n",
    "        class_results.append({'class': cls, 'success_rate': success_rate, 'failure_rate': failure_rate})\n",
    "\n",
    "    df_results = pd.DataFrame(class_results)\n",
    "\n",
    "    wrong_df = pd.DataFrame(wrong_samples)\n",
    "    top_8_wrong = wrong_df.sort_values(by='probability', ascending=False).head(8)\n",
    "\n",
    "    correct_samples = []\n",
    "    for idx, (pred, prob, label, text) in enumerate(zip(all_preds, all_probs, all_labels, all_texts)):\n",
    "        if pred == label:\n",
    "            correct_samples.append({\n",
    "                \"index\": idx,\n",
    "                \"true_label\": label.item(),\n",
    "                \"predicted_label\": pred.item(),\n",
    "                \"probability\": prob[pred].item(),\n",
    "                \"text\": text\n",
    "            })\n",
    "\n",
    "    correct_df = pd.DataFrame(correct_samples)\n",
    "    top_8_correct = correct_df.sort_values(by='probability', ascending=False).head(8)\n",
    "\n",
    "    return df_results, top_8_wrong, top_8_correct, all_labels, all_preds\n",
    "\n",
    "def plot_wrong_distributions(wrong_indices, all_labels, all_preds, num_classes = NUM_CLASSES):\n",
    "    \"\"\"Plots the distribution of wrong predictions for each class.\"\"\"\n",
    "    class_counts_wrong = defaultdict(int)\n",
    "\n",
    "    for idx in wrong_indices:\n",
    "        true_label = all_labels[idx]\n",
    "        class_counts_wrong[true_label] += 1\n",
    "\n",
    "    class_labels = sorted(class_counts_wrong.keys())\n",
    "    counts = [class_counts_wrong[label] for label in class_labels]\n",
    "    colors = sns.color_palette(\"husl\", len(class_labels))\n",
    "\n",
    "    class_names = [f\"Class {label}\" for label in class_labels]\n",
    "\n",
    "    sns.set(style=\"whitegrid\")\n",
    "    plt.figure(figsize=(10, 8))\n",
    "    plt.barh(class_names, counts, color=colors)\n",
    "    plt.xlabel('Number of Wrong Predictions')\n",
    "    plt.ylabel('Crop Disease Classes')\n",
    "    plt.title('Distribution of Wrong Predictions for Each Class')\n",
    "\n",
    "    for i, (count, name) in enumerate(zip(counts, class_names)):\n",
    "        plt.text(count, i, str(count), ha='left', va='center')\n",
    "\n",
    "    plt.show()"
   ]
  },
  {
   "cell_type": "code",
   "execution_count": null,
   "metadata": {
    "id": "WjtOKsvs8ntc"
   },
   "outputs": [],
   "source": [
    "models = {\n",
    "    \"GloVe_GRU_BahdanauAttention\": GloVe_GRU_BahdanauAttention(embedding_matrix=embedding_matrix, hidden_dim=300, num_classes=NUM_CLASSES, num_layers=1, dropout_prob=0.9).to(device),\n",
    "    \"PubMedBERT_GRU_Attention\": PubMedBERT_GRU_Attention(BERT_DIM, HIDDEN_DIM,num_layers=1, dropout_prob=DROPOUT).to(device),\n",
    "}\n",
    "\n",
    "optimizers = {\n",
    "    \"GloVe_GRU_BahdanauAttention\": optim.RMSprop(models[\"GloVe_GRU_BahdanauAttention\"].parameters(), lr=9e-5, weight_decay = 1e-5),\n",
    "    \"PubMedBERT_GRU_Attention\": optim.Adam(models[\"PubMedBERT_GRU_Attention\"].parameters(), lr=9e-5, weight_decay = 1e-5),\n",
    "}"
   ]
  },
  {
   "cell_type": "code",
   "execution_count": null,
   "metadata": {
    "colab": {
     "base_uri": "https://localhost:8080/",
     "height": 1000
    },
    "id": "ZG9wrSoCFEDn",
    "outputId": "bd74797c-bc68-4218-b8c0-074878b142b9"
   },
   "outputs": [
    {
     "name": "stdout",
     "output_type": "stream",
     "text": [
      "\n",
      "Training GloVe_GRU_BahdanauAttention model...\n",
      "\n",
      "GloVe_GRU_BahdanauAttention(\n",
      "  (embedding): Embedding(40002, 300)\n",
      "  (gru): GRU(300, 300, batch_first=True, bidirectional=True)\n",
      "  (attention): BahdanauAttention(\n",
      "    (W): Linear(in_features=600, out_features=300, bias=True)\n",
      "    (v): Linear(in_features=300, out_features=1, bias=False)\n",
      "  )\n",
      "  (fc): Linear(in_features=600, out_features=9, bias=True)\n",
      "  (dropout): Dropout(p=0.9, inplace=False)\n",
      ")\n",
      "Total trainable parameters: 13270209\n"
     ]
    },
    {
     "name": "stderr",
     "output_type": "stream",
     "text": [
      "<ipython-input-15-811d6649565c>:44: UserWarning: To copy construct from a tensor, it is recommended to use sourceTensor.clone().detach() or sourceTensor.clone().detach().requires_grad_(True), rather than torch.tensor(sourceTensor).\n",
      "  self.X = torch.tensor(X_data, dtype=torch.long)\n",
      "\u001b[34m\u001b[1mwandb\u001b[0m: Using wandb-core as the SDK backend.  Please refer to https://wandb.me/wandb-core for more information.\n"
     ]
    },
    {
     "data": {
      "application/javascript": [
       "\n",
       "        window._wandbApiKey = new Promise((resolve, reject) => {\n",
       "            function loadScript(url) {\n",
       "            return new Promise(function(resolve, reject) {\n",
       "                let newScript = document.createElement(\"script\");\n",
       "                newScript.onerror = reject;\n",
       "                newScript.onload = resolve;\n",
       "                document.body.appendChild(newScript);\n",
       "                newScript.src = url;\n",
       "            });\n",
       "            }\n",
       "            loadScript(\"https://cdn.jsdelivr.net/npm/postmate/build/postmate.min.js\").then(() => {\n",
       "            const iframe = document.createElement('iframe')\n",
       "            iframe.style.cssText = \"width:0;height:0;border:none\"\n",
       "            document.body.appendChild(iframe)\n",
       "            const handshake = new Postmate({\n",
       "                container: iframe,\n",
       "                url: 'https://wandb.ai/authorize'\n",
       "            });\n",
       "            const timeout = setTimeout(() => reject(\"Couldn't auto authenticate\"), 5000)\n",
       "            handshake.then(function(child) {\n",
       "                child.on('authorize', data => {\n",
       "                    clearTimeout(timeout)\n",
       "                    resolve(data)\n",
       "                });\n",
       "            });\n",
       "            })\n",
       "        });\n",
       "    "
      ],
      "text/plain": [
       "<IPython.core.display.Javascript object>"
      ]
     },
     "metadata": {},
     "output_type": "display_data"
    },
    {
     "name": "stderr",
     "output_type": "stream",
     "text": [
      "\u001b[34m\u001b[1mwandb\u001b[0m: Logging into wandb.ai. (Learn how to deploy a W&B server locally: https://wandb.me/wandb-server)\n",
      "\u001b[34m\u001b[1mwandb\u001b[0m: You can find your API key in your browser here: https://wandb.ai/authorize\n",
      "wandb: Paste an API key from your profile and hit enter:"
     ]
    },
    {
     "name": "stdout",
     "output_type": "stream",
     "text": [
      " ··········\n"
     ]
    },
    {
     "name": "stderr",
     "output_type": "stream",
     "text": [
      "\u001b[34m\u001b[1mwandb\u001b[0m: \u001b[33mWARNING\u001b[0m If you're specifying your api key in code, ensure this code is not shared publicly.\n",
      "\u001b[34m\u001b[1mwandb\u001b[0m: \u001b[33mWARNING\u001b[0m Consider setting the WANDB_API_KEY environment variable, or running `wandb login` from the command line.\n",
      "\u001b[34m\u001b[1mwandb\u001b[0m: No netrc file found, creating one.\n",
      "\u001b[34m\u001b[1mwandb\u001b[0m: Appending key for api.wandb.ai to your netrc file: /root/.netrc\n",
      "\u001b[34m\u001b[1mwandb\u001b[0m: Currently logged in as: \u001b[33mwilfried-mvomoeto\u001b[0m (\u001b[33mwilfried-mvomoeto-university-of-li-ge\u001b[0m) to \u001b[32mhttps://api.wandb.ai\u001b[0m. Use \u001b[1m`wandb login --relogin`\u001b[0m to force relogin\n"
     ]
    },
    {
     "data": {
      "text/html": [
       "Tracking run with wandb version 0.19.9"
      ],
      "text/plain": [
       "<IPython.core.display.HTML object>"
      ]
     },
     "metadata": {},
     "output_type": "display_data"
    },
    {
     "data": {
      "text/html": [
       "Run data is saved locally in <code>/content/wandb/run-20250408_073935-83xi3btc</code>"
      ],
      "text/plain": [
       "<IPython.core.display.HTML object>"
      ]
     },
     "metadata": {},
     "output_type": "display_data"
    },
    {
     "data": {
      "text/html": [
       "Syncing run <strong><a href='https://wandb.ai/wilfried-mvomoeto-university-of-li-ge/Multi-Class-Models-Train-Test-PubeMedBERT-Glove300d-Attention/runs/83xi3btc' target=\"_blank\">GloVe_GRU_BahdanauAttention_Training</a></strong> to <a href='https://wandb.ai/wilfried-mvomoeto-university-of-li-ge/Multi-Class-Models-Train-Test-PubeMedBERT-Glove300d-Attention' target=\"_blank\">Weights & Biases</a> (<a href='https://wandb.me/developer-guide' target=\"_blank\">docs</a>)<br>"
      ],
      "text/plain": [
       "<IPython.core.display.HTML object>"
      ]
     },
     "metadata": {},
     "output_type": "display_data"
    },
    {
     "data": {
      "text/html": [
       " View project at <a href='https://wandb.ai/wilfried-mvomoeto-university-of-li-ge/Multi-Class-Models-Train-Test-PubeMedBERT-Glove300d-Attention' target=\"_blank\">https://wandb.ai/wilfried-mvomoeto-university-of-li-ge/Multi-Class-Models-Train-Test-PubeMedBERT-Glove300d-Attention</a>"
      ],
      "text/plain": [
       "<IPython.core.display.HTML object>"
      ]
     },
     "metadata": {},
     "output_type": "display_data"
    },
    {
     "data": {
      "text/html": [
       " View run at <a href='https://wandb.ai/wilfried-mvomoeto-university-of-li-ge/Multi-Class-Models-Train-Test-PubeMedBERT-Glove300d-Attention/runs/83xi3btc' target=\"_blank\">https://wandb.ai/wilfried-mvomoeto-university-of-li-ge/Multi-Class-Models-Train-Test-PubeMedBERT-Glove300d-Attention/runs/83xi3btc</a>"
      ],
      "text/plain": [
       "<IPython.core.display.HTML object>"
      ]
     },
     "metadata": {},
     "output_type": "display_data"
    },
    {
     "name": "stderr",
     "output_type": "stream",
     "text": [
      "GloVe_GRU_BahdanauAttention Epoch 7/7 - Train Loss: 0.2639, Test Loss: 0.2997, Train Acc: 91.91%, Test Acc: 90.63%, Test F1: 90.64%, Test Balanced Acc: 90.86%, Test Recall: 90.63%, Test Precision: 90.67%, Time: 1.01 min: 100%|██████████| 7/7 [07:25<00:00, 63.63s/epoch]\n"
     ]
    },
    {
     "name": "stdout",
     "output_type": "stream",
     "text": [
      "\n",
      "Training PubMedBERT_GRU_Attention model...\n",
      "\n",
      "PubMedBERT_GRU_Attention(\n",
      "  (gru): GRU(768, 256, batch_first=True, bidirectional=True)\n",
      "  (attention): BahdanauAttention(\n",
      "    (W): Linear(in_features=512, out_features=256, bias=True)\n",
      "    (v): Linear(in_features=256, out_features=1, bias=False)\n",
      "  )\n",
      "  (fc): Linear(in_features=512, out_features=9, bias=True)\n",
      "  (dropout): Dropout(p=0.6, inplace=False)\n",
      ")\n",
      "Total trainable parameters: 1712137\n"
     ]
    },
    {
     "data": {
      "text/html": [],
      "text/plain": [
       "<IPython.core.display.HTML object>"
      ]
     },
     "metadata": {},
     "output_type": "display_data"
    },
    {
     "data": {
      "text/html": [
       "<br>    <style><br>        .wandb-row {<br>            display: flex;<br>            flex-direction: row;<br>            flex-wrap: wrap;<br>            justify-content: flex-start;<br>            width: 100%;<br>        }<br>        .wandb-col {<br>            display: flex;<br>            flex-direction: column;<br>            flex-basis: 100%;<br>            flex: 1;<br>            padding: 10px;<br>        }<br>    </style><br><div class=\"wandb-row\"><div class=\"wandb-col\"><h3>Run history:</h3><br/><table class=\"wandb\"><tr><td>test_acc</td><td>▁▂▅▆▆▇█</td></tr><tr><td>test_balanced_acc</td><td>▁▂▅▆▆▇█</td></tr><tr><td>test_f1</td><td>▁▁▅▆▆▆█</td></tr><tr><td>test_loss</td><td>█▅▄▃▃▂▁</td></tr><tr><td>test_precision</td><td>▅▁▅▆▇▇█</td></tr><tr><td>test_recall</td><td>▁▂▅▆▆▇█</td></tr><tr><td>train_acc</td><td>▁▆▇▇███</td></tr><tr><td>train_loss</td><td>█▃▂▂▂▁▁</td></tr></table><br/></div><div class=\"wandb-col\"><h3>Run summary:</h3><br/><table class=\"wandb\"><tr><td>test_acc</td><td>0.90635</td></tr><tr><td>test_balanced_acc</td><td>0.90864</td></tr><tr><td>test_f1</td><td>0.90644</td></tr><tr><td>test_loss</td><td>0.29971</td></tr><tr><td>test_precision</td><td>0.90669</td></tr><tr><td>test_recall</td><td>0.90635</td></tr><tr><td>train_acc</td><td>0.91907</td></tr><tr><td>train_loss</td><td>0.26388</td></tr></table><br/></div></div>"
      ],
      "text/plain": [
       "<IPython.core.display.HTML object>"
      ]
     },
     "metadata": {},
     "output_type": "display_data"
    },
    {
     "data": {
      "text/html": [
       " View run <strong style=\"color:#cdcd00\">GloVe_GRU_BahdanauAttention_Training</strong> at: <a href='https://wandb.ai/wilfried-mvomoeto-university-of-li-ge/Multi-Class-Models-Train-Test-PubeMedBERT-Glove300d-Attention/runs/83xi3btc' target=\"_blank\">https://wandb.ai/wilfried-mvomoeto-university-of-li-ge/Multi-Class-Models-Train-Test-PubeMedBERT-Glove300d-Attention/runs/83xi3btc</a><br> View project at: <a href='https://wandb.ai/wilfried-mvomoeto-university-of-li-ge/Multi-Class-Models-Train-Test-PubeMedBERT-Glove300d-Attention' target=\"_blank\">https://wandb.ai/wilfried-mvomoeto-university-of-li-ge/Multi-Class-Models-Train-Test-PubeMedBERT-Glove300d-Attention</a><br>Synced 5 W&B file(s), 4 media file(s), 8 artifact file(s) and 0 other file(s)"
      ],
      "text/plain": [
       "<IPython.core.display.HTML object>"
      ]
     },
     "metadata": {},
     "output_type": "display_data"
    },
    {
     "data": {
      "text/html": [
       "Find logs at: <code>./wandb/run-20250408_073935-83xi3btc/logs</code>"
      ],
      "text/plain": [
       "<IPython.core.display.HTML object>"
      ]
     },
     "metadata": {},
     "output_type": "display_data"
    },
    {
     "data": {
      "text/html": [
       "Tracking run with wandb version 0.19.9"
      ],
      "text/plain": [
       "<IPython.core.display.HTML object>"
      ]
     },
     "metadata": {},
     "output_type": "display_data"
    },
    {
     "data": {
      "text/html": [
       "Run data is saved locally in <code>/content/wandb/run-20250408_074737-4xbc9s1t</code>"
      ],
      "text/plain": [
       "<IPython.core.display.HTML object>"
      ]
     },
     "metadata": {},
     "output_type": "display_data"
    },
    {
     "data": {
      "text/html": [
       "Syncing run <strong><a href='https://wandb.ai/wilfried-mvomoeto-university-of-li-ge/Multi-Class-Models-Train-Test-PubeMedBERT-Glove300d-Attention/runs/4xbc9s1t' target=\"_blank\">PubMedBERT_GRU_Attention_Training</a></strong> to <a href='https://wandb.ai/wilfried-mvomoeto-university-of-li-ge/Multi-Class-Models-Train-Test-PubeMedBERT-Glove300d-Attention' target=\"_blank\">Weights & Biases</a> (<a href='https://wandb.me/developer-guide' target=\"_blank\">docs</a>)<br>"
      ],
      "text/plain": [
       "<IPython.core.display.HTML object>"
      ]
     },
     "metadata": {},
     "output_type": "display_data"
    },
    {
     "data": {
      "text/html": [
       " View project at <a href='https://wandb.ai/wilfried-mvomoeto-university-of-li-ge/Multi-Class-Models-Train-Test-PubeMedBERT-Glove300d-Attention' target=\"_blank\">https://wandb.ai/wilfried-mvomoeto-university-of-li-ge/Multi-Class-Models-Train-Test-PubeMedBERT-Glove300d-Attention</a>"
      ],
      "text/plain": [
       "<IPython.core.display.HTML object>"
      ]
     },
     "metadata": {},
     "output_type": "display_data"
    },
    {
     "data": {
      "text/html": [
       " View run at <a href='https://wandb.ai/wilfried-mvomoeto-university-of-li-ge/Multi-Class-Models-Train-Test-PubeMedBERT-Glove300d-Attention/runs/4xbc9s1t' target=\"_blank\">https://wandb.ai/wilfried-mvomoeto-university-of-li-ge/Multi-Class-Models-Train-Test-PubeMedBERT-Glove300d-Attention/runs/4xbc9s1t</a>"
      ],
      "text/plain": [
       "<IPython.core.display.HTML object>"
      ]
     },
     "metadata": {},
     "output_type": "display_data"
    },
    {
     "name": "stderr",
     "output_type": "stream",
     "text": [
      "PubMedBERT_GRU_Attention Epoch 6/7 - Train Loss: 0.2049, Test Loss: 0.2507, Train Acc: 93.50%, Test Acc: 92.00%, Test F1: 92.01%, Test Balanced Acc: 92.28%, Test Recall: 92.00%, Test Precision: 92.06%, Time: 15.78 min:  86%|████████▌ | 6/7 [1:50:31<18:25, 1105.23s/epoch]\n"
     ]
    }
   ],
   "source": [
    "loss_function = torch.nn.CrossEntropyLoss()\n",
    "loss_gap_ratio = 1.25\n",
    "ax_accuracy_gap = 5\n",
    "num_epochs = 7\n",
    "\n",
    "model_metrics = {}\n",
    "\n",
    "for model_name, model in models.items():\n",
    "    print(f\"\\nTraining {model_name} model...\\n\")\n",
    "    print(model)\n",
    "    num_params = count_parameters(model)\n",
    "    print(f\"Total trainable parameters: {num_params}\")\n",
    "\n",
    "    reinitialize_weights(model)\n",
    "    optimizer = optimizers[model_name]\n",
    "    scheduler = ReduceLROnPlateau(optimizer, mode='min', factor=0.5, patience=2, verbose=True)\n",
    "\n",
    "    if \"PubMedBERT\" in model_name:\n",
    "        train_dataset = PubMedBERTBinaryDataset(X_train.tolist(), y_train, tokenizer)\n",
    "        val_dataset = PubMedBERTBinaryDataset(X_val.tolist(), y_val, tokenizer)\n",
    "        test_dataset = PubMedBERTBinaryDataset(X_test.tolist(), y_test, tokenizer)\n",
    "    else:\n",
    "        train_dataset = TextDataset(X_train_tensor, y_train, raw_text_data=X_train)\n",
    "        val_dataset = TextDataset(X_val_tensor, y_val, raw_text_data=X_val)\n",
    "        test_dataset = TextDataset(X_test_tensor, y_test, raw_text_data=X_test)\n",
    "\n",
    "    train_loader = DataLoader(train_dataset, batch_size=BATCH_SIZE, shuffle=True)\n",
    "    val_loader = DataLoader(val_dataset, batch_size=BATCH_SIZE, shuffle=False)\n",
    "    test_loader = DataLoader(test_dataset, batch_size=BATCH_SIZE, shuffle=False)\n",
    "    combined_dataset = ConcatDataset([train_dataset, val_dataset])\n",
    "    combined_loader = DataLoader(combined_dataset, batch_size=BATCH_SIZE, shuffle=True)\n",
    "\n",
    "    wandb.init(\n",
    "        project='Multi-Class-Models-Train-Test-PubeMedBERT-Glove300d-Attention',\n",
    "        name=f\"{model_name}_Training\",\n",
    "        config={\n",
    "            'learning_rate': 9e-5,\n",
    "            'num_epochs': num_epochs,\n",
    "            'num_layers': 1\n",
    "        }\n",
    "    )\n",
    "\n",
    "    train_losses, test_losses = [], []\n",
    "    train_accuracies, test_accuracies = [], []\n",
    "    test_f1s, test_balanced_accs, test_recalls, test_precisions = [], [], [], []\n",
    "\n",
    "    saved_once = False\n",
    "    with tqdm(total=num_epochs, desc=f\"Training {model_name}\", unit=\"epoch\") as pbar:\n",
    "        for epoch in range(num_epochs):\n",
    "            start_time = time.time()\n",
    "\n",
    "            if \"PubMedBERT\" in model_name:\n",
    "                train_loss, train_acc = train_model(model, combined_loader, optimizer, loss_function, device)\n",
    "                test_loss, test_acc, test_f1, test_balanced_acc, test_recall, test_precision = test_model(\n",
    "                    model, test_loader, loss_function, device)\n",
    "            else:\n",
    "                train_loss, train_acc = train_epoch_glove(model, combined_loader, optimizer, loss_function, device)\n",
    "                test_loss, test_acc, test_f1, test_balanced_acc, test_recall, test_precision = test_epoch_glove(\n",
    "                    model, test_loader, loss_function, device)\n",
    "\n",
    "            train_losses.append(train_loss)\n",
    "            test_losses.append(test_loss)\n",
    "            train_accuracies.append(train_acc)\n",
    "            test_accuracies.append(test_acc)\n",
    "            test_f1s.append(test_f1)\n",
    "            test_balanced_accs.append(test_balanced_acc)\n",
    "            test_recalls.append(test_recall)\n",
    "            test_precisions.append(test_precision)\n",
    "\n",
    "            wandb.log({\n",
    "                \"train_loss\": train_loss,\n",
    "                \"test_loss\": test_loss,\n",
    "                \"train_acc\": train_acc,\n",
    "                \"test_acc\": test_acc,\n",
    "                \"test_f1\": test_f1,\n",
    "                \"test_balanced_acc\": test_balanced_acc,\n",
    "                \"test_recall\": test_recall,\n",
    "                \"test_precision\": test_precision\n",
    "            })\n",
    "\n",
    "            if (test_loss > train_loss * loss_gap_ratio or train_acc - test_acc > ax_accuracy_gap / 100) and not saved_once:\n",
    "                torch.save(model.state_dict(), f\"{model_name}_early_stop.pth\")\n",
    "                saved_once = True\n",
    "                break\n",
    "\n",
    "            if epoch == num_epochs - 1 and not saved_once:\n",
    "                torch.save(model.state_dict(), f\"{model_name}_final.pth\")\n",
    "\n",
    "            pbar.set_description(\n",
    "                f\"{model_name} Epoch {epoch+1}/{num_epochs} - Train Loss: {train_loss:.4f}, Test Loss: {test_loss:.4f}, \"\n",
    "                f\"Train Acc: {train_acc:.2%}, Test Acc: {test_acc:.2%}, Test F1: {test_f1:.2%}, \"\n",
    "                f\"Test Balanced Acc: {test_balanced_acc:.2%}, Test Recall: {test_recall:.2%}, Test Precision: {test_precision:.2%}, \"\n",
    "                f\"Time: {(time.time() - start_time) / 60:.2f} min\"\n",
    "            )\n",
    "            pbar.update(1)\n",
    "\n",
    "        epoch_table = wandb.Table(columns=[\"Epoch\", \"Train Loss\", \"Test Loss\", \"Train Acc\", \"Test Acc\", \"F1\", \"Balanced Acc\", \"Recall\", \"Precision\"])\n",
    "        for epoch in range(len(train_losses)):\n",
    "            epoch_table.add_data(epoch + 1, train_losses[epoch], test_losses[epoch], train_accuracies[epoch],\n",
    "                                 test_accuracies[epoch], test_f1s[epoch], test_balanced_accs[epoch],\n",
    "                                 test_recalls[epoch], test_precisions[epoch])\n",
    "        wandb.log({f\"{model_name}_Metrics_Table\": epoch_table})\n",
    "\n",
    "        wandb.log({\n",
    "            'train_loss_over_epochs': wandb.plot.line_series(\n",
    "                xs=list(range(1, num_epochs+1)),\n",
    "                ys=[train_losses, test_losses],\n",
    "                keys=['Train Loss', 'Test Loss'],\n",
    "                title='Loss Over Epochs',\n",
    "                xname='Epoch'\n",
    "            ),\n",
    "            'train_acc_over_epochs': wandb.plot.line_series(\n",
    "                xs=list(range(1, num_epochs+1)),\n",
    "                ys=[train_accuracies, test_accuracies],\n",
    "                keys=['Train Accuracy', 'Test Accuracy'],\n",
    "                title='Accuracy Over Epochs',\n",
    "                xname='Epoch'\n",
    "            ),\n",
    "            'test_f1_over_epochs': wandb.plot.line_series(\n",
    "                xs=list(range(1, num_epochs+1)),\n",
    "                ys=[test_f1s],\n",
    "                keys=['Test F1 Score'],\n",
    "                title='Test F1 Score Over Epochs',\n",
    "                xname='Epoch'\n",
    "            )\n",
    "        })\n",
    "\n",
    "        model_metrics[model_name] = {\n",
    "            \"train_losses\": train_losses,\n",
    "            \"test_losses\": test_losses,\n",
    "            \"train_accuracies\": train_accuracies,\n",
    "            \"test_accuracies\": test_accuracies,\n",
    "            \"test_f1s\": test_f1s,\n",
    "            \"test_balanced_accs\": test_balanced_accs,\n",
    "            \"test_recalls\": test_recalls,\n",
    "            \"test_precisions\": test_precisions\n",
    "        }"
   ]
  },
  {
   "cell_type": "code",
   "execution_count": null,
   "metadata": {
    "colab": {
     "base_uri": "https://localhost:8080/",
     "height": 601
    },
    "id": "Y8QBsgPYayON",
    "outputId": "cbe7349d-6650-4065-88f5-fd87588e4194"
   },
   "outputs": [
    {
     "data": {
      "image/png": "[encoded data removed]",
      "text/plain": [
       "<Figure size 1000x600 with 1 Axes>"
      ]
     },
     "metadata": {},
     "output_type": "display_data"
    }
   ],
   "source": [
    "summary_metrics = {\n",
    "    \"Model\": [],\n",
    "    \"F1 Score\": [],\n",
    "    \"Balanced Accuracy\": [],\n",
    "    \"Recall\": [],\n",
    "    \"Precision\": []\n",
    "}\n",
    "\n",
    "for model_name, metrics in model_metrics.items():\n",
    "    summary_metrics[\"Model\"].append(model_name)\n",
    "    summary_metrics[\"F1 Score\"].append(max(metrics[\"test_f1s\"]))\n",
    "    summary_metrics[\"Balanced Accuracy\"].append(max(metrics[\"test_balanced_accs\"]))\n",
    "    summary_metrics[\"Recall\"].append(max(metrics[\"test_recalls\"]))\n",
    "    summary_metrics[\"Precision\"].append(max(metrics[\"test_precisions\"]))\n",
    "\n",
    "df_summary = pd.DataFrame(summary_metrics)\n",
    "df_melted = df_summary.melt(id_vars=\"Model\", var_name=\"Metric\", value_name=\"Score\")\n",
    "\n",
    "sns.set(style=\"whitegrid\")\n",
    "fig, ax = plt.subplots(figsize=(10, 6))\n",
    "\n",
    "models = df_summary[\"Model\"].tolist()\n",
    "palette = sns.color_palette(\"Set2\", len(models))\n",
    "\n",
    "for i, metric in enumerate(df_melted[\"Metric\"].unique()):\n",
    "    data = df_melted[df_melted[\"Metric\"] == metric]\n",
    "    max_score = data[\"Score\"].max()\n",
    "\n",
    "    for j, (index, row) in enumerate(data.iterrows()):\n",
    "        color = \"crimson\" if row[\"Score\"] == max_score else palette[models.index(row[\"Model\"])]\n",
    "        bar = ax.bar(\n",
    "            x=i - 0.3 + j * (0.6 / len(models)),\n",
    "            height=row[\"Score\"],\n",
    "            width=0.6 / len(models),\n",
    "            color=color,\n",
    "            label=row[\"Model\"] if i == 0 else \"\",\n",
    "        )\n",
    "        ax.text(\n",
    "            x=bar[0].get_x() + bar[0].get_width() / 2,\n",
    "            y=row[\"Score\"] + 0.015,\n",
    "            s=f\"{row['Score']:.2f}\",\n",
    "            ha='center',\n",
    "            va='bottom',\n",
    "            fontsize=9,\n",
    "            color='black',\n",
    "            fontweight='bold' if row[\"Score\"] == max_score else 'normal'\n",
    "        )\n",
    "\n",
    "ax.set_xticks(range(len(df_melted[\"Metric\"].unique())))\n",
    "ax.set_xticklabels(df_melted[\"Metric\"].unique())\n",
    "ax.set_ylim(0, 1.05)\n",
    "ax.set_ylabel(\"Score\")\n",
    "ax.set_title(\"Best Performance per Model (using glove 300d as embeddings)\")\n",
    "ax.grid(True, axis='y')\n",
    "\n",
    "handles, labels = ax.get_legend_handles_labels()\n",
    "by_label = dict(zip(labels, handles))\n",
    "ax.legend(by_label.values(), by_label.keys(), title=\"Model\", bbox_to_anchor=(1.05, 1), loc=\"upper left\")\n",
    "\n",
    "plt.tight_layout()\n",
    "plt.savefig(\"best_model_performance_comparison_all_values_glove300d.png\")\n",
    "plt.show()"
   ]
  },
  {
   "cell_type": "markdown",
   "metadata": {
    "id": "XZHJ3J1oB14U"
   },
   "source": [
    "---"
   ]
  },
  {
   "cell_type": "code",
   "execution_count": null,
   "metadata": {
    "id": "BqOMBPpDNUDF"
   },
   "outputs": [],
   "source": [
    "with open(\"model_metrics.pkl\", \"wb\") as f:\n",
    "    pickle.dump(model_metrics, f)\n",
    "\n",
    "with open(\"model_metrics.pkl\", \"rb\") as f:\n",
    "    model_metrics = pickle.load(f)"
   ]
  },
  {
   "cell_type": "code",
   "execution_count": null,
   "metadata": {
    "colab": {
     "base_uri": "https://localhost:8080/"
    },
    "id": "oTAUKtIQV8H0",
    "outputId": "0eb3c3de-4a46-40c0-d65d-1ef13df310c0"
   },
   "outputs": [
    {
     "name": "stderr",
     "output_type": "stream",
     "text": [
      "<ipython-input-13-811d6649565c>:44: UserWarning: To copy construct from a tensor, it is recommended to use sourceTensor.clone().detach() or sourceTensor.clone().detach().requires_grad_(True), rather than torch.tensor(sourceTensor).\n",
      "  self.X = torch.tensor(X_data, dtype=torch.long)\n"
     ]
    }
   ],
   "source": [
    "test_dataset_pubMed = PubMedBERTBinaryDataset(X_test.tolist(), y_test, tokenizer)\n",
    "test_dataset_glove = TextDataset(X_test_tensor, y_test, raw_text_data=X_test)\n",
    "\n",
    "test_loader_pubMed = DataLoader(test_dataset_pubMed, batch_size=BATCH_SIZE, shuffle=False)\n",
    "test_loader_glove = DataLoader(test_dataset_glove, batch_size=BATCH_SIZE, shuffle=False)\n",
    "\n",
    "model_glove = GloVe_GRU_BahdanauAttention(embedding_matrix=embedding_matrix, hidden_dim=300, num_classes=NUM_CLASSES, num_layers=1, dropout_prob=0.9).to(device)\n",
    "model_glove.load_state_dict(torch.load(\"/content/drive/MyDrive/GloVe_GRU_BahdanauAttention_final.pth\"))\n",
    "\n",
    "model_pubMedBert = PubMedBERT_GRU_Attention(BERT_DIM, HIDDEN_DIM,num_layers=1, dropout_prob=DROPOUT).to(device)\n",
    "model_pubMedBert.load_state_dict(torch.load(\"/content/drive/MyDrive/PubMedBERT_GRU_Attention_early_stop.pth\"))\n",
    "\n",
    "df_results_glove, df_correct_glove, df_wrong_glove, all_labels_glove, all_preds_glove = evaluate_and_analyze_glove(model_glove, test_loader_glove, device)\n",
    "df_results_pubMedBert,  df_wrong_pubMedBert,df_correct_pubMedBert, all_labels_pubMedBert, all_preds_pubMedBert= evaluate_and_analyze_pubMedBert(model_pubMedBert, test_loader_pubMed, device )"
   ]
  },
  {
   "cell_type": "code",
   "execution_count": null,
   "metadata": {
    "colab": {
     "base_uri": "https://localhost:8080/",
     "height": 707
    },
    "id": "NgKlkc1oaPFS",
    "outputId": "3e53c5ac-8298-447c-93a0-93a854be9dff"
   },
   "outputs": [
    {
     "data": {
      "image/png": "[encoded data removed]",
      "text/plain": [
       "<Figure size 1400x700 with 4 Axes>"
      ]
     },
     "metadata": {},
     "output_type": "display_data"
    }
   ],
   "source": [
    "fig, axes = plt.subplots(1, 2, figsize=(14, 7))\n",
    "\n",
    "plot_confusion_matrix(axes[0], all_labels_glove, all_preds_glove, NUM_CLASSES)\n",
    "axes[0].set_title(\"Glove (300d) + Bahdanau Attention - Model Confusion Matrix\")\n",
    "\n",
    "plot_confusion_matrix(axes[1], all_labels_pubMedBert, all_preds_pubMedBert, NUM_CLASSES)\n",
    "axes[1].set_title(\"PubMedBert + Bahdanau Attention - Model Confusion Matrix\")\n",
    "\n",
    "plt.tight_layout()\n",
    "plt.show()"
   ]
  },
  {
   "cell_type": "markdown",
   "metadata": {
    "id": "_NsaKTynB36x"
   },
   "source": [
    "---"
   ]
  },
  {
   "cell_type": "code",
   "execution_count": null,
   "metadata": {
    "colab": {
     "base_uri": "https://localhost:8080/",
     "height": 752
    },
    "id": "UIdG8uscbruq",
    "outputId": "3abed224-66af-421a-d012-d7996983f66c"
   },
   "outputs": [
    {
     "data": {
      "image/png": "[encoded data removed]",
      "text/plain": [
       "<Figure size 1600x800 with 2 Axes>"
      ]
     },
     "metadata": {},
     "output_type": "display_data"
    }
   ],
   "source": [
    "class_names_dict = {\n",
    "    0: 'Tuberculosis',\n",
    "    1: 'Cholera',\n",
    "    2: 'Leprosy',\n",
    "    3: 'Ebola',\n",
    "    4: 'Leukemia',\n",
    "    5: 'Asthma',\n",
    "    6: 'Parkinson',\n",
    "    7: 'Lupus',\n",
    "    8: 'Cystic Fibrosis'\n",
    "}\n",
    "\n",
    "wrong_df_pubMedBert = pd.DataFrame({'predictions': all_preds_pubMedBert, 'labels': all_labels_pubMedBert})\n",
    "wrong_df_pubMedBert['wrong'] = wrong_df_pubMedBert['predictions'] != wrong_df_pubMedBert['labels']\n",
    "\n",
    "wrong_df_glove = pd.DataFrame({'predictions': all_preds_glove, 'labels': all_labels_glove})\n",
    "wrong_df_glove['wrong'] = wrong_df_glove['predictions'] != wrong_df_glove['labels']\n",
    "\n",
    "def get_wrong_counts(df):\n",
    "    wrong_class_counts = defaultdict(int)\n",
    "    for _, row in df.iterrows():\n",
    "        if row['wrong']:\n",
    "            wrong_class_counts[row['predictions']] += 1\n",
    "    wrong_class_labels = sorted(wrong_class_counts.keys())\n",
    "    wrong_counts = [wrong_class_counts[label] for label in wrong_class_labels]\n",
    "    return wrong_class_labels, wrong_counts\n",
    "\n",
    "wrong_class_labels_pubMedBert, wrong_counts_pubMedBert = get_wrong_counts(wrong_df_pubMedBert)\n",
    "wrong_class_labels_glove, wrong_counts_glove = get_wrong_counts(wrong_df_glove)\n",
    "\n",
    "\n",
    "sns.set(style=\"whitegrid\", palette=\"muted\", font_scale=1.3)\n",
    "fig, axes = plt.subplots(1, 2, figsize=(16, 8))\n",
    "\n",
    "wrong_colors_pubMedBert = sns.color_palette(\"husl\", len(wrong_class_labels_pubMedBert))\n",
    "class_names_pubMedBert = [class_names_dict[label] for label in wrong_class_labels_pubMedBert]\n",
    "axes[0].barh(class_names_pubMedBert, wrong_counts_pubMedBert, color=wrong_colors_pubMedBert)\n",
    "axes[0].set_xlabel('Number of Wrong Predictions (Test Set)', fontsize=14)\n",
    "axes[0].set_ylabel('Disease Classes', fontsize=14)\n",
    "axes[0].set_title('PubMedBert: Distribution of Wrong Predictions', fontsize=16)\n",
    "for i, (count, name) in enumerate(zip(wrong_counts_pubMedBert, class_names_pubMedBert)):\n",
    "    axes[0].text(count, i, str(count), ha='left', va='center', fontsize=12)\n",
    "\n",
    "wrong_colors_glove = sns.color_palette(\"husl\", len(wrong_class_labels_glove))\n",
    "class_names_glove = [class_names_dict[label] for label in wrong_class_labels_glove]\n",
    "axes[1].barh(class_names_glove, wrong_counts_glove, color=wrong_colors_glove)\n",
    "axes[1].set_xlabel('Number of Wrong Predictions (Test Set)', fontsize=14)\n",
    "axes[1].set_ylabel('Disease Classes', fontsize=14)\n",
    "axes[1].set_title('Glove: Distribution of Wrong Predictions', fontsize=16)\n",
    "for i, (count, name) in enumerate(zip(wrong_counts_glove, class_names_glove)):\n",
    "    axes[1].text(count, i, str(count), ha='left', va='center', fontsize=12)\n",
    "\n",
    "plt.tight_layout()\n",
    "plt.show()"
   ]
  },
  {
   "cell_type": "markdown",
   "metadata": {
    "id": "o2Rp8abuB60-"
   },
   "source": [
    "---"
   ]
  }
 ],
 "metadata": {
  "accelerator": "GPU",
  "colab": {
   "gpuType": "T4",
   "provenance": []
  },
  "kernelspec": {
   "display_name": "Python 3 (ipykernel)",
   "language": "python",
   "name": "python3"
  },
  "language_info": {
   "codemirror_mode": {
    "name": "ipython",
    "version": 3
   },
   "file_extension": ".py",
   "mimetype": "text/x-python",
   "name": "python",
   "nbconvert_exporter": "python",
   "pygments_lexer": "ipython3",
   "version": "3.9.12"
  },
  "widgets": {
   "application/vnd.jupyter.widget-state+json": {
    "079fbcda32ea49719b73552ca285beda": {
     "model_module": "@jupyter-widgets/controls",
     "model_module_version": "1.5.0",
     "model_name": "ProgressStyleModel",
     "state": {
      "_model_module": "@jupyter-widgets/controls",
      "_model_module_version": "1.5.0",
      "_model_name": "ProgressStyleModel",
      "_view_count": null,
      "_view_module": "@jupyter-widgets/base",
      "_view_module_version": "1.2.0",
      "_view_name": "StyleView",
      "bar_color": null,
      "description_width": ""
     }
    },
    "1bb4c6840a4c4b1d964c1d6a22d168c1": {
     "model_module": "@jupyter-widgets/base",
     "model_module_version": "1.2.0",
     "model_name": "LayoutModel",
     "state": {
      "_model_module": "@jupyter-widgets/base",
      "_model_module_version": "1.2.0",
      "_model_name": "LayoutModel",
      "_view_count": null,
      "_view_module": "@jupyter-widgets/base",
      "_view_module_version": "1.2.0",
      "_view_name": "LayoutView",
      "align_content": null,
      "align_items": null,
      "align_self": null,
      "border": null,
      "bottom": null,
      "display": null,
      "flex": null,
      "flex_flow": null,
      "grid_area": null,
      "grid_auto_columns": null,
      "grid_auto_flow": null,
      "grid_auto_rows": null,
      "grid_column": null,
      "grid_gap": null,
      "grid_row": null,
      "grid_template_areas": null,
      "grid_template_columns": null,
      "grid_template_rows": null,
      "height": null,
      "justify_content": null,
      "justify_items": null,
      "left": null,
      "margin": null,
      "max_height": null,
      "max_width": null,
      "min_height": null,
      "min_width": null,
      "object_fit": null,
      "object_position": null,
      "order": null,
      "overflow": null,
      "overflow_x": null,
      "overflow_y": null,
      "padding": null,
      "right": null,
      "top": null,
      "visibility": null,
      "width": null
     }
    },
    "1eb515226260423dad0c9113373e5c5b": {
     "model_module": "@jupyter-widgets/controls",
     "model_module_version": "1.5.0",
     "model_name": "HTMLModel",
     "state": {
      "_dom_classes": [],
      "_model_module": "@jupyter-widgets/controls",
      "_model_module_version": "1.5.0",
      "_model_name": "HTMLModel",
      "_view_count": null,
      "_view_module": "@jupyter-widgets/controls",
      "_view_module_version": "1.5.0",
      "_view_name": "HTMLView",
      "description": "",
      "description_tooltip": null,
      "layout": "IPY_MODEL_3b3d29f84dfc463dab68e6aa67d00cf5",
      "placeholder": "​",
      "style": "IPY_MODEL_ab83152fe480402eb50f7998e666f9bf",
      "value": "config.json: 100%"
     }
    },
    "26d155f9818745628470f9d1888ef312": {
     "model_module": "@jupyter-widgets/controls",
     "model_module_version": "1.5.0",
     "model_name": "ProgressStyleModel",
     "state": {
      "_model_module": "@jupyter-widgets/controls",
      "_model_module_version": "1.5.0",
      "_model_name": "ProgressStyleModel",
      "_view_count": null,
      "_view_module": "@jupyter-widgets/base",
      "_view_module_version": "1.2.0",
      "_view_name": "StyleView",
      "bar_color": null,
      "description_width": ""
     }
    },
    "29cdbf2babea426b9e3c37e1244787b2": {
     "model_module": "@jupyter-widgets/base",
     "model_module_version": "1.2.0",
     "model_name": "LayoutModel",
     "state": {
      "_model_module": "@jupyter-widgets/base",
      "_model_module_version": "1.2.0",
      "_model_name": "LayoutModel",
      "_view_count": null,
      "_view_module": "@jupyter-widgets/base",
      "_view_module_version": "1.2.0",
      "_view_name": "LayoutView",
      "align_content": null,
      "align_items": null,
      "align_self": null,
      "border": null,
      "bottom": null,
      "display": null,
      "flex": null,
      "flex_flow": null,
      "grid_area": null,
      "grid_auto_columns": null,
      "grid_auto_flow": null,
      "grid_auto_rows": null,
      "grid_column": null,
      "grid_gap": null,
      "grid_row": null,
      "grid_template_areas": null,
      "grid_template_columns": null,
      "grid_template_rows": null,
      "height": null,
      "justify_content": null,
      "justify_items": null,
      "left": null,
      "margin": null,
      "max_height": null,
      "max_width": null,
      "min_height": null,
      "min_width": null,
      "object_fit": null,
      "object_position": null,
      "order": null,
      "overflow": null,
      "overflow_x": null,
      "overflow_y": null,
      "padding": null,
      "right": null,
      "top": null,
      "visibility": null,
      "width": null
     }
    },
    "2a27933058434a04a0c0b591af2faa56": {
     "model_module": "@jupyter-widgets/base",
     "model_module_version": "1.2.0",
     "model_name": "LayoutModel",
     "state": {
      "_model_module": "@jupyter-widgets/base",
      "_model_module_version": "1.2.0",
      "_model_name": "LayoutModel",
      "_view_count": null,
      "_view_module": "@jupyter-widgets/base",
      "_view_module_version": "1.2.0",
      "_view_name": "LayoutView",
      "align_content": null,
      "align_items": null,
      "align_self": null,
      "border": null,
      "bottom": null,
      "display": null,
      "flex": null,
      "flex_flow": null,
      "grid_area": null,
      "grid_auto_columns": null,
      "grid_auto_flow": null,
      "grid_auto_rows": null,
      "grid_column": null,
      "grid_gap": null,
      "grid_row": null,
      "grid_template_areas": null,
      "grid_template_columns": null,
      "grid_template_rows": null,
      "height": null,
      "justify_content": null,
      "justify_items": null,
      "left": null,
      "margin": null,
      "max_height": null,
      "max_width": null,
      "min_height": null,
      "min_width": null,
      "object_fit": null,
      "object_position": null,
      "order": null,
      "overflow": null,
      "overflow_x": null,
      "overflow_y": null,
      "padding": null,
      "right": null,
      "top": null,
      "visibility": null,
      "width": null
     }
    },
    "3451793cf64c4cb48368cb7d8d612c5a": {
     "model_module": "@jupyter-widgets/controls",
     "model_module_version": "1.5.0",
     "model_name": "HTMLModel",
     "state": {
      "_dom_classes": [],
      "_model_module": "@jupyter-widgets/controls",
      "_model_module_version": "1.5.0",
      "_model_name": "HTMLModel",
      "_view_count": null,
      "_view_module": "@jupyter-widgets/controls",
      "_view_module_version": "1.5.0",
      "_view_name": "HTMLView",
      "description": "",
      "description_tooltip": null,
      "layout": "IPY_MODEL_5f8928dbffa541a7a0374d79157e0437",
      "placeholder": "​",
      "style": "IPY_MODEL_7583044c86ba475e8602ffe64821ddd7",
      "value": "pytorch_model.bin: 100%"
     }
    },
    "3b3d29f84dfc463dab68e6aa67d00cf5": {
     "model_module": "@jupyter-widgets/base",
     "model_module_version": "1.2.0",
     "model_name": "LayoutModel",
     "state": {
      "_model_module": "@jupyter-widgets/base",
      "_model_module_version": "1.2.0",
      "_model_name": "LayoutModel",
      "_view_count": null,
      "_view_module": "@jupyter-widgets/base",
      "_view_module_version": "1.2.0",
      "_view_name": "LayoutView",
      "align_content": null,
      "align_items": null,
      "align_self": null,
      "border": null,
      "bottom": null,
      "display": null,
      "flex": null,
      "flex_flow": null,
      "grid_area": null,
      "grid_auto_columns": null,
      "grid_auto_flow": null,
      "grid_auto_rows": null,
      "grid_column": null,
      "grid_gap": null,
      "grid_row": null,
      "grid_template_areas": null,
      "grid_template_columns": null,
      "grid_template_rows": null,
      "height": null,
      "justify_content": null,
      "justify_items": null,
      "left": null,
      "margin": null,
      "max_height": null,
      "max_width": null,
      "min_height": null,
      "min_width": null,
      "object_fit": null,
      "object_position": null,
      "order": null,
      "overflow": null,
      "overflow_x": null,
      "overflow_y": null,
      "padding": null,
      "right": null,
      "top": null,
      "visibility": null,
      "width": null
     }
    },
    "3d07a825fb4848f5abb0011f396b5d9a": {
     "model_module": "@jupyter-widgets/controls",
     "model_module_version": "1.5.0",
     "model_name": "DescriptionStyleModel",
     "state": {
      "_model_module": "@jupyter-widgets/controls",
      "_model_module_version": "1.5.0",
      "_model_name": "DescriptionStyleModel",
      "_view_count": null,
      "_view_module": "@jupyter-widgets/base",
      "_view_module_version": "1.2.0",
      "_view_name": "StyleView",
      "description_width": ""
     }
    },
    "4148bd12068f402e8d231ba1da942169": {
     "model_module": "@jupyter-widgets/base",
     "model_module_version": "1.2.0",
     "model_name": "LayoutModel",
     "state": {
      "_model_module": "@jupyter-widgets/base",
      "_model_module_version": "1.2.0",
      "_model_name": "LayoutModel",
      "_view_count": null,
      "_view_module": "@jupyter-widgets/base",
      "_view_module_version": "1.2.0",
      "_view_name": "LayoutView",
      "align_content": null,
      "align_items": null,
      "align_self": null,
      "border": null,
      "bottom": null,
      "display": null,
      "flex": null,
      "flex_flow": null,
      "grid_area": null,
      "grid_auto_columns": null,
      "grid_auto_flow": null,
      "grid_auto_rows": null,
      "grid_column": null,
      "grid_gap": null,
      "grid_row": null,
      "grid_template_areas": null,
      "grid_template_columns": null,
      "grid_template_rows": null,
      "height": null,
      "justify_content": null,
      "justify_items": null,
      "left": null,
      "margin": null,
      "max_height": null,
      "max_width": null,
      "min_height": null,
      "min_width": null,
      "object_fit": null,
      "object_position": null,
      "order": null,
      "overflow": null,
      "overflow_x": null,
      "overflow_y": null,
      "padding": null,
      "right": null,
      "top": null,
      "visibility": null,
      "width": null
     }
    },
    "4664635d8cdf4fea8b03b4bff1eb2f59": {
     "model_module": "@jupyter-widgets/controls",
     "model_module_version": "1.5.0",
     "model_name": "DescriptionStyleModel",
     "state": {
      "_model_module": "@jupyter-widgets/controls",
      "_model_module_version": "1.5.0",
      "_model_name": "DescriptionStyleModel",
      "_view_count": null,
      "_view_module": "@jupyter-widgets/base",
      "_view_module_version": "1.2.0",
      "_view_name": "StyleView",
      "description_width": ""
     }
    },
    "4cd2551739004a2e905cde62bf0c74de": {
     "model_module": "@jupyter-widgets/controls",
     "model_module_version": "1.5.0",
     "model_name": "FloatProgressModel",
     "state": {
      "_dom_classes": [],
      "_model_module": "@jupyter-widgets/controls",
      "_model_module_version": "1.5.0",
      "_model_name": "FloatProgressModel",
      "_view_count": null,
      "_view_module": "@jupyter-widgets/controls",
      "_view_module_version": "1.5.0",
      "_view_name": "ProgressView",
      "bar_style": "success",
      "description": "",
      "description_tooltip": null,
      "layout": "IPY_MODEL_64894b04220341d7a75598b40bb84fde",
      "max": 226150,
      "min": 0,
      "orientation": "horizontal",
      "style": "IPY_MODEL_26d155f9818745628470f9d1888ef312",
      "value": 226150
     }
    },
    "5245067a00b140dda10fa36ef6a6b1d6": {
     "model_module": "@jupyter-widgets/base",
     "model_module_version": "1.2.0",
     "model_name": "LayoutModel",
     "state": {
      "_model_module": "@jupyter-widgets/base",
      "_model_module_version": "1.2.0",
      "_model_name": "LayoutModel",
      "_view_count": null,
      "_view_module": "@jupyter-widgets/base",
      "_view_module_version": "1.2.0",
      "_view_name": "LayoutView",
      "align_content": null,
      "align_items": null,
      "align_self": null,
      "border": null,
      "bottom": null,
      "display": null,
      "flex": null,
      "flex_flow": null,
      "grid_area": null,
      "grid_auto_columns": null,
      "grid_auto_flow": null,
      "grid_auto_rows": null,
      "grid_column": null,
      "grid_gap": null,
      "grid_row": null,
      "grid_template_areas": null,
      "grid_template_columns": null,
      "grid_template_rows": null,
      "height": null,
      "justify_content": null,
      "justify_items": null,
      "left": null,
      "margin": null,
      "max_height": null,
      "max_width": null,
      "min_height": null,
      "min_width": null,
      "object_fit": null,
      "object_position": null,
      "order": null,
      "overflow": null,
      "overflow_x": null,
      "overflow_y": null,
      "padding": null,
      "right": null,
      "top": null,
      "visibility": null,
      "width": null
     }
    },
    "54e23b80050f4ac5ba02ff8bb2b21ee6": {
     "model_module": "@jupyter-widgets/controls",
     "model_module_version": "1.5.0",
     "model_name": "DescriptionStyleModel",
     "state": {
      "_model_module": "@jupyter-widgets/controls",
      "_model_module_version": "1.5.0",
      "_model_name": "DescriptionStyleModel",
      "_view_count": null,
      "_view_module": "@jupyter-widgets/base",
      "_view_module_version": "1.2.0",
      "_view_name": "StyleView",
      "description_width": ""
     }
    },
    "5f8928dbffa541a7a0374d79157e0437": {
     "model_module": "@jupyter-widgets/base",
     "model_module_version": "1.2.0",
     "model_name": "LayoutModel",
     "state": {
      "_model_module": "@jupyter-widgets/base",
      "_model_module_version": "1.2.0",
      "_model_name": "LayoutModel",
      "_view_count": null,
      "_view_module": "@jupyter-widgets/base",
      "_view_module_version": "1.2.0",
      "_view_name": "LayoutView",
      "align_content": null,
      "align_items": null,
      "align_self": null,
      "border": null,
      "bottom": null,
      "display": null,
      "flex": null,
      "flex_flow": null,
      "grid_area": null,
      "grid_auto_columns": null,
      "grid_auto_flow": null,
      "grid_auto_rows": null,
      "grid_column": null,
      "grid_gap": null,
      "grid_row": null,
      "grid_template_areas": null,
      "grid_template_columns": null,
      "grid_template_rows": null,
      "height": null,
      "justify_content": null,
      "justify_items": null,
      "left": null,
      "margin": null,
      "max_height": null,
      "max_width": null,
      "min_height": null,
      "min_width": null,
      "object_fit": null,
      "object_position": null,
      "order": null,
      "overflow": null,
      "overflow_x": null,
      "overflow_y": null,
      "padding": null,
      "right": null,
      "top": null,
      "visibility": null,
      "width": null
     }
    },
    "6120d1c0e1bd429889616cc113fdc5cc": {
     "model_module": "@jupyter-widgets/controls",
     "model_module_version": "1.5.0",
     "model_name": "HTMLModel",
     "state": {
      "_dom_classes": [],
      "_model_module": "@jupyter-widgets/controls",
      "_model_module_version": "1.5.0",
      "_model_name": "HTMLModel",
      "_view_count": null,
      "_view_module": "@jupyter-widgets/controls",
      "_view_module_version": "1.5.0",
      "_view_name": "HTMLView",
      "description": "",
      "description_tooltip": null,
      "layout": "IPY_MODEL_e4cbabf2db1b401bb13e17dacd1e5aa3",
      "placeholder": "​",
      "style": "IPY_MODEL_d2140345be0b4d09b1ba9ed0eb841780",
      "value": "tokenizer_config.json: 100%"
     }
    },
    "6363a40792f645fda5cdec805adebd31": {
     "model_module": "@jupyter-widgets/controls",
     "model_module_version": "1.5.0",
     "model_name": "ProgressStyleModel",
     "state": {
      "_model_module": "@jupyter-widgets/controls",
      "_model_module_version": "1.5.0",
      "_model_name": "ProgressStyleModel",
      "_view_count": null,
      "_view_module": "@jupyter-widgets/base",
      "_view_module_version": "1.2.0",
      "_view_name": "StyleView",
      "bar_color": null,
      "description_width": ""
     }
    },
    "64894b04220341d7a75598b40bb84fde": {
     "model_module": "@jupyter-widgets/base",
     "model_module_version": "1.2.0",
     "model_name": "LayoutModel",
     "state": {
      "_model_module": "@jupyter-widgets/base",
      "_model_module_version": "1.2.0",
      "_model_name": "LayoutModel",
      "_view_count": null,
      "_view_module": "@jupyter-widgets/base",
      "_view_module_version": "1.2.0",
      "_view_name": "LayoutView",
      "align_content": null,
      "align_items": null,
      "align_self": null,
      "border": null,
      "bottom": null,
      "display": null,
      "flex": null,
      "flex_flow": null,
      "grid_area": null,
      "grid_auto_columns": null,
      "grid_auto_flow": null,
      "grid_auto_rows": null,
      "grid_column": null,
      "grid_gap": null,
      "grid_row": null,
      "grid_template_areas": null,
      "grid_template_columns": null,
      "grid_template_rows": null,
      "height": null,
      "justify_content": null,
      "justify_items": null,
      "left": null,
      "margin": null,
      "max_height": null,
      "max_width": null,
      "min_height": null,
      "min_width": null,
      "object_fit": null,
      "object_position": null,
      "order": null,
      "overflow": null,
      "overflow_x": null,
      "overflow_y": null,
      "padding": null,
      "right": null,
      "top": null,
      "visibility": null,
      "width": null
     }
    },
    "6821fecc489949ce825a5bdd09260cad": {
     "model_module": "@jupyter-widgets/base",
     "model_module_version": "1.2.0",
     "model_name": "LayoutModel",
     "state": {
      "_model_module": "@jupyter-widgets/base",
      "_model_module_version": "1.2.0",
      "_model_name": "LayoutModel",
      "_view_count": null,
      "_view_module": "@jupyter-widgets/base",
      "_view_module_version": "1.2.0",
      "_view_name": "LayoutView",
      "align_content": null,
      "align_items": null,
      "align_self": null,
      "border": null,
      "bottom": null,
      "display": null,
      "flex": null,
      "flex_flow": null,
      "grid_area": null,
      "grid_auto_columns": null,
      "grid_auto_flow": null,
      "grid_auto_rows": null,
      "grid_column": null,
      "grid_gap": null,
      "grid_row": null,
      "grid_template_areas": null,
      "grid_template_columns": null,
      "grid_template_rows": null,
      "height": null,
      "justify_content": null,
      "justify_items": null,
      "left": null,
      "margin": null,
      "max_height": null,
      "max_width": null,
      "min_height": null,
      "min_width": null,
      "object_fit": null,
      "object_position": null,
      "order": null,
      "overflow": null,
      "overflow_x": null,
      "overflow_y": null,
      "padding": null,
      "right": null,
      "top": null,
      "visibility": null,
      "width": null
     }
    },
    "6b4bac2e1b5f441da01c8282e0c511ab": {
     "model_module": "@jupyter-widgets/controls",
     "model_module_version": "1.5.0",
     "model_name": "ProgressStyleModel",
     "state": {
      "_model_module": "@jupyter-widgets/controls",
      "_model_module_version": "1.5.0",
      "_model_name": "ProgressStyleModel",
      "_view_count": null,
      "_view_module": "@jupyter-widgets/base",
      "_view_module_version": "1.2.0",
      "_view_name": "StyleView",
      "bar_color": null,
      "description_width": ""
     }
    },
    "73150f40b83146c296dfe7b1c4747785": {
     "model_module": "@jupyter-widgets/base",
     "model_module_version": "1.2.0",
     "model_name": "LayoutModel",
     "state": {
      "_model_module": "@jupyter-widgets/base",
      "_model_module_version": "1.2.0",
      "_model_name": "LayoutModel",
      "_view_count": null,
      "_view_module": "@jupyter-widgets/base",
      "_view_module_version": "1.2.0",
      "_view_name": "LayoutView",
      "align_content": null,
      "align_items": null,
      "align_self": null,
      "border": null,
      "bottom": null,
      "display": null,
      "flex": null,
      "flex_flow": null,
      "grid_area": null,
      "grid_auto_columns": null,
      "grid_auto_flow": null,
      "grid_auto_rows": null,
      "grid_column": null,
      "grid_gap": null,
      "grid_row": null,
      "grid_template_areas": null,
      "grid_template_columns": null,
      "grid_template_rows": null,
      "height": null,
      "justify_content": null,
      "justify_items": null,
      "left": null,
      "margin": null,
      "max_height": null,
      "max_width": null,
      "min_height": null,
      "min_width": null,
      "object_fit": null,
      "object_position": null,
      "order": null,
      "overflow": null,
      "overflow_x": null,
      "overflow_y": null,
      "padding": null,
      "right": null,
      "top": null,
      "visibility": null,
      "width": null
     }
    },
    "7583044c86ba475e8602ffe64821ddd7": {
     "model_module": "@jupyter-widgets/controls",
     "model_module_version": "1.5.0",
     "model_name": "DescriptionStyleModel",
     "state": {
      "_model_module": "@jupyter-widgets/controls",
      "_model_module_version": "1.5.0",
      "_model_name": "DescriptionStyleModel",
      "_view_count": null,
      "_view_module": "@jupyter-widgets/base",
      "_view_module_version": "1.2.0",
      "_view_name": "StyleView",
      "description_width": ""
     }
    },
    "76b787b4ec4046799707c1225c402d40": {
     "model_module": "@jupyter-widgets/controls",
     "model_module_version": "1.5.0",
     "model_name": "HBoxModel",
     "state": {
      "_dom_classes": [],
      "_model_module": "@jupyter-widgets/controls",
      "_model_module_version": "1.5.0",
      "_model_name": "HBoxModel",
      "_view_count": null,
      "_view_module": "@jupyter-widgets/controls",
      "_view_module_version": "1.5.0",
      "_view_name": "HBoxView",
      "box_style": "",
      "children": [
       "IPY_MODEL_6120d1c0e1bd429889616cc113fdc5cc",
       "IPY_MODEL_8fc4e96aae6e4c32a70c71acabb41ba0",
       "IPY_MODEL_84cfef658962492c99a48d74e5e9084e"
      ],
      "layout": "IPY_MODEL_4148bd12068f402e8d231ba1da942169"
     }
    },
    "7f4734982f154a2caa16114f17730da6": {
     "model_module": "@jupyter-widgets/controls",
     "model_module_version": "1.5.0",
     "model_name": "HBoxModel",
     "state": {
      "_dom_classes": [],
      "_model_module": "@jupyter-widgets/controls",
      "_model_module_version": "1.5.0",
      "_model_name": "HBoxModel",
      "_view_count": null,
      "_view_module": "@jupyter-widgets/controls",
      "_view_module_version": "1.5.0",
      "_view_name": "HBoxView",
      "box_style": "",
      "children": [
       "IPY_MODEL_3451793cf64c4cb48368cb7d8d612c5a",
       "IPY_MODEL_db5b75b937f541f9b71ac524d7348a30",
       "IPY_MODEL_ea61163d8f79483fb4530a5e6c3fc2e1"
      ],
      "layout": "IPY_MODEL_73150f40b83146c296dfe7b1c4747785"
     }
    },
    "8002e1f509b546478a6caae8f2765e90": {
     "model_module": "@jupyter-widgets/base",
     "model_module_version": "1.2.0",
     "model_name": "LayoutModel",
     "state": {
      "_model_module": "@jupyter-widgets/base",
      "_model_module_version": "1.2.0",
      "_model_name": "LayoutModel",
      "_view_count": null,
      "_view_module": "@jupyter-widgets/base",
      "_view_module_version": "1.2.0",
      "_view_name": "LayoutView",
      "align_content": null,
      "align_items": null,
      "align_self": null,
      "border": null,
      "bottom": null,
      "display": null,
      "flex": null,
      "flex_flow": null,
      "grid_area": null,
      "grid_auto_columns": null,
      "grid_auto_flow": null,
      "grid_auto_rows": null,
      "grid_column": null,
      "grid_gap": null,
      "grid_row": null,
      "grid_template_areas": null,
      "grid_template_columns": null,
      "grid_template_rows": null,
      "height": null,
      "justify_content": null,
      "justify_items": null,
      "left": null,
      "margin": null,
      "max_height": null,
      "max_width": null,
      "min_height": null,
      "min_width": null,
      "object_fit": null,
      "object_position": null,
      "order": null,
      "overflow": null,
      "overflow_x": null,
      "overflow_y": null,
      "padding": null,
      "right": null,
      "top": null,
      "visibility": null,
      "width": null
     }
    },
    "84cfef658962492c99a48d74e5e9084e": {
     "model_module": "@jupyter-widgets/controls",
     "model_module_version": "1.5.0",
     "model_name": "HTMLModel",
     "state": {
      "_dom_classes": [],
      "_model_module": "@jupyter-widgets/controls",
      "_model_module_version": "1.5.0",
      "_model_name": "HTMLModel",
      "_view_count": null,
      "_view_module": "@jupyter-widgets/controls",
      "_view_module_version": "1.5.0",
      "_view_name": "HTMLView",
      "description": "",
      "description_tooltip": null,
      "layout": "IPY_MODEL_6821fecc489949ce825a5bdd09260cad",
      "placeholder": "​",
      "style": "IPY_MODEL_3d07a825fb4848f5abb0011f396b5d9a",
      "value": " 28.0/28.0 [00:00&lt;00:00, 2.73kB/s]"
     }
    },
    "8644756723f14f9a8be5ca6ec48f4c12": {
     "model_module": "@jupyter-widgets/base",
     "model_module_version": "1.2.0",
     "model_name": "LayoutModel",
     "state": {
      "_model_module": "@jupyter-widgets/base",
      "_model_module_version": "1.2.0",
      "_model_name": "LayoutModel",
      "_view_count": null,
      "_view_module": "@jupyter-widgets/base",
      "_view_module_version": "1.2.0",
      "_view_name": "LayoutView",
      "align_content": null,
      "align_items": null,
      "align_self": null,
      "border": null,
      "bottom": null,
      "display": null,
      "flex": null,
      "flex_flow": null,
      "grid_area": null,
      "grid_auto_columns": null,
      "grid_auto_flow": null,
      "grid_auto_rows": null,
      "grid_column": null,
      "grid_gap": null,
      "grid_row": null,
      "grid_template_areas": null,
      "grid_template_columns": null,
      "grid_template_rows": null,
      "height": null,
      "justify_content": null,
      "justify_items": null,
      "left": null,
      "margin": null,
      "max_height": null,
      "max_width": null,
      "min_height": null,
      "min_width": null,
      "object_fit": null,
      "object_position": null,
      "order": null,
      "overflow": null,
      "overflow_x": null,
      "overflow_y": null,
      "padding": null,
      "right": null,
      "top": null,
      "visibility": null,
      "width": null
     }
    },
    "8fc4e96aae6e4c32a70c71acabb41ba0": {
     "model_module": "@jupyter-widgets/controls",
     "model_module_version": "1.5.0",
     "model_name": "FloatProgressModel",
     "state": {
      "_dom_classes": [],
      "_model_module": "@jupyter-widgets/controls",
      "_model_module_version": "1.5.0",
      "_model_name": "FloatProgressModel",
      "_view_count": null,
      "_view_module": "@jupyter-widgets/controls",
      "_view_module_version": "1.5.0",
      "_view_name": "ProgressView",
      "bar_style": "success",
      "description": "",
      "description_tooltip": null,
      "layout": "IPY_MODEL_ff2456873bf24cea954949d5386e4a13",
      "max": 28,
      "min": 0,
      "orientation": "horizontal",
      "style": "IPY_MODEL_6363a40792f645fda5cdec805adebd31",
      "value": 28
     }
    },
    "98b04cfdbfef41279ffbc7bd591651b2": {
     "model_module": "@jupyter-widgets/controls",
     "model_module_version": "1.5.0",
     "model_name": "HTMLModel",
     "state": {
      "_dom_classes": [],
      "_model_module": "@jupyter-widgets/controls",
      "_model_module_version": "1.5.0",
      "_model_name": "HTMLModel",
      "_view_count": null,
      "_view_module": "@jupyter-widgets/controls",
      "_view_module_version": "1.5.0",
      "_view_name": "HTMLView",
      "description": "",
      "description_tooltip": null,
      "layout": "IPY_MODEL_5245067a00b140dda10fa36ef6a6b1d6",
      "placeholder": "​",
      "style": "IPY_MODEL_54e23b80050f4ac5ba02ff8bb2b21ee6",
      "value": " 226k/226k [00:00&lt;00:00, 829kB/s]"
     }
    },
    "9acb446498fa4e39a234ed0ea86642a7": {
     "model_module": "@jupyter-widgets/controls",
     "model_module_version": "1.5.0",
     "model_name": "DescriptionStyleModel",
     "state": {
      "_model_module": "@jupyter-widgets/controls",
      "_model_module_version": "1.5.0",
      "_model_name": "DescriptionStyleModel",
      "_view_count": null,
      "_view_module": "@jupyter-widgets/base",
      "_view_module_version": "1.2.0",
      "_view_name": "StyleView",
      "description_width": ""
     }
    },
    "a04b74500a2c4b01b0638ef68188a321": {
     "model_module": "@jupyter-widgets/controls",
     "model_module_version": "1.5.0",
     "model_name": "HBoxModel",
     "state": {
      "_dom_classes": [],
      "_model_module": "@jupyter-widgets/controls",
      "_model_module_version": "1.5.0",
      "_model_name": "HBoxModel",
      "_view_count": null,
      "_view_module": "@jupyter-widgets/controls",
      "_view_module_version": "1.5.0",
      "_view_name": "HBoxView",
      "box_style": "",
      "children": [
       "IPY_MODEL_1eb515226260423dad0c9113373e5c5b",
       "IPY_MODEL_d293e866c5824c568bbd0034d58a8a1b",
       "IPY_MODEL_fa619b77cbbf48cc84f01183236caec2"
      ],
      "layout": "IPY_MODEL_2a27933058434a04a0c0b591af2faa56"
     }
    },
    "a1b273c79b3a4cb4bcf6adb0d0c702e0": {
     "model_module": "@jupyter-widgets/controls",
     "model_module_version": "1.5.0",
     "model_name": "HBoxModel",
     "state": {
      "_dom_classes": [],
      "_model_module": "@jupyter-widgets/controls",
      "_model_module_version": "1.5.0",
      "_model_name": "HBoxModel",
      "_view_count": null,
      "_view_module": "@jupyter-widgets/controls",
      "_view_module_version": "1.5.0",
      "_view_name": "HBoxView",
      "box_style": "",
      "children": [
       "IPY_MODEL_bf1e2ca0787143dd9efcdee9ac00d166",
       "IPY_MODEL_4cd2551739004a2e905cde62bf0c74de",
       "IPY_MODEL_98b04cfdbfef41279ffbc7bd591651b2"
      ],
      "layout": "IPY_MODEL_e6bfd81a9c0849b2982f6c2e67ee3d1e"
     }
    },
    "ab83152fe480402eb50f7998e666f9bf": {
     "model_module": "@jupyter-widgets/controls",
     "model_module_version": "1.5.0",
     "model_name": "DescriptionStyleModel",
     "state": {
      "_model_module": "@jupyter-widgets/controls",
      "_model_module_version": "1.5.0",
      "_model_name": "DescriptionStyleModel",
      "_view_count": null,
      "_view_module": "@jupyter-widgets/base",
      "_view_module_version": "1.2.0",
      "_view_name": "StyleView",
      "description_width": ""
     }
    },
    "bf1e2ca0787143dd9efcdee9ac00d166": {
     "model_module": "@jupyter-widgets/controls",
     "model_module_version": "1.5.0",
     "model_name": "HTMLModel",
     "state": {
      "_dom_classes": [],
      "_model_module": "@jupyter-widgets/controls",
      "_model_module_version": "1.5.0",
      "_model_name": "HTMLModel",
      "_view_count": null,
      "_view_module": "@jupyter-widgets/controls",
      "_view_module_version": "1.5.0",
      "_view_name": "HTMLView",
      "description": "",
      "description_tooltip": null,
      "layout": "IPY_MODEL_29cdbf2babea426b9e3c37e1244787b2",
      "placeholder": "​",
      "style": "IPY_MODEL_4664635d8cdf4fea8b03b4bff1eb2f59",
      "value": "vocab.txt: 100%"
     }
    },
    "cf801a9104a34d26a167c833d0351b49": {
     "model_module": "@jupyter-widgets/controls",
     "model_module_version": "1.5.0",
     "model_name": "DescriptionStyleModel",
     "state": {
      "_model_module": "@jupyter-widgets/controls",
      "_model_module_version": "1.5.0",
      "_model_name": "DescriptionStyleModel",
      "_view_count": null,
      "_view_module": "@jupyter-widgets/base",
      "_view_module_version": "1.2.0",
      "_view_name": "StyleView",
      "description_width": ""
     }
    },
    "d2140345be0b4d09b1ba9ed0eb841780": {
     "model_module": "@jupyter-widgets/controls",
     "model_module_version": "1.5.0",
     "model_name": "DescriptionStyleModel",
     "state": {
      "_model_module": "@jupyter-widgets/controls",
      "_model_module_version": "1.5.0",
      "_model_name": "DescriptionStyleModel",
      "_view_count": null,
      "_view_module": "@jupyter-widgets/base",
      "_view_module_version": "1.2.0",
      "_view_name": "StyleView",
      "description_width": ""
     }
    },
    "d293e866c5824c568bbd0034d58a8a1b": {
     "model_module": "@jupyter-widgets/controls",
     "model_module_version": "1.5.0",
     "model_name": "FloatProgressModel",
     "state": {
      "_dom_classes": [],
      "_model_module": "@jupyter-widgets/controls",
      "_model_module_version": "1.5.0",
      "_model_name": "FloatProgressModel",
      "_view_count": null,
      "_view_module": "@jupyter-widgets/controls",
      "_view_module_version": "1.5.0",
      "_view_name": "ProgressView",
      "bar_style": "success",
      "description": "",
      "description_tooltip": null,
      "layout": "IPY_MODEL_8644756723f14f9a8be5ca6ec48f4c12",
      "max": 385,
      "min": 0,
      "orientation": "horizontal",
      "style": "IPY_MODEL_6b4bac2e1b5f441da01c8282e0c511ab",
      "value": 385
     }
    },
    "db5b75b937f541f9b71ac524d7348a30": {
     "model_module": "@jupyter-widgets/controls",
     "model_module_version": "1.5.0",
     "model_name": "FloatProgressModel",
     "state": {
      "_dom_classes": [],
      "_model_module": "@jupyter-widgets/controls",
      "_model_module_version": "1.5.0",
      "_model_name": "FloatProgressModel",
      "_view_count": null,
      "_view_module": "@jupyter-widgets/controls",
      "_view_module_version": "1.5.0",
      "_view_name": "ProgressView",
      "bar_style": "success",
      "description": "",
      "description_tooltip": null,
      "layout": "IPY_MODEL_8002e1f509b546478a6caae8f2765e90",
      "max": 440474434,
      "min": 0,
      "orientation": "horizontal",
      "style": "IPY_MODEL_079fbcda32ea49719b73552ca285beda",
      "value": 440474434
     }
    },
    "e4cbabf2db1b401bb13e17dacd1e5aa3": {
     "model_module": "@jupyter-widgets/base",
     "model_module_version": "1.2.0",
     "model_name": "LayoutModel",
     "state": {
      "_model_module": "@jupyter-widgets/base",
      "_model_module_version": "1.2.0",
      "_model_name": "LayoutModel",
      "_view_count": null,
      "_view_module": "@jupyter-widgets/base",
      "_view_module_version": "1.2.0",
      "_view_name": "LayoutView",
      "align_content": null,
      "align_items": null,
      "align_self": null,
      "border": null,
      "bottom": null,
      "display": null,
      "flex": null,
      "flex_flow": null,
      "grid_area": null,
      "grid_auto_columns": null,
      "grid_auto_flow": null,
      "grid_auto_rows": null,
      "grid_column": null,
      "grid_gap": null,
      "grid_row": null,
      "grid_template_areas": null,
      "grid_template_columns": null,
      "grid_template_rows": null,
      "height": null,
      "justify_content": null,
      "justify_items": null,
      "left": null,
      "margin": null,
      "max_height": null,
      "max_width": null,
      "min_height": null,
      "min_width": null,
      "object_fit": null,
      "object_position": null,
      "order": null,
      "overflow": null,
      "overflow_x": null,
      "overflow_y": null,
      "padding": null,
      "right": null,
      "top": null,
      "visibility": null,
      "width": null
     }
    },
    "e6bfd81a9c0849b2982f6c2e67ee3d1e": {
     "model_module": "@jupyter-widgets/base",
     "model_module_version": "1.2.0",
     "model_name": "LayoutModel",
     "state": {
      "_model_module": "@jupyter-widgets/base",
      "_model_module_version": "1.2.0",
      "_model_name": "LayoutModel",
      "_view_count": null,
      "_view_module": "@jupyter-widgets/base",
      "_view_module_version": "1.2.0",
      "_view_name": "LayoutView",
      "align_content": null,
      "align_items": null,
      "align_self": null,
      "border": null,
      "bottom": null,
      "display": null,
      "flex": null,
      "flex_flow": null,
      "grid_area": null,
      "grid_auto_columns": null,
      "grid_auto_flow": null,
      "grid_auto_rows": null,
      "grid_column": null,
      "grid_gap": null,
      "grid_row": null,
      "grid_template_areas": null,
      "grid_template_columns": null,
      "grid_template_rows": null,
      "height": null,
      "justify_content": null,
      "justify_items": null,
      "left": null,
      "margin": null,
      "max_height": null,
      "max_width": null,
      "min_height": null,
      "min_width": null,
      "object_fit": null,
      "object_position": null,
      "order": null,
      "overflow": null,
      "overflow_x": null,
      "overflow_y": null,
      "padding": null,
      "right": null,
      "top": null,
      "visibility": null,
      "width": null
     }
    },
    "e9402346e3a2470b8d17ee954de98ab2": {
     "model_module": "@jupyter-widgets/base",
     "model_module_version": "1.2.0",
     "model_name": "LayoutModel",
     "state": {
      "_model_module": "@jupyter-widgets/base",
      "_model_module_version": "1.2.0",
      "_model_name": "LayoutModel",
      "_view_count": null,
      "_view_module": "@jupyter-widgets/base",
      "_view_module_version": "1.2.0",
      "_view_name": "LayoutView",
      "align_content": null,
      "align_items": null,
      "align_self": null,
      "border": null,
      "bottom": null,
      "display": null,
      "flex": null,
      "flex_flow": null,
      "grid_area": null,
      "grid_auto_columns": null,
      "grid_auto_flow": null,
      "grid_auto_rows": null,
      "grid_column": null,
      "grid_gap": null,
      "grid_row": null,
      "grid_template_areas": null,
      "grid_template_columns": null,
      "grid_template_rows": null,
      "height": null,
      "justify_content": null,
      "justify_items": null,
      "left": null,
      "margin": null,
      "max_height": null,
      "max_width": null,
      "min_height": null,
      "min_width": null,
      "object_fit": null,
      "object_position": null,
      "order": null,
      "overflow": null,
      "overflow_x": null,
      "overflow_y": null,
      "padding": null,
      "right": null,
      "top": null,
      "visibility": null,
      "width": null
     }
    },
    "ea61163d8f79483fb4530a5e6c3fc2e1": {
     "model_module": "@jupyter-widgets/controls",
     "model_module_version": "1.5.0",
     "model_name": "HTMLModel",
     "state": {
      "_dom_classes": [],
      "_model_module": "@jupyter-widgets/controls",
      "_model_module_version": "1.5.0",
      "_model_name": "HTMLModel",
      "_view_count": null,
      "_view_module": "@jupyter-widgets/controls",
      "_view_module_version": "1.5.0",
      "_view_name": "HTMLView",
      "description": "",
      "description_tooltip": null,
      "layout": "IPY_MODEL_e9402346e3a2470b8d17ee954de98ab2",
      "placeholder": "​",
      "style": "IPY_MODEL_cf801a9104a34d26a167c833d0351b49",
      "value": " 440M/440M [00:01&lt;00:00, 261MB/s]"
     }
    },
    "fa619b77cbbf48cc84f01183236caec2": {
     "model_module": "@jupyter-widgets/controls",
     "model_module_version": "1.5.0",
     "model_name": "HTMLModel",
     "state": {
      "_dom_classes": [],
      "_model_module": "@jupyter-widgets/controls",
      "_model_module_version": "1.5.0",
      "_model_name": "HTMLModel",
      "_view_count": null,
      "_view_module": "@jupyter-widgets/controls",
      "_view_module_version": "1.5.0",
      "_view_name": "HTMLView",
      "description": "",
      "description_tooltip": null,
      "layout": "IPY_MODEL_1bb4c6840a4c4b1d964c1d6a22d168c1",
      "placeholder": "​",
      "style": "IPY_MODEL_9acb446498fa4e39a234ed0ea86642a7",
      "value": " 385/385 [00:00&lt;00:00, 40.1kB/s]"
     }
    },
    "ff2456873bf24cea954949d5386e4a13": {
     "model_module": "@jupyter-widgets/base",
     "model_module_version": "1.2.0",
     "model_name": "LayoutModel",
     "state": {
      "_model_module": "@jupyter-widgets/base",
      "_model_module_version": "1.2.0",
      "_model_name": "LayoutModel",
      "_view_count": null,
      "_view_module": "@jupyter-widgets/base",
      "_view_module_version": "1.2.0",
      "_view_name": "LayoutView",
      "align_content": null,
      "align_items": null,
      "align_self": null,
      "border": null,
      "bottom": null,
      "display": null,
      "flex": null,
      "flex_flow": null,
      "grid_area": null,
      "grid_auto_columns": null,
      "grid_auto_flow": null,
      "grid_auto_rows": null,
      "grid_column": null,
      "grid_gap": null,
      "grid_row": null,
      "grid_template_areas": null,
      "grid_template_columns": null,
      "grid_template_rows": null,
      "height": null,
      "justify_content": null,
      "justify_items": null,
      "left": null,
      "margin": null,
      "max_height": null,
      "max_width": null,
      "min_height": null,
      "min_width": null,
      "object_fit": null,
      "object_position": null,
      "order": null,
      "overflow": null,
      "overflow_x": null,
      "overflow_y": null,
      "padding": null,
      "right": null,
      "top": null,
      "visibility": null,
      "width": null
     }
    }
   },
   "state": {}
  }
 },
 "nbformat": 4,
 "nbformat_minor": 1
}
